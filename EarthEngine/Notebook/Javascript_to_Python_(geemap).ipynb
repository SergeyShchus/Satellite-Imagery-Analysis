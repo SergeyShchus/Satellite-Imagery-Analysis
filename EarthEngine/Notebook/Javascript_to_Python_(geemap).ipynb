{
  "cells": [
    {
      "cell_type": "markdown",
      "metadata": {
        "id": "view-in-github",
        "colab_type": "text"
      },
      "source": [
        "<a href=\"https://colab.research.google.com/github/SergeyShchus/Satellite-Imagery-Analysis/blob/master/EarthEngine/Notebook/Javascript_to_Python_(geemap).ipynb\" target=\"_parent\"><img src=\"https://colab.research.google.com/assets/colab-badge.svg\" alt=\"Open In Colab\"/></a>"
      ]
    },
    {
      "cell_type": "markdown",
      "metadata": {
        "id": "WD-QeVYP2iMT"
      },
      "source": [
        "[geemap](https://github.com/giswqs/geemap) is an open-source Python package that comes with many helpful features that help you use Earth Engine effectively in Python. \n",
        "\n",
        "It comes with a function that can help you translate your javascript earth engine code to Python automatically.\n",
        "\n",
        "Google Colab doesn't come pre-installed with the package, so we install it via pip."
      ]
    },
    {
      "cell_type": "code",
      "execution_count": null,
      "metadata": {
        "id": "nlQ8X57t2iMW"
      },
      "outputs": [],
      "source": [
        "try:\n",
        "    import geemap\n",
        "except ModuleNotFoundError:\n",
        "    if 'google.colab' in str(get_ipython()):\n",
        "        print('geemap not found, installing via pip in Google Colab...')\n",
        "        !pip install geemap --quiet\n",
        "        import geemap\n",
        "    else:\n",
        "        print('geemap not found, please install via conda in your environment')"
      ]
    },
    {
      "cell_type": "code",
      "source": [
        "!pip install tornado==4.5.2"
      ],
      "metadata": {
        "id": "Au16ALWDahWO"
      },
      "execution_count": null,
      "outputs": []
    },
    {
      "cell_type": "code",
      "source": [
        "import geemap"
      ],
      "metadata": {
        "id": "uNxWxf33ak6E"
      },
      "execution_count": 1,
      "outputs": []
    },
    {
      "cell_type": "markdown",
      "metadata": {
        "id": "tSobQsPxZ2ya"
      },
      "source": [
        "The automatic conversion of code is done by calling the `geemap.js_snippet_to_py()` function. We first create a string with the javascript code."
      ]
    },
    {
      "cell_type": "code",
      "execution_count": 2,
      "metadata": {
        "id": "nxPPLtLI2iMa"
      },
      "outputs": [],
      "source": [
        "javascript_code = \"\"\"\n",
        "var geometry = ee.Geometry.Point([107.61303468448624, 12.130969369851766]);\n",
        "Map.centerObject(geometry, 12)\n",
        "var s2 = ee.ImageCollection(\"COPERNICUS/S2\")\n",
        "var rgbVis = {\n",
        "  min: 0.0,\n",
        "  max: 3000,\n",
        "  bands: ['B4', 'B3', 'B2'],\n",
        "};\n",
        "\n",
        "// Write a function for Cloud masking\n",
        "function maskS2clouds(image) {\n",
        "  var qa = image.select('QA60')\n",
        "  var cloudBitMask = 1 << 10;\n",
        "  var cirrusBitMask = 1 << 11;\n",
        "  var mask = qa.bitwiseAnd(cloudBitMask).eq(0).and(\n",
        "             qa.bitwiseAnd(cirrusBitMask).eq(0))\n",
        "  return image.updateMask(mask)\n",
        "      .select(\"B.*\")\n",
        "      .copyProperties(image, [\"system:time_start\"])\n",
        "}\n",
        " \n",
        "var filtered = s2\n",
        "  .filter(ee.Filter.date('2019-01-01', '2019-12-31'))\n",
        "  .filter(ee.Filter.bounds(geometry))\n",
        "  .map(maskS2clouds)\n",
        "  \n",
        "\n",
        "// Write a function that computes NDVI for an image and adds it as a band\n",
        "function addNDVI(image) {\n",
        "  var ndvi = image.normalizedDifference(['B5', 'B4']).rename('ndvi');\n",
        "  return image.addBands(ndvi);\n",
        "}\n",
        "\n",
        "var withNdvi = filtered.map(addNDVI);\n",
        "\n",
        "var composite = withNdvi.median()\n",
        "palette = [\n",
        "  'FFFFFF', 'CE7E45', 'DF923D', 'F1B555', 'FCD163', '99B718',\n",
        "  '74A901', '66A000', '529400', '3E8601', '207401', '056201',\n",
        "  '004C00', '023B01', '012E01', '011D01', '011301'];\n",
        "\n",
        "ndviVis = {min:0, max:0.5, palette: palette }\n",
        "Map.addLayer(withNdvi.select('ndvi'), ndviVis, 'NDVI Composite')\n",
        "\n",
        "\"\"\""
      ]
    },
    {
      "cell_type": "code",
      "execution_count": 3,
      "metadata": {
        "id": "zYsztHh42iMf",
        "colab": {
          "base_uri": "https://localhost:8080/"
        },
        "outputId": "2df27856-68b5-4ee0-ed73-772dcc06cda6"
      },
      "outputs": [
        {
          "output_type": "stream",
          "name": "stdout",
          "text": [
            "import ee\n",
            "import geemap\n",
            "Map = geemap.Map()\n",
            "\n",
            "geometry = ee.Geometry.Point([107.61303468448624, 12.130969369851766])\n",
            "Map.centerObject(geometry, 12)\n",
            "s2 = ee.ImageCollection(\"COPERNICUS/S2\")\n",
            "rgbVis = {\n",
            "  'min': 0.0,\n",
            "  'max': 3000,\n",
            "  'bands': ['B4', 'B3', 'B2'],\n",
            "}\n",
            "\n",
            "# Write a function for Cloud masking\n",
            "def maskS2clouds(image):\n",
            "  qa = image.select('QA60')\n",
            "  cloudBitMask = 1 << 10\n",
            "  cirrusBitMask = 1 << 11\n",
            "  mask = qa.bitwiseAnd(cloudBitMask).eq(0).And(\n",
            "             qa.bitwiseAnd(cirrusBitMask).eq(0))\n",
            "  return image.updateMask(mask) \\\n",
            "      .select(\"B.*\") \\\n",
            "      .copyProperties(image, [\"system:time_start\"])\n",
            "\n",
            "filtered = s2 \\\n",
            "  .filter(ee.Filter.date('2019-01-01', '2019-12-31')) \\\n",
            "  .filter(ee.Filter.bounds(geometry)) \\\n",
            "  .map(maskS2clouds)\n",
            "\n",
            "# Write a function that computes NDVI for an image and adds it as a band\n",
            "def addNDVI(image):\n",
            "  ndvi = image.normalizedDifference(['B5', 'B4']).rename('ndvi')\n",
            "  return image.addBands(ndvi)\n",
            "\n",
            "withNdvi = filtered.map(addNDVI)\n",
            "\n",
            "composite = withNdvi.median()\n",
            "palette = [\n",
            "  'FFFFFF', 'CE7E45', 'DF923D', 'F1B555', 'FCD163', '99B718',\n",
            "  '74A901', '66A000', '529400', '3E8601', '207401', '056201',\n",
            "  '004C00', '023B01', '012E01', '011D01', '011301']\n",
            "\n",
            "ndviVis = {'min':0, 'max':0.5, 'palette': palette }\n",
            "Map.addLayer(withNdvi.select('ndvi'), ndviVis, 'NDVI Composite')\n",
            "\n",
            "Map\n"
          ]
        }
      ],
      "source": [
        "lines = geemap.js_snippet_to_py(\n",
        "    javascript_code, add_new_cell=False,\n",
        "    import_ee=True, import_geemap=True, show_map=True)\n",
        "for line in lines:\n",
        "    print(line.rstrip())"
      ]
    },
    {
      "cell_type": "markdown",
      "metadata": {
        "id": "VKMVo9peZ2yb"
      },
      "source": [
        "The automatic conversion works great. Review it and paste it to the cell below."
      ]
    },
    {
      "cell_type": "code",
      "execution_count": 8,
      "metadata": {
        "id": "jl2zMrqfZ2yb",
        "colab": {
          "base_uri": "https://localhost:8080/",
          "height": 621,
          "referenced_widgets": [
            "fce261051e244063b0c109960b417614",
            "0172a901f2fe4ad9b8517b6cceb50b91",
            "eaeb553e72c44b9b867c9a1aef29bb49",
            "1976bfd4efff4f3fb0da9bea1c01d1e0",
            "c5a628eeff8b4231a948cb8bf5e4bd65",
            "c6f70c89831e48c18480ba5d85c01e5b",
            "d0cca58ed1104de2887323f3f17254f6",
            "d25875bee0ef45a8916c26629e29ae4c",
            "9ea066bc5431442e8da14be11775d41d",
            "0d3f23eceb4040b89df19bc394ca462f",
            "2e1bb1d05a7d4b439f2bfb31d1ff0ed2",
            "9edfb3aa0ead435c8c616edac1ae7959",
            "66edd3ab78044813acd76d875976d0e8",
            "9ab9557081604948b028b9d089c36848",
            "e5f92bab00b3458fabc9e160a8856130",
            "af031d611a7a464798374506d9a65a85",
            "3944d0f4fd404ec587fa59a48f8f36fe",
            "3bacadc6f9164c19ae1ada0612007df6",
            "1ccf998dbe564ae29e03dc6e9e50a238",
            "8f80c2c9e1b547bb8d80ead231c8df15",
            "6d74af704a464decb62d19fa93bcd529",
            "4db72e3127db472e91789fcdced1c831",
            "387e2beadf8a49c09a5d5e59c19d6913",
            "2f4907950d7c42869e5d138656fec02c",
            "bea08e31dc7c4646b699e061c7f15e16",
            "26f31ca90e51426790efcdb357802cc6"
          ]
        },
        "outputId": "3a8580d8-0a78-4583-aa21-1fdced6491ae"
      },
      "outputs": [
        {
          "output_type": "display_data",
          "data": {
            "text/plain": [
              "Map(center=[47.86999999999999, 38.022000000000006], controls=(WidgetControl(options=['position', 'transparent_…"
            ],
            "application/vnd.jupyter.widget-view+json": {
              "version_major": 2,
              "version_minor": 0,
              "model_id": "fce261051e244063b0c109960b417614"
            }
          },
          "metadata": {
            "application/vnd.jupyter.widget-view+json": {
              "colab": {
                "custom_widget_manager": {
                  "url": "https://ssl.gstatic.com/colaboratory-static/widgets/colab-cdn-widget-manager/d2e234f7cc04bf79/manager.min.js"
                }
              }
            }
          }
        }
      ],
      "source": [
        "import ee\n",
        "import geemap\n",
        "Map = geemap.Map()\n",
        "\n",
        "geometry = ee.Geometry.Point([38.022, 47.870])\n",
        "Map.centerObject(geometry, 12)\n",
        "s2 = ee.ImageCollection(\"COPERNICUS/S2\")\n",
        "rgbVis = {\n",
        "  'min': 0.0,\n",
        "  'max': 3000,\n",
        "  'bands': ['B4', 'B3', 'B2'],\n",
        "}\n",
        "\n",
        "# Write a function for Cloud masking\n",
        "def maskS2clouds(image):\n",
        "  qa = image.select('QA60')\n",
        "  cloudBitMask = 1 << 10\n",
        "  cirrusBitMask = 1 << 11\n",
        "  mask = qa.bitwiseAnd(cloudBitMask).eq(0).And(\n",
        "             qa.bitwiseAnd(cirrusBitMask).eq(0))\n",
        "  return image.updateMask(mask) \\\n",
        "      .select(\"B.*\") \\\n",
        "      .copyProperties(image, [\"system:time_start\"])\n",
        "\n",
        "filtered = s2 \\\n",
        "  .filter(ee.Filter.date('2022-07-01', '2022-07-31')) \\\n",
        "  .filter(ee.Filter.bounds(geometry)) \\\n",
        "  .map(maskS2clouds)\n",
        "\n",
        "# Write a function that computes NDVI for an image and adds it as a band\n",
        "def addNDVI(image):\n",
        "  ndvi = image.normalizedDifference(['B5', 'B4']).rename('ndvi')\n",
        "  return image.addBands(ndvi)\n",
        "\n",
        "withNdvi = filtered.map(addNDVI)\n",
        "\n",
        "composite = withNdvi.median()\n",
        "palette = [\n",
        "  'FFFFFF', 'CE7E45', 'DF923D', 'F1B555', 'FCD163', '99B718',\n",
        "  '74A901', '66A000', '529400', '3E8601', '207401', '056201',\n",
        "  '004C00', '023B01', '012E01', '011D01', '011301']\n",
        "\n",
        "ndviVis = {'min':0, 'max':0.5, 'palette': palette }\n",
        "Map.addLayer(withNdvi.select('ndvi'), ndviVis, 'NDVI Composite')\n",
        "Map"
      ]
    },
    {
      "cell_type": "markdown",
      "metadata": {
        "id": "THi-Y3SMZ2yc"
      },
      "source": [
        "### Exercise\n",
        "\n",
        "Take the Javascript code snippet below and use `geemap` to automatically convert it to Python.\n",
        "\n",
        "---\n",
        "\n",
        "```\n",
        "var admin2 = ee.FeatureCollection(\"FAO/GAUL_SIMPLIFIED_500m/2015/level2\");\n",
        "\n",
        "var karnataka = admin2.filter(ee.Filter.eq('ADM1_NAME', 'Karnataka'))\n",
        "\n",
        "var visParams = {color: 'red'}\n",
        "Map.centerObject(karnataka)\n",
        "Map.addLayer(karnataka, visParams, 'Karnataka Districts')\n",
        "```\n",
        "---"
      ]
    }
  ],
  "metadata": {
    "colab": {
      "provenance": [],
      "include_colab_link": true
    },
    "kernelspec": {
      "display_name": "Python 3 (ipykernel)",
      "language": "python",
      "name": "python3"
    },
    "language_info": {
      "codemirror_mode": {
        "name": "ipython",
        "version": 3
      },
      "file_extension": ".py",
      "mimetype": "text/x-python",
      "name": "python",
      "nbconvert_exporter": "python",
      "pygments_lexer": "ipython3",
      "version": "3.8.13"
    },
    "widgets": {
      "application/vnd.jupyter.widget-state+json": {
        "fce261051e244063b0c109960b417614": {
          "model_module": "jupyter-leaflet",
          "model_name": "LeafletMapModel",
          "model_module_version": "^0.17",
          "state": {
            "_dom_classes": [],
            "_model_module": "jupyter-leaflet",
            "_model_module_version": "^0.17",
            "_model_name": "LeafletMapModel",
            "_view_count": null,
            "_view_module": "jupyter-leaflet",
            "_view_module_version": "^0.17",
            "_view_name": "LeafletMapView",
            "bottom": 1455699,
            "bounce_at_zoom_limits": true,
            "box_zoom": true,
            "center": [
              48.14919483128466,
              38.32005500793458
            ],
            "close_popup_on_click": true,
            "controls": [
              "IPY_MODEL_0172a901f2fe4ad9b8517b6cceb50b91",
              "IPY_MODEL_eaeb553e72c44b9b867c9a1aef29bb49",
              "IPY_MODEL_1976bfd4efff4f3fb0da9bea1c01d1e0",
              "IPY_MODEL_c5a628eeff8b4231a948cb8bf5e4bd65",
              "IPY_MODEL_c6f70c89831e48c18480ba5d85c01e5b",
              "IPY_MODEL_d0cca58ed1104de2887323f3f17254f6",
              "IPY_MODEL_d25875bee0ef45a8916c26629e29ae4c",
              "IPY_MODEL_9ea066bc5431442e8da14be11775d41d"
            ],
            "crs": {
              "name": "EPSG3857",
              "custom": false
            },
            "default_style": "IPY_MODEL_0d3f23eceb4040b89df19bc394ca462f",
            "double_click_zoom": true,
            "dragging": true,
            "dragging_style": "IPY_MODEL_2e1bb1d05a7d4b439f2bfb31d1ff0ed2",
            "east": 38.37644577026368,
            "fullscreen": false,
            "inertia": true,
            "inertia_deceleration": 3000,
            "inertia_max_speed": 1500,
            "interpolation": "bilinear",
            "keyboard": true,
            "keyboard_pan_offset": 80,
            "keyboard_zoom_offset": 1,
            "layers": [
              "IPY_MODEL_9edfb3aa0ead435c8c616edac1ae7959",
              "IPY_MODEL_66edd3ab78044813acd76d875976d0e8",
              "IPY_MODEL_9ab9557081604948b028b9d089c36848"
            ],
            "layout": "IPY_MODEL_e5f92bab00b3458fabc9e160a8856130",
            "left": 2542956,
            "max_zoom": 24,
            "min_zoom": null,
            "modisdate": "2022-09-21",
            "north": 48.166371652237295,
            "options": [
              "bounce_at_zoom_limits",
              "box_zoom",
              "center",
              "close_popup_on_click",
              "double_click_zoom",
              "dragging",
              "fullscreen",
              "inertia",
              "inertia_deceleration",
              "inertia_max_speed",
              "interpolation",
              "keyboard",
              "keyboard_pan_offset",
              "keyboard_zoom_offset",
              "max_zoom",
              "min_zoom",
              "prefer_canvas",
              "scroll_wheel_zoom",
              "tap",
              "tap_tolerance",
              "touch_zoom",
              "world_copy_jump",
              "zoom",
              "zoom_animation_threshold",
              "zoom_delta",
              "zoom_snap"
            ],
            "panes": {},
            "prefer_canvas": false,
            "right": 2544270,
            "scroll_wheel_zoom": true,
            "south": 48.1320122593007,
            "style": "IPY_MODEL_0d3f23eceb4040b89df19bc394ca462f",
            "tap": true,
            "tap_tolerance": 15,
            "top": 1455099,
            "touch_zoom": true,
            "west": 38.263664245605476,
            "window_url": "https://omtluvxc8f8-496ff2e9c6d22116-0-colab.googleusercontent.com/outputframe.html?vrz=colab-20220921-060051-RC00_475785192",
            "world_copy_jump": false,
            "zoom": 14,
            "zoom_animation_threshold": 4,
            "zoom_delta": 1,
            "zoom_snap": 1
          }
        },
        "0172a901f2fe4ad9b8517b6cceb50b91": {
          "model_module": "jupyter-leaflet",
          "model_name": "LeafletWidgetControlModel",
          "model_module_version": "^0.17",
          "state": {
            "_model_module": "jupyter-leaflet",
            "_model_module_version": "^0.17",
            "_model_name": "LeafletWidgetControlModel",
            "_view_count": null,
            "_view_module": "jupyter-leaflet",
            "_view_module_version": "^0.17",
            "_view_name": "LeafletWidgetControlView",
            "max_height": null,
            "max_width": null,
            "min_height": null,
            "min_width": null,
            "options": [
              "position",
              "transparent_bg"
            ],
            "position": "topleft",
            "transparent_bg": false,
            "widget": "IPY_MODEL_3944d0f4fd404ec587fa59a48f8f36fe"
          }
        },
        "eaeb553e72c44b9b867c9a1aef29bb49": {
          "model_module": "jupyter-leaflet",
          "model_name": "LeafletZoomControlModel",
          "model_module_version": "^0.17",
          "state": {
            "_model_module": "jupyter-leaflet",
            "_model_module_version": "^0.17",
            "_model_name": "LeafletZoomControlModel",
            "_view_count": null,
            "_view_module": "jupyter-leaflet",
            "_view_module_version": "^0.17",
            "_view_name": "LeafletZoomControlView",
            "options": [
              "position",
              "zoom_in_text",
              "zoom_in_title",
              "zoom_out_text",
              "zoom_out_title"
            ],
            "position": "topleft",
            "zoom_in_text": "+",
            "zoom_in_title": "Zoom in",
            "zoom_out_text": "-",
            "zoom_out_title": "Zoom out"
          }
        },
        "1976bfd4efff4f3fb0da9bea1c01d1e0": {
          "model_module": "jupyter-leaflet",
          "model_name": "LeafletScaleControlModel",
          "model_module_version": "^0.17",
          "state": {
            "_model_module": "jupyter-leaflet",
            "_model_module_version": "^0.17",
            "_model_name": "LeafletScaleControlModel",
            "_view_count": null,
            "_view_module": "jupyter-leaflet",
            "_view_module_version": "^0.17",
            "_view_name": "LeafletScaleControlView",
            "imperial": true,
            "max_width": 100,
            "metric": true,
            "options": [
              "imperial",
              "max_width",
              "metric",
              "position",
              "update_when_idle"
            ],
            "position": "bottomleft",
            "update_when_idle": false
          }
        },
        "c5a628eeff8b4231a948cb8bf5e4bd65": {
          "model_module": "jupyter-leaflet",
          "model_name": "LeafletFullScreenControlModel",
          "model_module_version": "^0.17",
          "state": {
            "_model_module": "jupyter-leaflet",
            "_model_module_version": "^0.17",
            "_model_name": "LeafletFullScreenControlModel",
            "_view_count": null,
            "_view_module": "jupyter-leaflet",
            "_view_module_version": "^0.17",
            "_view_name": "LeafletFullScreenControlView",
            "options": [
              "position"
            ],
            "position": "topleft"
          }
        },
        "c6f70c89831e48c18480ba5d85c01e5b": {
          "model_module": "jupyter-leaflet",
          "model_name": "LeafletMeasureControlModel",
          "model_module_version": "^0.17",
          "state": {
            "_custom_units": {},
            "_model_module": "jupyter-leaflet",
            "_model_module_version": "^0.17",
            "_model_name": "LeafletMeasureControlModel",
            "_view_count": null,
            "_view_module": "jupyter-leaflet",
            "_view_module_version": "^0.17",
            "_view_name": "LeafletMeasureControlView",
            "active_color": "orange",
            "capture_z_index": 10000,
            "completed_color": "#C8F2BE",
            "options": [
              "active_color",
              "capture_z_index",
              "completed_color",
              "popup_options",
              "position",
              "primary_area_unit",
              "primary_length_unit",
              "secondary_area_unit",
              "secondary_length_unit"
            ],
            "popup_options": {
              "className": "leaflet-measure-resultpopup",
              "autoPanPadding": [
                10,
                10
              ]
            },
            "position": "bottomleft",
            "primary_area_unit": "acres",
            "primary_length_unit": "kilometers",
            "secondary_area_unit": null,
            "secondary_length_unit": null
          }
        },
        "d0cca58ed1104de2887323f3f17254f6": {
          "model_module": "jupyter-leaflet",
          "model_name": "LeafletAttributionControlModel",
          "model_module_version": "^0.17",
          "state": {
            "_model_module": "jupyter-leaflet",
            "_model_module_version": "^0.17",
            "_model_name": "LeafletAttributionControlModel",
            "_view_count": null,
            "_view_module": "jupyter-leaflet",
            "_view_module_version": "^0.17",
            "_view_name": "LeafletAttributionControlView",
            "options": [
              "position",
              "prefix"
            ],
            "position": "bottomright",
            "prefix": "ipyleaflet"
          }
        },
        "d25875bee0ef45a8916c26629e29ae4c": {
          "model_module": "jupyter-leaflet",
          "model_name": "LeafletDrawControlModel",
          "model_module_version": "^0.17",
          "state": {
            "_model_module": "jupyter-leaflet",
            "_model_module_version": "^0.17",
            "_model_name": "LeafletDrawControlModel",
            "_view_count": null,
            "_view_module": "jupyter-leaflet",
            "_view_module_version": "^0.17",
            "_view_name": "LeafletDrawControlView",
            "circle": {
              "shapeOptions": {
                "color": "#3388ff"
              }
            },
            "circlemarker": {},
            "data": [],
            "edit": true,
            "marker": {
              "shapeOptions": {
                "color": "#3388ff"
              }
            },
            "options": [
              "position"
            ],
            "polygon": {
              "shapeOptions": {}
            },
            "polyline": {
              "shapeOptions": {}
            },
            "position": "topleft",
            "rectangle": {
              "shapeOptions": {
                "color": "#3388ff"
              }
            },
            "remove": true
          }
        },
        "9ea066bc5431442e8da14be11775d41d": {
          "model_module": "jupyter-leaflet",
          "model_name": "LeafletWidgetControlModel",
          "model_module_version": "^0.17",
          "state": {
            "_model_module": "jupyter-leaflet",
            "_model_module_version": "^0.17",
            "_model_name": "LeafletWidgetControlModel",
            "_view_count": null,
            "_view_module": "jupyter-leaflet",
            "_view_module_version": "^0.17",
            "_view_name": "LeafletWidgetControlView",
            "max_height": null,
            "max_width": null,
            "min_height": null,
            "min_width": null,
            "options": [
              "position",
              "transparent_bg"
            ],
            "position": "topright",
            "transparent_bg": false,
            "widget": "IPY_MODEL_3bacadc6f9164c19ae1ada0612007df6"
          }
        },
        "0d3f23eceb4040b89df19bc394ca462f": {
          "model_module": "jupyter-leaflet",
          "model_name": "LeafletMapStyleModel",
          "model_module_version": "^0.17",
          "state": {
            "_model_module": "jupyter-leaflet",
            "_model_module_version": "^0.17",
            "_model_name": "LeafletMapStyleModel",
            "_view_count": null,
            "_view_module": "@jupyter-widgets/base",
            "_view_module_version": "1.2.0",
            "_view_name": "StyleView",
            "cursor": "grab"
          }
        },
        "2e1bb1d05a7d4b439f2bfb31d1ff0ed2": {
          "model_module": "jupyter-leaflet",
          "model_name": "LeafletMapStyleModel",
          "model_module_version": "^0.17",
          "state": {
            "_model_module": "jupyter-leaflet",
            "_model_module_version": "^0.17",
            "_model_name": "LeafletMapStyleModel",
            "_view_count": null,
            "_view_module": "@jupyter-widgets/base",
            "_view_module_version": "1.2.0",
            "_view_name": "StyleView",
            "cursor": "move"
          }
        },
        "9edfb3aa0ead435c8c616edac1ae7959": {
          "model_module": "jupyter-leaflet",
          "model_name": "LeafletTileLayerModel",
          "model_module_version": "^0.17",
          "state": {
            "_model_module": "jupyter-leaflet",
            "_model_module_version": "^0.17",
            "_model_name": "LeafletTileLayerModel",
            "_view_count": null,
            "_view_module": "jupyter-leaflet",
            "_view_module_version": "^0.17",
            "_view_name": "LeafletTileLayerView",
            "attribution": "&copy; <a href=\"https://www.openstreetmap.org/copyright\">OpenStreetMap</a> contributors",
            "base": true,
            "bottom": true,
            "bounds": null,
            "detect_retina": false,
            "loading": false,
            "max_native_zoom": null,
            "max_zoom": 19,
            "min_native_zoom": null,
            "min_zoom": 1,
            "name": "OpenStreetMap.Mapnik",
            "no_wrap": false,
            "opacity": 1,
            "options": [
              "attribution",
              "bounds",
              "detect_retina",
              "max_native_zoom",
              "max_zoom",
              "min_native_zoom",
              "min_zoom",
              "no_wrap",
              "tile_size",
              "tms",
              "zoom_offset"
            ],
            "pane": "",
            "popup": null,
            "popup_max_height": null,
            "popup_max_width": 300,
            "popup_min_width": 50,
            "show_loading": false,
            "tile_size": 256,
            "tms": false,
            "url": "https://tile.openstreetmap.org/{z}/{x}/{y}.png",
            "visible": true,
            "zoom_offset": 0
          }
        },
        "66edd3ab78044813acd76d875976d0e8": {
          "model_module": "jupyter-leaflet",
          "model_name": "LeafletTileLayerModel",
          "model_module_version": "^0.17",
          "state": {
            "_model_module": "jupyter-leaflet",
            "_model_module_version": "^0.17",
            "_model_name": "LeafletTileLayerModel",
            "_view_count": null,
            "_view_module": "jupyter-leaflet",
            "_view_module_version": "^0.17",
            "_view_name": "LeafletTileLayerView",
            "attribution": "Google",
            "base": false,
            "bottom": true,
            "bounds": null,
            "detect_retina": false,
            "loading": false,
            "max_native_zoom": null,
            "max_zoom": 22,
            "min_native_zoom": null,
            "min_zoom": 0,
            "name": "Google Maps",
            "no_wrap": false,
            "opacity": 1,
            "options": [
              "attribution",
              "bounds",
              "detect_retina",
              "max_native_zoom",
              "max_zoom",
              "min_native_zoom",
              "min_zoom",
              "no_wrap",
              "tile_size",
              "tms",
              "zoom_offset"
            ],
            "pane": "",
            "popup": null,
            "popup_max_height": null,
            "popup_max_width": 300,
            "popup_min_width": 50,
            "show_loading": false,
            "tile_size": 256,
            "tms": false,
            "url": "https://mt1.google.com/vt/lyrs=m&x={x}&y={y}&z={z}",
            "visible": true,
            "zoom_offset": 0
          }
        },
        "9ab9557081604948b028b9d089c36848": {
          "model_module": "jupyter-leaflet",
          "model_name": "LeafletTileLayerModel",
          "model_module_version": "^0.17",
          "state": {
            "_model_module": "jupyter-leaflet",
            "_model_module_version": "^0.17",
            "_model_name": "LeafletTileLayerModel",
            "_view_count": null,
            "_view_module": "jupyter-leaflet",
            "_view_module_version": "^0.17",
            "_view_name": "LeafletTileLayerView",
            "attribution": "Google Earth Engine",
            "base": false,
            "bottom": true,
            "bounds": null,
            "detect_retina": false,
            "loading": false,
            "max_native_zoom": null,
            "max_zoom": 24,
            "min_native_zoom": null,
            "min_zoom": 0,
            "name": "NDVI Composite",
            "no_wrap": false,
            "opacity": 1,
            "options": [
              "attribution",
              "bounds",
              "detect_retina",
              "max_native_zoom",
              "max_zoom",
              "min_native_zoom",
              "min_zoom",
              "no_wrap",
              "tile_size",
              "tms",
              "zoom_offset"
            ],
            "pane": "",
            "popup": null,
            "popup_max_height": null,
            "popup_max_width": 300,
            "popup_min_width": 50,
            "show_loading": false,
            "tile_size": 256,
            "tms": false,
            "url": "https://earthengine.googleapis.com/v1alpha/projects/earthengine-legacy/maps/955d2ef143ee744a4c3cea893b4b1d74-2007a441d358243652d95962ad1a4baf/tiles/{z}/{x}/{y}",
            "visible": true,
            "zoom_offset": 0
          }
        },
        "e5f92bab00b3458fabc9e160a8856130": {
          "model_module": "@jupyter-widgets/base",
          "model_name": "LayoutModel",
          "model_module_version": "1.2.0",
          "state": {
            "_model_module": "@jupyter-widgets/base",
            "_model_module_version": "1.2.0",
            "_model_name": "LayoutModel",
            "_view_count": null,
            "_view_module": "@jupyter-widgets/base",
            "_view_module_version": "1.2.0",
            "_view_name": "LayoutView",
            "align_content": null,
            "align_items": null,
            "align_self": null,
            "border": null,
            "bottom": null,
            "display": null,
            "flex": null,
            "flex_flow": null,
            "grid_area": null,
            "grid_auto_columns": null,
            "grid_auto_flow": null,
            "grid_auto_rows": null,
            "grid_column": null,
            "grid_gap": null,
            "grid_row": null,
            "grid_template_areas": null,
            "grid_template_columns": null,
            "grid_template_rows": null,
            "height": "600px",
            "justify_content": null,
            "justify_items": null,
            "left": null,
            "margin": null,
            "max_height": null,
            "max_width": null,
            "min_height": null,
            "min_width": null,
            "object_fit": null,
            "object_position": null,
            "order": null,
            "overflow": null,
            "overflow_x": null,
            "overflow_y": null,
            "padding": null,
            "right": null,
            "top": null,
            "visibility": null,
            "width": null
          }
        },
        "af031d611a7a464798374506d9a65a85": {
          "model_module": "jupyter-leaflet",
          "model_name": "LeafletMapStyleModel",
          "model_module_version": "^0.17",
          "state": {
            "_model_module": "jupyter-leaflet",
            "_model_module_version": "^0.17",
            "_model_name": "LeafletMapStyleModel",
            "_view_count": null,
            "_view_module": "@jupyter-widgets/base",
            "_view_module_version": "1.2.0",
            "_view_name": "StyleView",
            "cursor": "grab"
          }
        },
        "3944d0f4fd404ec587fa59a48f8f36fe": {
          "model_module": "@jupyter-widgets/controls",
          "model_name": "HBoxModel",
          "model_module_version": "1.5.0",
          "state": {
            "_dom_classes": [],
            "_model_module": "@jupyter-widgets/controls",
            "_model_module_version": "1.5.0",
            "_model_name": "HBoxModel",
            "_view_count": null,
            "_view_module": "@jupyter-widgets/controls",
            "_view_module_version": "1.5.0",
            "_view_name": "HBoxView",
            "box_style": "",
            "children": [
              "IPY_MODEL_1ccf998dbe564ae29e03dc6e9e50a238"
            ],
            "layout": "IPY_MODEL_8f80c2c9e1b547bb8d80ead231c8df15"
          }
        },
        "3bacadc6f9164c19ae1ada0612007df6": {
          "model_module": "@jupyter-widgets/controls",
          "model_name": "VBoxModel",
          "model_module_version": "1.5.0",
          "state": {
            "_dom_classes": [],
            "_model_module": "@jupyter-widgets/controls",
            "_model_module_version": "1.5.0",
            "_model_name": "VBoxModel",
            "_view_count": null,
            "_view_module": "@jupyter-widgets/controls",
            "_view_module_version": "1.5.0",
            "_view_name": "VBoxView",
            "box_style": "",
            "children": [
              "IPY_MODEL_6d74af704a464decb62d19fa93bcd529"
            ],
            "layout": "IPY_MODEL_4db72e3127db472e91789fcdced1c831"
          }
        },
        "1ccf998dbe564ae29e03dc6e9e50a238": {
          "model_module": "@jupyter-widgets/controls",
          "model_name": "ToggleButtonModel",
          "model_module_version": "1.5.0",
          "state": {
            "_dom_classes": [],
            "_model_module": "@jupyter-widgets/controls",
            "_model_module_version": "1.5.0",
            "_model_name": "ToggleButtonModel",
            "_view_count": null,
            "_view_module": "@jupyter-widgets/controls",
            "_view_module_version": "1.5.0",
            "_view_name": "ToggleButtonView",
            "button_style": "",
            "description": "",
            "description_tooltip": null,
            "disabled": false,
            "icon": "globe",
            "layout": "IPY_MODEL_387e2beadf8a49c09a5d5e59c19d6913",
            "style": "IPY_MODEL_2f4907950d7c42869e5d138656fec02c",
            "tooltip": "Search location/data",
            "value": false
          }
        },
        "8f80c2c9e1b547bb8d80ead231c8df15": {
          "model_module": "@jupyter-widgets/base",
          "model_name": "LayoutModel",
          "model_module_version": "1.2.0",
          "state": {
            "_model_module": "@jupyter-widgets/base",
            "_model_module_version": "1.2.0",
            "_model_name": "LayoutModel",
            "_view_count": null,
            "_view_module": "@jupyter-widgets/base",
            "_view_module_version": "1.2.0",
            "_view_name": "LayoutView",
            "align_content": null,
            "align_items": null,
            "align_self": null,
            "border": null,
            "bottom": null,
            "display": null,
            "flex": null,
            "flex_flow": null,
            "grid_area": null,
            "grid_auto_columns": null,
            "grid_auto_flow": null,
            "grid_auto_rows": null,
            "grid_column": null,
            "grid_gap": null,
            "grid_row": null,
            "grid_template_areas": null,
            "grid_template_columns": null,
            "grid_template_rows": null,
            "height": null,
            "justify_content": null,
            "justify_items": null,
            "left": null,
            "margin": null,
            "max_height": null,
            "max_width": null,
            "min_height": null,
            "min_width": null,
            "object_fit": null,
            "object_position": null,
            "order": null,
            "overflow": null,
            "overflow_x": null,
            "overflow_y": null,
            "padding": null,
            "right": null,
            "top": null,
            "visibility": null,
            "width": null
          }
        },
        "6d74af704a464decb62d19fa93bcd529": {
          "model_module": "@jupyter-widgets/controls",
          "model_name": "ToggleButtonModel",
          "model_module_version": "1.5.0",
          "state": {
            "_dom_classes": [],
            "_model_module": "@jupyter-widgets/controls",
            "_model_module_version": "1.5.0",
            "_model_name": "ToggleButtonModel",
            "_view_count": null,
            "_view_module": "@jupyter-widgets/controls",
            "_view_module_version": "1.5.0",
            "_view_name": "ToggleButtonView",
            "button_style": "",
            "description": "",
            "description_tooltip": null,
            "disabled": false,
            "icon": "wrench",
            "layout": "IPY_MODEL_bea08e31dc7c4646b699e061c7f15e16",
            "style": "IPY_MODEL_26f31ca90e51426790efcdb357802cc6",
            "tooltip": "Toolbar",
            "value": false
          }
        },
        "4db72e3127db472e91789fcdced1c831": {
          "model_module": "@jupyter-widgets/base",
          "model_name": "LayoutModel",
          "model_module_version": "1.2.0",
          "state": {
            "_model_module": "@jupyter-widgets/base",
            "_model_module_version": "1.2.0",
            "_model_name": "LayoutModel",
            "_view_count": null,
            "_view_module": "@jupyter-widgets/base",
            "_view_module_version": "1.2.0",
            "_view_name": "LayoutView",
            "align_content": null,
            "align_items": null,
            "align_self": null,
            "border": null,
            "bottom": null,
            "display": null,
            "flex": null,
            "flex_flow": null,
            "grid_area": null,
            "grid_auto_columns": null,
            "grid_auto_flow": null,
            "grid_auto_rows": null,
            "grid_column": null,
            "grid_gap": null,
            "grid_row": null,
            "grid_template_areas": null,
            "grid_template_columns": null,
            "grid_template_rows": null,
            "height": null,
            "justify_content": null,
            "justify_items": null,
            "left": null,
            "margin": null,
            "max_height": null,
            "max_width": null,
            "min_height": null,
            "min_width": null,
            "object_fit": null,
            "object_position": null,
            "order": null,
            "overflow": null,
            "overflow_x": null,
            "overflow_y": null,
            "padding": null,
            "right": null,
            "top": null,
            "visibility": null,
            "width": null
          }
        },
        "387e2beadf8a49c09a5d5e59c19d6913": {
          "model_module": "@jupyter-widgets/base",
          "model_name": "LayoutModel",
          "model_module_version": "1.2.0",
          "state": {
            "_model_module": "@jupyter-widgets/base",
            "_model_module_version": "1.2.0",
            "_model_name": "LayoutModel",
            "_view_count": null,
            "_view_module": "@jupyter-widgets/base",
            "_view_module_version": "1.2.0",
            "_view_name": "LayoutView",
            "align_content": null,
            "align_items": null,
            "align_self": null,
            "border": null,
            "bottom": null,
            "display": null,
            "flex": null,
            "flex_flow": null,
            "grid_area": null,
            "grid_auto_columns": null,
            "grid_auto_flow": null,
            "grid_auto_rows": null,
            "grid_column": null,
            "grid_gap": null,
            "grid_row": null,
            "grid_template_areas": null,
            "grid_template_columns": null,
            "grid_template_rows": null,
            "height": "28px",
            "justify_content": null,
            "justify_items": null,
            "left": null,
            "margin": null,
            "max_height": null,
            "max_width": null,
            "min_height": null,
            "min_width": null,
            "object_fit": null,
            "object_position": null,
            "order": null,
            "overflow": null,
            "overflow_x": null,
            "overflow_y": null,
            "padding": "0px 0px 0px 4px",
            "right": null,
            "top": null,
            "visibility": null,
            "width": "28px"
          }
        },
        "2f4907950d7c42869e5d138656fec02c": {
          "model_module": "@jupyter-widgets/controls",
          "model_name": "DescriptionStyleModel",
          "model_module_version": "1.5.0",
          "state": {
            "_model_module": "@jupyter-widgets/controls",
            "_model_module_version": "1.5.0",
            "_model_name": "DescriptionStyleModel",
            "_view_count": null,
            "_view_module": "@jupyter-widgets/base",
            "_view_module_version": "1.2.0",
            "_view_name": "StyleView",
            "description_width": ""
          }
        },
        "bea08e31dc7c4646b699e061c7f15e16": {
          "model_module": "@jupyter-widgets/base",
          "model_name": "LayoutModel",
          "model_module_version": "1.2.0",
          "state": {
            "_model_module": "@jupyter-widgets/base",
            "_model_module_version": "1.2.0",
            "_model_name": "LayoutModel",
            "_view_count": null,
            "_view_module": "@jupyter-widgets/base",
            "_view_module_version": "1.2.0",
            "_view_name": "LayoutView",
            "align_content": null,
            "align_items": null,
            "align_self": null,
            "border": null,
            "bottom": null,
            "display": null,
            "flex": null,
            "flex_flow": null,
            "grid_area": null,
            "grid_auto_columns": null,
            "grid_auto_flow": null,
            "grid_auto_rows": null,
            "grid_column": null,
            "grid_gap": null,
            "grid_row": null,
            "grid_template_areas": null,
            "grid_template_columns": null,
            "grid_template_rows": null,
            "height": "28px",
            "justify_content": null,
            "justify_items": null,
            "left": null,
            "margin": null,
            "max_height": null,
            "max_width": null,
            "min_height": null,
            "min_width": null,
            "object_fit": null,
            "object_position": null,
            "order": null,
            "overflow": null,
            "overflow_x": null,
            "overflow_y": null,
            "padding": "0px 0px 0px 4px",
            "right": null,
            "top": null,
            "visibility": null,
            "width": "28px"
          }
        },
        "26f31ca90e51426790efcdb357802cc6": {
          "model_module": "@jupyter-widgets/controls",
          "model_name": "DescriptionStyleModel",
          "model_module_version": "1.5.0",
          "state": {
            "_model_module": "@jupyter-widgets/controls",
            "_model_module_version": "1.5.0",
            "_model_name": "DescriptionStyleModel",
            "_view_count": null,
            "_view_module": "@jupyter-widgets/base",
            "_view_module_version": "1.2.0",
            "_view_name": "StyleView",
            "description_width": ""
          }
        }
      }
    }
  },
  "nbformat": 4,
  "nbformat_minor": 0
}