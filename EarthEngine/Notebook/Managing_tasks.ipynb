{
  "cells": [
    {
      "cell_type": "markdown",
      "metadata": {
        "id": "view-in-github",
        "colab_type": "text"
      },
      "source": [
        "<a href=\"https://colab.research.google.com/github/SergeyShchus/Satellite-Imagery-Analysis/blob/master/EarthEngine/Notebook/Managing_tasks.ipynb\" target=\"_parent\"><img src=\"https://colab.research.google.com/assets/colab-badge.svg\" alt=\"Open In Colab\"/></a>"
      ]
    },
    {
      "cell_type": "markdown",
      "metadata": {
        "id": "otHD4BVneliP"
      },
      "source": [
        "One of the most commonly asked questions by Earth Engine users is - *How do I download all images in a collection*? The Earth Engine Python API comes with a `ee.batch` module that allows you to launch batch exports and manage tasks. The recommended way to do batch exports like this is to use the Python API's `ee.batch.Export` functions and use a Python for-loop to iterate and export each image. The `ee.batch` module also gives you ability to control *Tasks* - allowing you to automate exports."
      ]
    },
    {
      "cell_type": "code",
      "execution_count": 1,
      "metadata": {
        "id": "JuN5rEoyjmjK"
      },
      "outputs": [],
      "source": [
        "import ee"
      ]
    },
    {
      "cell_type": "code",
      "execution_count": 2,
      "metadata": {
        "id": "Sz-01eMjg72f",
        "colab": {
          "base_uri": "https://localhost:8080/"
        },
        "outputId": "b5a4f55c-51f4-43be-c9c6-088540bccbc2"
      },
      "outputs": [
        {
          "output_type": "stream",
          "name": "stdout",
          "text": [
            "To authorize access needed by Earth Engine, open the following URL in a web browser and follow the instructions. If the web browser does not start automatically, please manually browse the URL below.\n",
            "\n",
            "    https://code.earthengine.google.com/client-auth?scopes=https%3A//www.googleapis.com/auth/earthengine%20https%3A//www.googleapis.com/auth/devstorage.full_control&request_id=8xTyGypUnqtJXa5XCgA3L-2CG9vNah7hHAO_r_jQJd4&tc=mtRgjml8quRHkfAu85D7Ahg0M-xxOMheN1UhbhSJjNI&cc=IID7jbCslu5Jn7DwuAs7RNbEHBnOS4JQXdD7ND_fBh4\n",
            "\n",
            "The authorization workflow will generate a code, which you should paste in the box below.\n",
            "Enter verification code: 4/1ARtbsJo1xp_5203JFOhZbv7-zE6augIU6jI4tZ5cMXnVRk0RIuse2DLYb1w\n",
            "\n",
            "Successfully saved authorization token.\n"
          ]
        }
      ],
      "source": [
        "ee.Authenticate()"
      ]
    },
    {
      "cell_type": "code",
      "execution_count": 3,
      "metadata": {
        "id": "UPsm1_Qxg72j"
      },
      "outputs": [],
      "source": [
        "ee.Initialize()"
      ]
    },
    {
      "cell_type": "markdown",
      "metadata": {
        "id": "mW0ljMgeg72n"
      },
      "source": [
        "#### Create a Collection"
      ]
    },
    {
      "cell_type": "code",
      "execution_count": 4,
      "metadata": {
        "id": "S60c2-FOjx0h"
      },
      "outputs": [],
      "source": [
        "geometry = ee.Geometry.Point([107.61303468448624, 12.130969369851766])\n",
        "s2 = ee.ImageCollection(\"COPERNICUS/S2\")\n",
        "rgbVis = {\n",
        "  'min': 0.0,\n",
        "  'max': 3000,\n",
        "  'bands': ['B4', 'B3', 'B2'],\n",
        "}\n",
        "\n",
        "# Write a function for Cloud masking\n",
        "def maskS2clouds(image):\n",
        "  qa = image.select('QA60')\n",
        "  cloudBitMask = 1 << 10\n",
        "  cirrusBitMask = 1 << 11\n",
        "  mask = qa.bitwiseAnd(cloudBitMask).eq(0).And(\n",
        "             qa.bitwiseAnd(cirrusBitMask).eq(0))\n",
        "  return image.updateMask(mask) \\\n",
        "      .select(\"B.*\") \\\n",
        "      .copyProperties(image, [\"system:time_start\"])\n",
        "\n",
        "filtered = s2 \\\n",
        "  .filter(ee.Filter.date('2019-01-01', '2020-01-01')) \\\n",
        "  .filter(ee.Filter.lt('CLOUDY_PIXEL_PERCENTAGE', 30)) \\\n",
        "  .filter(ee.Filter.bounds(geometry)) \\\n",
        "  .map(maskS2clouds)\n",
        "\n",
        "# Write a function that computes NDVI for an image and adds it as a band\n",
        "def addNDVI(image):\n",
        "  ndvi = image.normalizedDifference(['B5', 'B4']).rename('ndvi')\n",
        "  return image.addBands(ndvi)\n",
        "\n",
        "withNdvi = filtered.map(addNDVI)"
      ]
    },
    {
      "cell_type": "markdown",
      "metadata": {
        "id": "s-zNDMS9g72r"
      },
      "source": [
        "#### Export All Images\n",
        "\n",
        "Exports are done via the ``ee.batch`` module. A key difference between javascript and Python version is that the `region` parameter needs to be supplied with actual geometry coordinates."
      ]
    },
    {
      "cell_type": "code",
      "execution_count": 5,
      "metadata": {
        "id": "STvfd9ABg72s",
        "colab": {
          "base_uri": "https://localhost:8080/"
        },
        "outputId": "ea73b551-e196-4d01-ab6d-837ba98e189f"
      },
      "outputs": [
        {
          "output_type": "stream",
          "name": "stdout",
          "text": [
            "Total images:  31\n"
          ]
        }
      ],
      "source": [
        "image_ids = withNdvi.aggregate_array('system:index').getInfo()\n",
        "print('Total images: ', len(image_ids))"
      ]
    },
    {
      "cell_type": "code",
      "execution_count": 6,
      "metadata": {
        "id": "CoXn1_hgoj81",
        "colab": {
          "base_uri": "https://localhost:8080/"
        },
        "outputId": "30352d85-3d44-4ccc-cda9-f9a3c0d15126"
      },
      "outputs": [
        {
          "output_type": "stream",
          "name": "stdout",
          "text": [
            "Started Task:  1\n",
            "Started Task:  2\n",
            "Started Task:  3\n",
            "Started Task:  4\n",
            "Started Task:  5\n",
            "Started Task:  6\n",
            "Started Task:  7\n",
            "Started Task:  8\n",
            "Started Task:  9\n",
            "Started Task:  10\n",
            "Started Task:  11\n",
            "Started Task:  12\n",
            "Started Task:  13\n",
            "Started Task:  14\n",
            "Started Task:  15\n",
            "Started Task:  16\n",
            "Started Task:  17\n",
            "Started Task:  18\n",
            "Started Task:  19\n",
            "Started Task:  20\n",
            "Started Task:  21\n",
            "Started Task:  22\n",
            "Started Task:  23\n",
            "Started Task:  24\n",
            "Started Task:  25\n",
            "Started Task:  26\n",
            "Started Task:  27\n",
            "Started Task:  28\n",
            "Started Task:  29\n",
            "Started Task:  30\n",
            "Started Task:  31\n"
          ]
        }
      ],
      "source": [
        "# Export with 100m resolution for this demo\n",
        "for i, image_id in enumerate(image_ids):\n",
        "  image = ee.Image(withNdvi.filter(ee.Filter.eq('system:index', image_id)).first())\n",
        "  task = ee.batch.Export.image.toDrive(**{\n",
        "    'image': image.select('ndvi'),\n",
        "    'description': 'Image Export {}'.format(i+1),\n",
        "    'fileNamePrefix': image.id().getInfo(),\n",
        "    'folder':'earthengine',\n",
        "    'scale': 100,\n",
        "    'region': image.geometry().bounds().getInfo()['coordinates'],\n",
        "    'maxPixels': 1e10\n",
        "  })\n",
        "  task.start()\n",
        "  print('Started Task: ', i+1)"
      ]
    },
    {
      "cell_type": "markdown",
      "metadata": {
        "id": "J8BtAZftg720"
      },
      "source": [
        "#### Manage Running/Waiting Tasks\n",
        "\n",
        "You can manage tasks as well. Get a list of tasks and get state information on them"
      ]
    },
    {
      "cell_type": "code",
      "execution_count": 7,
      "metadata": {
        "id": "AhNgXPb1XGBX",
        "colab": {
          "base_uri": "https://localhost:8080/"
        },
        "outputId": "5b943df7-93cc-4846-931e-009f89b5182e"
      },
      "outputs": [
        {
          "output_type": "stream",
          "name": "stdout",
          "text": [
            "QMA2N3LKPMYWNWA4MAZJJYNL READY\n",
            "WNPZWWPJGAQORLTCNVUNLTTJ READY\n",
            "MSK27QTHF23DDV6YBRJWNOKF READY\n",
            "4RPLCTHG2O3XPUY47DT2V4P2 READY\n",
            "SIWB3BHX3ZKM4KUVS7BZK7TG READY\n",
            "XHZHV3V25BEQZVL56RPRGMIW READY\n",
            "OPT2OY2EILVJZ5M2DDYXILWW READY\n",
            "JQOZ36YFL6CTPAVHSVB5TLXA READY\n",
            "RUS7YIZHIS3KSCIYQDOW5MT2 READY\n",
            "VSBGOB5XARG76ZBYQHRQ5Z6C READY\n",
            "4AOZOLNHKZZVQ3BQ2E4Z4UQP READY\n",
            "UJQQH3KYOJFN54HVI4MVNKB6 READY\n",
            "4ILOYXK6ZIXWTGCA7VVTJB4B READY\n",
            "OSGSRIN7CMYVMTRTNGO3T27T READY\n",
            "BFMZRJJ5GTFAGLVKZRSQN762 READY\n",
            "ALVNCBJCHRMSRH7JKJN7R7TK READY\n",
            "GAUARTAXCW32KUL4VE22WJ4U READY\n",
            "3WUV3PULX5OCAKLD2NLDDPYZ READY\n",
            "XZ2FKOC7G5E34IUTFMZWYO5Z READY\n",
            "BHUFCUPRXN7WBLQ3ZAQQGL2M READY\n",
            "H2RRSKGLC2MXE5TIXC5YKOOW READY\n",
            "X2HRU2LLM5BSOUS3ZXRIRDDF READY\n",
            "BCQVB6TRUB7MKVTL7VDQMO5F READY\n",
            "VQWWS6UX2W3CFP5LI56RPXMS READY\n",
            "QRZZRZLMWOOPMBAYYARZF4Z2 READY\n",
            "YYCEJ3U5D3FR2AH7V4H6TYS2 READY\n",
            "H3QNA6GTMD3QPYOYLKJ6OR3U READY\n",
            "BNDALKCKR5TD3JYQN5WMK5ZO READY\n",
            "3O2EKLLSAJDLMLEAK2BGQBCH RUNNING\n",
            "PZESR7JGSACIL2CST6FD3XTJ RUNNING\n",
            "AC2LG7BGMH3HW75FK5T5CJZO RUNNING\n",
            "NZRDUFUGBWEF4PEYPGEENYRY COMPLETED\n",
            "DQV7AY2WXCHCH4DPXEFJW3RE COMPLETED\n",
            "TFB5UY5ZVXWECDTY6NBSEY66 COMPLETED\n",
            "44WA2WALLFSWLZTVIOPRCW3C COMPLETED\n"
          ]
        }
      ],
      "source": [
        "tasks = ee.batch.Task.list()\n",
        "for task in tasks:\n",
        "  task_id = task.status()['id']\n",
        "  task_state = task.status()['state']\n",
        "  print(task_id, task_state)"
      ]
    },
    {
      "cell_type": "markdown",
      "metadata": {
        "id": "Y4kf_z5Wg723"
      },
      "source": [
        "You can cancel tasks as well"
      ]
    },
    {
      "cell_type": "code",
      "execution_count": 8,
      "metadata": {
        "id": "-u2_GpPog724",
        "colab": {
          "base_uri": "https://localhost:8080/"
        },
        "outputId": "ac061a3b-28f1-4c2a-b6e5-7046cda828b7"
      },
      "outputs": [
        {
          "output_type": "stream",
          "name": "stdout",
          "text": [
            "Task QMA2N3LKPMYWNWA4MAZJJYNL canceled\n",
            "Task WNPZWWPJGAQORLTCNVUNLTTJ canceled\n",
            "Task MSK27QTHF23DDV6YBRJWNOKF canceled\n",
            "Task 4RPLCTHG2O3XPUY47DT2V4P2 canceled\n",
            "Task SIWB3BHX3ZKM4KUVS7BZK7TG canceled\n",
            "Task XHZHV3V25BEQZVL56RPRGMIW canceled\n",
            "Task OPT2OY2EILVJZ5M2DDYXILWW canceled\n",
            "Task JQOZ36YFL6CTPAVHSVB5TLXA canceled\n",
            "Task RUS7YIZHIS3KSCIYQDOW5MT2 canceled\n",
            "Task VSBGOB5XARG76ZBYQHRQ5Z6C canceled\n",
            "Task 4AOZOLNHKZZVQ3BQ2E4Z4UQP canceled\n",
            "Task UJQQH3KYOJFN54HVI4MVNKB6 canceled\n",
            "Task 4ILOYXK6ZIXWTGCA7VVTJB4B canceled\n",
            "Task OSGSRIN7CMYVMTRTNGO3T27T canceled\n",
            "Task BFMZRJJ5GTFAGLVKZRSQN762 canceled\n",
            "Task ALVNCBJCHRMSRH7JKJN7R7TK canceled\n",
            "Task GAUARTAXCW32KUL4VE22WJ4U canceled\n",
            "Task 3WUV3PULX5OCAKLD2NLDDPYZ canceled\n",
            "Task XZ2FKOC7G5E34IUTFMZWYO5Z canceled\n",
            "Task BHUFCUPRXN7WBLQ3ZAQQGL2M canceled\n",
            "Task H2RRSKGLC2MXE5TIXC5YKOOW canceled\n",
            "Task X2HRU2LLM5BSOUS3ZXRIRDDF canceled\n",
            "Task BCQVB6TRUB7MKVTL7VDQMO5F canceled\n",
            "Task VQWWS6UX2W3CFP5LI56RPXMS canceled\n",
            "Task QRZZRZLMWOOPMBAYYARZF4Z2 canceled\n",
            "Task YYCEJ3U5D3FR2AH7V4H6TYS2 canceled\n",
            "Task H3QNA6GTMD3QPYOYLKJ6OR3U canceled\n",
            "Task BNDALKCKR5TD3JYQN5WMK5ZO canceled\n",
            "Task 3O2EKLLSAJDLMLEAK2BGQBCH state is COMPLETED\n",
            "Task PZESR7JGSACIL2CST6FD3XTJ state is COMPLETED\n",
            "Task AC2LG7BGMH3HW75FK5T5CJZO state is COMPLETED\n",
            "Task NZRDUFUGBWEF4PEYPGEENYRY state is COMPLETED\n",
            "Task DQV7AY2WXCHCH4DPXEFJW3RE state is COMPLETED\n",
            "Task TFB5UY5ZVXWECDTY6NBSEY66 state is COMPLETED\n",
            "Task 44WA2WALLFSWLZTVIOPRCW3C state is COMPLETED\n"
          ]
        }
      ],
      "source": [
        "tasks = ee.batch.Task.list()\n",
        "for task in tasks:\n",
        "    task_id = task.status()['id']\n",
        "    task_state = task.status()['state']\n",
        "    if task_state == 'RUNNING' or task_state == 'READY':\n",
        "        task.cancel()\n",
        "        print('Task {} canceled'.format(task_id))\n",
        "    else:\n",
        "        print('Task {} state is {}'.format(task_id, task_state))"
      ]
    },
    {
      "cell_type": "markdown",
      "metadata": {
        "id": "ro_5iTSEeliT"
      },
      "source": [
        "### Exercise\n",
        "\n",
        "The code below uses the TerraClimate data and creates an ImageCollection with 12 monthly images of maximum temperature. It also extract the geometry for Australia from the LSIB collection. Add the code to start an export task for each image in the collection for australia.\n",
        "\n",
        "- **Hint1**: TerraClimate images have a scale of 4638.3m\n",
        "- **Hint2**: You need to export the image contained in the clippedImage variable"
      ]
    },
    {
      "cell_type": "code",
      "execution_count": 9,
      "metadata": {
        "id": "Y4A2ZdSxeliT",
        "colab": {
          "base_uri": "https://localhost:8080/"
        },
        "outputId": "f7ae8ee0-47c1-4c4e-fe10-7b2cb6fc29e2"
      },
      "outputs": [
        {
          "output_type": "stream",
          "name": "stdout",
          "text": [
            "Total images:  12\n"
          ]
        }
      ],
      "source": [
        "import ee\n",
        "\n",
        "lsib = ee.FeatureCollection('USDOS/LSIB_SIMPLE/2017')\n",
        "australia = lsib.filter(ee.Filter.eq('country_na', 'Australia'))\n",
        "geometry = australia.geometry()\n",
        "\n",
        "terraclimate = ee.ImageCollection('IDAHO_EPSCOR/TERRACLIMATE')\n",
        "tmax = terraclimate.select('tmmx')\n",
        "\n",
        "def scale(image):\n",
        "  return image.multiply(0.1) \\\n",
        "    .copyProperties(image,['system:time_start'])\n",
        "\n",
        "tmaxScaled = tmax.map(scale)\n",
        "\n",
        "filtered = tmaxScaled \\\n",
        "  .filter(ee.Filter.date('2020-01-01', '2021-01-01')) \\\n",
        "  .filter(ee.Filter.bounds(geometry))\n",
        "\n",
        "image_ids = filtered.aggregate_array('system:index').getInfo()\n",
        "print('Total images: ', len(image_ids))"
      ]
    },
    {
      "cell_type": "markdown",
      "metadata": {
        "id": "COg54uaSeliT"
      },
      "source": [
        "Replace the comments with your code."
      ]
    },
    {
      "cell_type": "code",
      "execution_count": 10,
      "metadata": {
        "id": "JWeD-Wi4eliT"
      },
      "outputs": [],
      "source": [
        "for i, image_id in enumerate(image_ids):\n",
        "    exportImage = ee.Image(filtered.filter(ee.Filter.eq('system:index', image_id)).first())\n",
        "    # Clip the image to the region geometry\n",
        "    clippedImage = exportImage.clip(geometry)\n",
        "    \n",
        "    ## Create the export task using ee.batch.Export.image.toDrive()\n",
        "    \n",
        "    ## Start the task"
      ]
    },
    {
      "cell_type": "markdown",
      "source": [
        "# Новый раздел"
      ],
      "metadata": {
        "id": "BrumJLcsfclM"
      }
    },
    {
      "cell_type": "markdown",
      "source": [
        "# Новый раздел"
      ],
      "metadata": {
        "id": "OgqUOsfmfdEo"
      }
    },
    {
      "cell_type": "code",
      "source": [
        "from google.colab import drive\n",
        "drive.mount('/content/drive')"
      ],
      "metadata": {
        "id": "aq9GQXNdffmY"
      },
      "execution_count": null,
      "outputs": []
    }
  ],
  "metadata": {
    "colab": {
      "collapsed_sections": [],
      "provenance": [],
      "include_colab_link": true
    },
    "kernelspec": {
      "display_name": "Python 3 (ipykernel)",
      "language": "python",
      "name": "python3"
    },
    "language_info": {
      "codemirror_mode": {
        "name": "ipython",
        "version": 3
      },
      "file_extension": ".py",
      "mimetype": "text/x-python",
      "name": "python",
      "nbconvert_exporter": "python",
      "pygments_lexer": "ipython3",
      "version": "3.8.13"
    }
  },
  "nbformat": 4,
  "nbformat_minor": 0
}