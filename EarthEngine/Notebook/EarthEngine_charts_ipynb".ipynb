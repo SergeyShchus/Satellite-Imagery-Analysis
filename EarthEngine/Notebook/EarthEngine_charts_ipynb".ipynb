{
  "cells": [
    {
      "cell_type": "markdown",
      "metadata": {
        "id": "view-in-github",
        "colab_type": "text"
      },
      "source": [
        "<a href=\"https://colab.research.google.com/github/SergeyShchus/Satellite-Imagery-Analysis/blob/master/EarthEngine/Notebook/EarthEngine_charts_ipynb%22.ipynb\" target=\"_parent\"><img src=\"https://colab.research.google.com/assets/colab-badge.svg\" alt=\"Open In Colab\"/></a>"
      ]
    },
    {
      "cell_type": "markdown",
      "metadata": {
        "id": "AgAw3pbgQoF5"
      },
      "source": [
        "<a href=\"https://githubtocolab.com/giswqs/geemap/blob/master/examples/notebooks/63_charts.ipynb\" target=\"_parent\"><img src=\"https://colab.research.google.com/assets/colab-badge.svg\" alt=\"Open in Colab\"/></a>"
      ]
    },
    {
      "cell_type": "markdown",
      "metadata": {
        "id": "UrOtLI7rQoF6"
      },
      "source": [
        "**Chart Overview**\n",
        "\n",
        "Reference: https://developers.google.com/earth-engine/guides/charts_feature#column_chart"
      ]
    },
    {
      "cell_type": "code",
      "source": [
        "!pip install geemap --quiet\n",
        "\n",
        "!pip install tornado==4.5.2"
      ],
      "metadata": {
        "colab": {
          "base_uri": "https://localhost:8080/",
          "height": 518
        },
        "id": "OmcF87TjQ3KR",
        "outputId": "3f04fcf3-aa56-4e2f-ff91-ead3e0a6785b"
      },
      "execution_count": 1,
      "outputs": [
        {
          "output_type": "stream",
          "name": "stdout",
          "text": [
            "\u001b[31mERROR: pip's dependency resolver does not currently take into account all the packages that are installed. This behaviour is the source of the following dependency conflicts.\n",
            "google-colab 1.0.0 requires tornado~=5.1.0, but you have tornado 6.2 which is incompatible.\u001b[0m\n",
            "Looking in indexes: https://pypi.org/simple, https://us-python.pkg.dev/colab-wheels/public/simple/\n",
            "Collecting tornado==4.5.2\n",
            "  Using cached tornado-4.5.2-cp37-cp37m-linux_x86_64.whl\n",
            "Installing collected packages: tornado\n",
            "  Attempting uninstall: tornado\n",
            "    Found existing installation: tornado 6.2\n",
            "    Uninstalling tornado-6.2:\n",
            "      Successfully uninstalled tornado-6.2\n",
            "\u001b[31mERROR: pip's dependency resolver does not currently take into account all the packages that are installed. This behaviour is the source of the following dependency conflicts.\n",
            "nbclassic 0.4.3 requires tornado>=6.1, but you have tornado 4.5.2 which is incompatible.\n",
            "jupyterlab 3.4.7 requires tornado>=6.1.0, but you have tornado 4.5.2 which is incompatible.\n",
            "jupyter-server 1.18.1 requires tornado>=6.1.0, but you have tornado 4.5.2 which is incompatible.\n",
            "google-colab 1.0.0 requires tornado~=5.1.0, but you have tornado 4.5.2 which is incompatible.\n",
            "distributed 2022.2.0 requires tornado>=5; python_version < \"3.8\", but you have tornado 4.5.2 which is incompatible.\n",
            "bokeh 2.3.3 requires tornado>=5.1, but you have tornado 4.5.2 which is incompatible.\u001b[0m\n",
            "Successfully installed tornado-4.5.2\n"
          ]
        },
        {
          "output_type": "display_data",
          "data": {
            "application/vnd.colab-display-data+json": {
              "pip_warning": {
                "packages": [
                  "tornado"
                ]
              }
            }
          },
          "metadata": {}
        }
      ]
    },
    {
      "cell_type": "code",
      "execution_count": 2,
      "metadata": {
        "id": "2JlIWw0xQoF7"
      },
      "outputs": [],
      "source": [
        "import ee\n",
        "import geemap\n",
        "import geemap.chart as chart\n",
        "\n",
        "# from geemap import chart"
      ]
    },
    {
      "cell_type": "code",
      "execution_count": null,
      "metadata": {
        "id": "IMNbx7n3QoF7"
      },
      "outputs": [],
      "source": [
        "# geemap.update_package()"
      ]
    },
    {
      "cell_type": "markdown",
      "metadata": {
        "id": "PhfOHQfRQoF7"
      },
      "source": [
        "## Creating a chart from ee.FeatureCollection by feature\n",
        "\n",
        "Reference: https://developers.google.com/earth-engine/guides/charts_feature#uichartfeaturebyfeature"
      ]
    },
    {
      "cell_type": "code",
      "execution_count": 3,
      "metadata": {
        "id": "p_Vec1RHQoF8",
        "colab": {
          "base_uri": "https://localhost:8080/",
          "height": 784,
          "referenced_widgets": [
            "9ae96c430e7343ffbbad47e3b55e1318",
            "5d2f5ea40e1a4d7c91f233b9d4cf81af",
            "e5e5079987f540ffb7932042c863d606",
            "bfd1f655ac66450aa09394bad67308ab",
            "ff64d6b248254c45b87d6954eb051b9e",
            "63062a5651774253b4cb810cc4b6d239",
            "8ea947c40a7a4d1bb9a6d742d66bcded",
            "53197f8c644c4f87b29d8f42bcbc06b6",
            "e274a352455342ed9e5cca47630eeb80",
            "1df05cc52b6a45559f365afcac90c4fb",
            "37fbf92923e84ecdaa4cfa1b5415c340",
            "7f9c56b30cd54dce8824bd653d0974e4",
            "1cbf4754e6794067a7deb826ebcdf771",
            "f81a1d56ddd4442c8701b052144b86f9",
            "c2a2d720e7ec4d8dbd5a3e7a2e79ab8d",
            "84b3cf5c683d49cdbff7440da74aa5a6",
            "5fc0cb370785476297a1cf54b521e35d",
            "f98813c4bb944dac967b09c9dc52206a",
            "742616288f1d4f8e83010745aa99588d",
            "10dfe25979b44baea6e180a1ad991b0c",
            "e1f4f4861c5544b789a68e1329b251b4",
            "44779fa7991f468a89d1995feadeef4e",
            "d5f0d691c00d465cbe1b2bd35938af08",
            "170c1e145dcd47b4a7f929e78f289a65",
            "6d24d2270e8a4fa588a594682dc89380",
            "34c4969ab0a84d0fb174ff81901894ab"
          ]
        },
        "outputId": "347c6b72-80d4-43ea-a427-a77f8f1b3cbf"
      },
      "outputs": [
        {
          "output_type": "stream",
          "name": "stdout",
          "text": [
            "To authorize access needed by Earth Engine, open the following URL in a web browser and follow the instructions. If the web browser does not start automatically, please manually browse the URL below.\n",
            "\n",
            "    https://code.earthengine.google.com/client-auth?scopes=https%3A//www.googleapis.com/auth/earthengine%20https%3A//www.googleapis.com/auth/devstorage.full_control&request_id=-QJIpIjtmKTC8t2ByuQDxx7k21f6VVlsYqBYn5X3XWA&tc=Z5NlnYrBPLcd9Ur5VRf05hntHdrASg6X4VCg7OZN3Ik&cc=w4V5yWm6q9qbqzJfvHBLYk7t80x8AX_Uf_uCWLxzHkA\n",
            "\n",
            "The authorization workflow will generate a code, which you should paste in the box below.\n",
            "Enter verification code: 4/1ARtbsJo2SACd2Kymfrej5RjeaYI2RBqq-nmFWZexKEBH2M-ecYbNJ-u0f5o\n",
            "\n",
            "Successfully saved authorization token.\n"
          ]
        },
        {
          "output_type": "display_data",
          "data": {
            "text/plain": [
              "Map(center=[20, 0], controls=(WidgetControl(options=['position', 'transparent_bg'], widget=HBox(children=(Togg…"
            ],
            "application/vnd.jupyter.widget-view+json": {
              "version_major": 2,
              "version_minor": 0,
              "model_id": "9ae96c430e7343ffbbad47e3b55e1318"
            }
          },
          "metadata": {
            "application/vnd.jupyter.widget-view+json": {
              "colab": {
                "custom_widget_manager": {
                  "url": "https://ssl.gstatic.com/colaboratory-static/widgets/colab-cdn-widget-manager/d2e234f7cc04bf79/manager.min.js"
                }
              }
            }
          }
        }
      ],
      "source": [
        "Map = geemap.Map()\n",
        "\n",
        "features = ee.FeatureCollection('projects/google/charts_feature_example').select(\n",
        "    '[0-9][0-9]_tmean|label'\n",
        ")\n",
        "\n",
        "Map.addLayer(features, {}, \"Ecoregions\")\n",
        "Map"
      ]
    },
    {
      "cell_type": "code",
      "execution_count": 4,
      "metadata": {
        "id": "W7DJYTozQoF8",
        "colab": {
          "base_uri": "https://localhost:8080/",
          "height": 143
        },
        "outputId": "d0e00ea3-c9fd-4738-b8b0-616ef8d8eade"
      },
      "outputs": [
        {
          "output_type": "execute_result",
          "data": {
            "text/plain": [
              "   01_tmean   07_tmean   08_tmean  11_tmean   05_tmean      label   09_tmean  \\\n",
              "0  5.791036  25.066577  23.845259  9.849321  19.032815     Desert  21.454795   \n",
              "1  2.792467  17.850177  17.919983  4.784706  10.395376     Forest  15.206573   \n",
              "2 -3.756608  22.753059  21.848346  2.021918  13.643875  Grassland  16.401770   \n",
              "\n",
              "    10_tmean   04_tmean   03_tmean  12_tmean   06_tmean  02_tmean  \n",
              "0  15.997988  14.251640  10.454658  5.641386  23.790506  7.645011  \n",
              "1  10.081709   7.120137   5.032932  2.317886  13.776134  3.609074  \n",
              "2   9.263021   7.721306   2.570146 -3.426706  19.033558 -1.990220  "
            ],
            "text/html": [
              "\n",
              "  <div id=\"df-f3679622-4552-4a2a-af05-cd3b78530c65\">\n",
              "    <div class=\"colab-df-container\">\n",
              "      <div>\n",
              "<style scoped>\n",
              "    .dataframe tbody tr th:only-of-type {\n",
              "        vertical-align: middle;\n",
              "    }\n",
              "\n",
              "    .dataframe tbody tr th {\n",
              "        vertical-align: top;\n",
              "    }\n",
              "\n",
              "    .dataframe thead th {\n",
              "        text-align: right;\n",
              "    }\n",
              "</style>\n",
              "<table border=\"1\" class=\"dataframe\">\n",
              "  <thead>\n",
              "    <tr style=\"text-align: right;\">\n",
              "      <th></th>\n",
              "      <th>01_tmean</th>\n",
              "      <th>07_tmean</th>\n",
              "      <th>08_tmean</th>\n",
              "      <th>11_tmean</th>\n",
              "      <th>05_tmean</th>\n",
              "      <th>label</th>\n",
              "      <th>09_tmean</th>\n",
              "      <th>10_tmean</th>\n",
              "      <th>04_tmean</th>\n",
              "      <th>03_tmean</th>\n",
              "      <th>12_tmean</th>\n",
              "      <th>06_tmean</th>\n",
              "      <th>02_tmean</th>\n",
              "    </tr>\n",
              "  </thead>\n",
              "  <tbody>\n",
              "    <tr>\n",
              "      <th>0</th>\n",
              "      <td>5.791036</td>\n",
              "      <td>25.066577</td>\n",
              "      <td>23.845259</td>\n",
              "      <td>9.849321</td>\n",
              "      <td>19.032815</td>\n",
              "      <td>Desert</td>\n",
              "      <td>21.454795</td>\n",
              "      <td>15.997988</td>\n",
              "      <td>14.251640</td>\n",
              "      <td>10.454658</td>\n",
              "      <td>5.641386</td>\n",
              "      <td>23.790506</td>\n",
              "      <td>7.645011</td>\n",
              "    </tr>\n",
              "    <tr>\n",
              "      <th>1</th>\n",
              "      <td>2.792467</td>\n",
              "      <td>17.850177</td>\n",
              "      <td>17.919983</td>\n",
              "      <td>4.784706</td>\n",
              "      <td>10.395376</td>\n",
              "      <td>Forest</td>\n",
              "      <td>15.206573</td>\n",
              "      <td>10.081709</td>\n",
              "      <td>7.120137</td>\n",
              "      <td>5.032932</td>\n",
              "      <td>2.317886</td>\n",
              "      <td>13.776134</td>\n",
              "      <td>3.609074</td>\n",
              "    </tr>\n",
              "    <tr>\n",
              "      <th>2</th>\n",
              "      <td>-3.756608</td>\n",
              "      <td>22.753059</td>\n",
              "      <td>21.848346</td>\n",
              "      <td>2.021918</td>\n",
              "      <td>13.643875</td>\n",
              "      <td>Grassland</td>\n",
              "      <td>16.401770</td>\n",
              "      <td>9.263021</td>\n",
              "      <td>7.721306</td>\n",
              "      <td>2.570146</td>\n",
              "      <td>-3.426706</td>\n",
              "      <td>19.033558</td>\n",
              "      <td>-1.990220</td>\n",
              "    </tr>\n",
              "  </tbody>\n",
              "</table>\n",
              "</div>\n",
              "      <button class=\"colab-df-convert\" onclick=\"convertToInteractive('df-f3679622-4552-4a2a-af05-cd3b78530c65')\"\n",
              "              title=\"Convert this dataframe to an interactive table.\"\n",
              "              style=\"display:none;\">\n",
              "        \n",
              "  <svg xmlns=\"http://www.w3.org/2000/svg\" height=\"24px\"viewBox=\"0 0 24 24\"\n",
              "       width=\"24px\">\n",
              "    <path d=\"M0 0h24v24H0V0z\" fill=\"none\"/>\n",
              "    <path d=\"M18.56 5.44l.94 2.06.94-2.06 2.06-.94-2.06-.94-.94-2.06-.94 2.06-2.06.94zm-11 1L8.5 8.5l.94-2.06 2.06-.94-2.06-.94L8.5 2.5l-.94 2.06-2.06.94zm10 10l.94 2.06.94-2.06 2.06-.94-2.06-.94-.94-2.06-.94 2.06-2.06.94z\"/><path d=\"M17.41 7.96l-1.37-1.37c-.4-.4-.92-.59-1.43-.59-.52 0-1.04.2-1.43.59L10.3 9.45l-7.72 7.72c-.78.78-.78 2.05 0 2.83L4 21.41c.39.39.9.59 1.41.59.51 0 1.02-.2 1.41-.59l7.78-7.78 2.81-2.81c.8-.78.8-2.07 0-2.86zM5.41 20L4 18.59l7.72-7.72 1.47 1.35L5.41 20z\"/>\n",
              "  </svg>\n",
              "      </button>\n",
              "      \n",
              "  <style>\n",
              "    .colab-df-container {\n",
              "      display:flex;\n",
              "      flex-wrap:wrap;\n",
              "      gap: 12px;\n",
              "    }\n",
              "\n",
              "    .colab-df-convert {\n",
              "      background-color: #E8F0FE;\n",
              "      border: none;\n",
              "      border-radius: 50%;\n",
              "      cursor: pointer;\n",
              "      display: none;\n",
              "      fill: #1967D2;\n",
              "      height: 32px;\n",
              "      padding: 0 0 0 0;\n",
              "      width: 32px;\n",
              "    }\n",
              "\n",
              "    .colab-df-convert:hover {\n",
              "      background-color: #E2EBFA;\n",
              "      box-shadow: 0px 1px 2px rgba(60, 64, 67, 0.3), 0px 1px 3px 1px rgba(60, 64, 67, 0.15);\n",
              "      fill: #174EA6;\n",
              "    }\n",
              "\n",
              "    [theme=dark] .colab-df-convert {\n",
              "      background-color: #3B4455;\n",
              "      fill: #D2E3FC;\n",
              "    }\n",
              "\n",
              "    [theme=dark] .colab-df-convert:hover {\n",
              "      background-color: #434B5C;\n",
              "      box-shadow: 0px 1px 3px 1px rgba(0, 0, 0, 0.15);\n",
              "      filter: drop-shadow(0px 1px 2px rgba(0, 0, 0, 0.3));\n",
              "      fill: #FFFFFF;\n",
              "    }\n",
              "  </style>\n",
              "\n",
              "      <script>\n",
              "        const buttonEl =\n",
              "          document.querySelector('#df-f3679622-4552-4a2a-af05-cd3b78530c65 button.colab-df-convert');\n",
              "        buttonEl.style.display =\n",
              "          google.colab.kernel.accessAllowed ? 'block' : 'none';\n",
              "\n",
              "        async function convertToInteractive(key) {\n",
              "          const element = document.querySelector('#df-f3679622-4552-4a2a-af05-cd3b78530c65');\n",
              "          const dataTable =\n",
              "            await google.colab.kernel.invokeFunction('convertToInteractive',\n",
              "                                                     [key], {});\n",
              "          if (!dataTable) return;\n",
              "\n",
              "          const docLinkHtml = 'Like what you see? Visit the ' +\n",
              "            '<a target=\"_blank\" href=https://colab.research.google.com/notebooks/data_table.ipynb>data table notebook</a>'\n",
              "            + ' to learn more about interactive tables.';\n",
              "          element.innerHTML = '';\n",
              "          dataTable['output_type'] = 'display_data';\n",
              "          await google.colab.output.renderOutput(dataTable, element);\n",
              "          const docLink = document.createElement('div');\n",
              "          docLink.innerHTML = docLinkHtml;\n",
              "          element.appendChild(docLink);\n",
              "        }\n",
              "      </script>\n",
              "    </div>\n",
              "  </div>\n",
              "  "
            ]
          },
          "metadata": {},
          "execution_count": 4
        }
      ],
      "source": [
        "df = geemap.ee_to_pandas(features)\n",
        "df"
      ]
    },
    {
      "cell_type": "code",
      "execution_count": 5,
      "metadata": {
        "id": "c0du7FuHQoF8"
      },
      "outputs": [],
      "source": [
        "xProperty = \"label\"\n",
        "yProperties = [str(x).zfill(2) + \"_tmean\" for x in range(1, 13)]\n",
        "\n",
        "labels = [\n",
        "    'Jan',\n",
        "    'Feb',\n",
        "    'Mar',\n",
        "    'Apr',\n",
        "    'May',\n",
        "    'Jun',\n",
        "    'Jul',\n",
        "    'Aug',\n",
        "    'Sep',\n",
        "    'Oct',\n",
        "    'Nov',\n",
        "    'Dec',\n",
        "]\n",
        "colors = [\n",
        "    '#604791',\n",
        "    '#1d6b99',\n",
        "    '#39a8a7',\n",
        "    '#0f8755',\n",
        "    '#76b349',\n",
        "    '#f0af07',\n",
        "    '#e37d05',\n",
        "    '#cf513e',\n",
        "    '#96356f',\n",
        "    '#724173',\n",
        "    '#9c4f97',\n",
        "    '#696969',\n",
        "]\n",
        "title = \"Average Monthly Temperature by Ecoregion\"\n",
        "xlabel = \"Ecoregion\"\n",
        "ylabel = \"Temperature\""
      ]
    },
    {
      "cell_type": "code",
      "execution_count": 6,
      "metadata": {
        "id": "uZOHXeMKQoF9"
      },
      "outputs": [],
      "source": [
        "options = {\n",
        "    \"labels\": labels,\n",
        "    \"colors\": colors,\n",
        "    \"title\": title,\n",
        "    \"xlabel\": xlabel,\n",
        "    \"ylabel\": ylabel,\n",
        "    \"legend_location\": \"top-left\",\n",
        "    \"height\": \"500px\",\n",
        "}"
      ]
    },
    {
      "cell_type": "code",
      "execution_count": 7,
      "metadata": {
        "id": "gzSt6FH4QoF9",
        "colab": {
          "base_uri": "https://localhost:8080/",
          "height": 573,
          "referenced_widgets": [
            "90f66a66adcc4a2d9bfd7d52ecd45f35",
            "736153df351f4eb699534e57b4efa173",
            "6e2f3f297a804856a67943e01d1d3208",
            "41402543e0484433ad4e82bd2cfcfcc2",
            "ea541107203a4dbdaee79f4d859ce7d6",
            "a774d2241d4943f783951301232a2524",
            "3da27521282d4b59a75af9901bf894f7",
            "60b655afc5be4d71b309e2fe45b5380c",
            "618413f3cf86410dbbbd9e48f51e72b4",
            "6892846641a54c84b438f3198e2f37f1",
            "bc6b1b1377cb437caf645cdbbf2a7404",
            "7adf0c158a7f4994ac86b28561c7993f",
            "24b1e7a182294728b506305a83a1d800",
            "75b2aa1f8b65460295bccfa8577efa5f",
            "2b2a09a1ae9f46af808ceb8ad1f0c988"
          ]
        },
        "outputId": "cebfabc0-8702-4fc4-b91f-1776f05f9b1f"
      },
      "outputs": [
        {
          "output_type": "display_data",
          "data": {
            "text/plain": [
              "VBox(children=(Figure(axes=[Axis(label='Ecoregion', scale=OrdinalScale()), Axis(label='Temperature', orientati…"
            ],
            "application/vnd.jupyter.widget-view+json": {
              "version_major": 2,
              "version_minor": 0,
              "model_id": "90f66a66adcc4a2d9bfd7d52ecd45f35"
            }
          },
          "metadata": {
            "application/vnd.jupyter.widget-view+json": {
              "colab": {
                "custom_widget_manager": {
                  "url": "https://ssl.gstatic.com/colaboratory-static/widgets/colab-cdn-widget-manager/d2e234f7cc04bf79/manager.min.js"
                }
              }
            }
          }
        }
      ],
      "source": [
        "chart.feature_byFeature(features, xProperty, yProperties, **options)"
      ]
    },
    {
      "cell_type": "markdown",
      "metadata": {
        "id": "90eqHAERQoF9"
      },
      "source": [
        "![](https://i.imgur.com/9xzsUxg.png)"
      ]
    },
    {
      "cell_type": "markdown",
      "metadata": {
        "id": "mnEMD1jGQoF9"
      },
      "source": [
        "## Creating a chart from ee.FeatureCollection by property\n",
        "\n",
        "Reference: https://developers.google.com/earth-engine/guides/charts_feature#uichartfeaturebyproperty"
      ]
    },
    {
      "cell_type": "code",
      "execution_count": 8,
      "metadata": {
        "id": "0dsfjxj7QoF-",
        "colab": {
          "base_uri": "https://localhost:8080/",
          "height": 621,
          "referenced_widgets": [
            "c2d1b952dc4743e3b5c00d19df8678eb",
            "a120bd3d2d1d49abafbac0ea7e20ac48",
            "8a688bf9bdd644b0b0253685adc7d602",
            "9c522cab7ead45438c964a662b030c93",
            "1cbdade25537490594aa0f2e6d63e4e6",
            "72994fe595e042d88ec38ff28ccb69d7",
            "73241f2dbc0d4a89b92debd4978e60b8",
            "774bbe2c88c640f0bfc13d7226e1db77",
            "e65e9fe17d4e46f5af792ec1f0928480",
            "7787a33939554f30809caae847f68612",
            "53dd968058534012ae463dde53279564",
            "ea561c410e8644deb331f075c95501be",
            "1cbf4754e6794067a7deb826ebcdf771",
            "885ab9f163da447687ad947b81c98255",
            "f040a3fff68a45818b88b2aa0a038897",
            "c9d12555b374427f80e755d1294ba944",
            "3eca989c5cd841ee9be97b21bd0a4cc6",
            "51cb60374a694b6bb354c3d12d8ea03c",
            "2b058b6b88f744048874b2a5dd38eb8c",
            "a60e67903cfd47c284c0d346f02b1c21",
            "831512f0d25f490ebdd1dea65bca3d0a",
            "3651d0dc9fac41cd85e1c3ccbdc2dc4a",
            "f56c28e7973247baa6b41fb86ec07c06",
            "3a1a5d90177041a48438a600f0cb33a6",
            "81a25473b85e41b6af505bce551000d5",
            "b25fa1f5dec94a26b09bc725ddbe126d"
          ]
        },
        "outputId": "f93ca4f3-fe5b-4310-ad48-dafba09e379f"
      },
      "outputs": [
        {
          "output_type": "display_data",
          "data": {
            "text/plain": [
              "Map(center=[20, 0], controls=(WidgetControl(options=['position', 'transparent_bg'], widget=HBox(children=(Togg…"
            ],
            "application/vnd.jupyter.widget-view+json": {
              "version_major": 2,
              "version_minor": 0,
              "model_id": "c2d1b952dc4743e3b5c00d19df8678eb"
            }
          },
          "metadata": {
            "application/vnd.jupyter.widget-view+json": {
              "colab": {
                "custom_widget_manager": {
                  "url": "https://ssl.gstatic.com/colaboratory-static/widgets/colab-cdn-widget-manager/d2e234f7cc04bf79/manager.min.js"
                }
              }
            }
          }
        }
      ],
      "source": [
        "Map = geemap.Map()\n",
        "\n",
        "features = ee.FeatureCollection('projects/google/charts_feature_example').select(\n",
        "    '[0-9][0-9]_ppt|label'\n",
        ")\n",
        "\n",
        "Map.addLayer(features, {}, 'Features')\n",
        "Map"
      ]
    },
    {
      "cell_type": "code",
      "execution_count": 9,
      "metadata": {
        "id": "d2ruT5ERQoF-",
        "colab": {
          "base_uri": "https://localhost:8080/",
          "height": 143
        },
        "outputId": "a6c5789b-d836-4b4f-a394-cd08bec4e244"
      },
      "outputs": [
        {
          "output_type": "execute_result",
          "data": {
            "text/plain": [
              "      07_ppt      02_ppt     09_ppt      11_ppt      04_ppt      label  \\\n",
              "0  80.389409   21.858469  37.412247   22.809099    8.252543     Desert   \n",
              "1  23.409216  181.531780  54.064534  261.008798  150.759019     Forest   \n",
              "2  76.181755   13.915104  45.833161   20.085923   57.736112  Grassland   \n",
              "\n",
              "       01_ppt     06_ppt     08_ppt      05_ppt      10_ppt      03_ppt  \\\n",
              "0   27.954341  14.802123  79.326886    8.372216   32.728694   17.579124   \n",
              "1  235.373540  72.709877  25.395566  112.392139  121.976155  181.917962   \n",
              "2    9.636893  86.136860  60.189630   84.276450   38.134907   29.761295   \n",
              "\n",
              "       12_ppt  \n",
              "0   35.557367  \n",
              "1  273.243438  \n",
              "2   11.198115  "
            ],
            "text/html": [
              "\n",
              "  <div id=\"df-3ad8bd67-6a77-4e59-b298-6af12af2e3b3\">\n",
              "    <div class=\"colab-df-container\">\n",
              "      <div>\n",
              "<style scoped>\n",
              "    .dataframe tbody tr th:only-of-type {\n",
              "        vertical-align: middle;\n",
              "    }\n",
              "\n",
              "    .dataframe tbody tr th {\n",
              "        vertical-align: top;\n",
              "    }\n",
              "\n",
              "    .dataframe thead th {\n",
              "        text-align: right;\n",
              "    }\n",
              "</style>\n",
              "<table border=\"1\" class=\"dataframe\">\n",
              "  <thead>\n",
              "    <tr style=\"text-align: right;\">\n",
              "      <th></th>\n",
              "      <th>07_ppt</th>\n",
              "      <th>02_ppt</th>\n",
              "      <th>09_ppt</th>\n",
              "      <th>11_ppt</th>\n",
              "      <th>04_ppt</th>\n",
              "      <th>label</th>\n",
              "      <th>01_ppt</th>\n",
              "      <th>06_ppt</th>\n",
              "      <th>08_ppt</th>\n",
              "      <th>05_ppt</th>\n",
              "      <th>10_ppt</th>\n",
              "      <th>03_ppt</th>\n",
              "      <th>12_ppt</th>\n",
              "    </tr>\n",
              "  </thead>\n",
              "  <tbody>\n",
              "    <tr>\n",
              "      <th>0</th>\n",
              "      <td>80.389409</td>\n",
              "      <td>21.858469</td>\n",
              "      <td>37.412247</td>\n",
              "      <td>22.809099</td>\n",
              "      <td>8.252543</td>\n",
              "      <td>Desert</td>\n",
              "      <td>27.954341</td>\n",
              "      <td>14.802123</td>\n",
              "      <td>79.326886</td>\n",
              "      <td>8.372216</td>\n",
              "      <td>32.728694</td>\n",
              "      <td>17.579124</td>\n",
              "      <td>35.557367</td>\n",
              "    </tr>\n",
              "    <tr>\n",
              "      <th>1</th>\n",
              "      <td>23.409216</td>\n",
              "      <td>181.531780</td>\n",
              "      <td>54.064534</td>\n",
              "      <td>261.008798</td>\n",
              "      <td>150.759019</td>\n",
              "      <td>Forest</td>\n",
              "      <td>235.373540</td>\n",
              "      <td>72.709877</td>\n",
              "      <td>25.395566</td>\n",
              "      <td>112.392139</td>\n",
              "      <td>121.976155</td>\n",
              "      <td>181.917962</td>\n",
              "      <td>273.243438</td>\n",
              "    </tr>\n",
              "    <tr>\n",
              "      <th>2</th>\n",
              "      <td>76.181755</td>\n",
              "      <td>13.915104</td>\n",
              "      <td>45.833161</td>\n",
              "      <td>20.085923</td>\n",
              "      <td>57.736112</td>\n",
              "      <td>Grassland</td>\n",
              "      <td>9.636893</td>\n",
              "      <td>86.136860</td>\n",
              "      <td>60.189630</td>\n",
              "      <td>84.276450</td>\n",
              "      <td>38.134907</td>\n",
              "      <td>29.761295</td>\n",
              "      <td>11.198115</td>\n",
              "    </tr>\n",
              "  </tbody>\n",
              "</table>\n",
              "</div>\n",
              "      <button class=\"colab-df-convert\" onclick=\"convertToInteractive('df-3ad8bd67-6a77-4e59-b298-6af12af2e3b3')\"\n",
              "              title=\"Convert this dataframe to an interactive table.\"\n",
              "              style=\"display:none;\">\n",
              "        \n",
              "  <svg xmlns=\"http://www.w3.org/2000/svg\" height=\"24px\"viewBox=\"0 0 24 24\"\n",
              "       width=\"24px\">\n",
              "    <path d=\"M0 0h24v24H0V0z\" fill=\"none\"/>\n",
              "    <path d=\"M18.56 5.44l.94 2.06.94-2.06 2.06-.94-2.06-.94-.94-2.06-.94 2.06-2.06.94zm-11 1L8.5 8.5l.94-2.06 2.06-.94-2.06-.94L8.5 2.5l-.94 2.06-2.06.94zm10 10l.94 2.06.94-2.06 2.06-.94-2.06-.94-.94-2.06-.94 2.06-2.06.94z\"/><path d=\"M17.41 7.96l-1.37-1.37c-.4-.4-.92-.59-1.43-.59-.52 0-1.04.2-1.43.59L10.3 9.45l-7.72 7.72c-.78.78-.78 2.05 0 2.83L4 21.41c.39.39.9.59 1.41.59.51 0 1.02-.2 1.41-.59l7.78-7.78 2.81-2.81c.8-.78.8-2.07 0-2.86zM5.41 20L4 18.59l7.72-7.72 1.47 1.35L5.41 20z\"/>\n",
              "  </svg>\n",
              "      </button>\n",
              "      \n",
              "  <style>\n",
              "    .colab-df-container {\n",
              "      display:flex;\n",
              "      flex-wrap:wrap;\n",
              "      gap: 12px;\n",
              "    }\n",
              "\n",
              "    .colab-df-convert {\n",
              "      background-color: #E8F0FE;\n",
              "      border: none;\n",
              "      border-radius: 50%;\n",
              "      cursor: pointer;\n",
              "      display: none;\n",
              "      fill: #1967D2;\n",
              "      height: 32px;\n",
              "      padding: 0 0 0 0;\n",
              "      width: 32px;\n",
              "    }\n",
              "\n",
              "    .colab-df-convert:hover {\n",
              "      background-color: #E2EBFA;\n",
              "      box-shadow: 0px 1px 2px rgba(60, 64, 67, 0.3), 0px 1px 3px 1px rgba(60, 64, 67, 0.15);\n",
              "      fill: #174EA6;\n",
              "    }\n",
              "\n",
              "    [theme=dark] .colab-df-convert {\n",
              "      background-color: #3B4455;\n",
              "      fill: #D2E3FC;\n",
              "    }\n",
              "\n",
              "    [theme=dark] .colab-df-convert:hover {\n",
              "      background-color: #434B5C;\n",
              "      box-shadow: 0px 1px 3px 1px rgba(0, 0, 0, 0.15);\n",
              "      filter: drop-shadow(0px 1px 2px rgba(0, 0, 0, 0.3));\n",
              "      fill: #FFFFFF;\n",
              "    }\n",
              "  </style>\n",
              "\n",
              "      <script>\n",
              "        const buttonEl =\n",
              "          document.querySelector('#df-3ad8bd67-6a77-4e59-b298-6af12af2e3b3 button.colab-df-convert');\n",
              "        buttonEl.style.display =\n",
              "          google.colab.kernel.accessAllowed ? 'block' : 'none';\n",
              "\n",
              "        async function convertToInteractive(key) {\n",
              "          const element = document.querySelector('#df-3ad8bd67-6a77-4e59-b298-6af12af2e3b3');\n",
              "          const dataTable =\n",
              "            await google.colab.kernel.invokeFunction('convertToInteractive',\n",
              "                                                     [key], {});\n",
              "          if (!dataTable) return;\n",
              "\n",
              "          const docLinkHtml = 'Like what you see? Visit the ' +\n",
              "            '<a target=\"_blank\" href=https://colab.research.google.com/notebooks/data_table.ipynb>data table notebook</a>'\n",
              "            + ' to learn more about interactive tables.';\n",
              "          element.innerHTML = '';\n",
              "          dataTable['output_type'] = 'display_data';\n",
              "          await google.colab.output.renderOutput(dataTable, element);\n",
              "          const docLink = document.createElement('div');\n",
              "          docLink.innerHTML = docLinkHtml;\n",
              "          element.appendChild(docLink);\n",
              "        }\n",
              "      </script>\n",
              "    </div>\n",
              "  </div>\n",
              "  "
            ]
          },
          "metadata": {},
          "execution_count": 9
        }
      ],
      "source": [
        "df = geemap.ee_to_pandas(features)\n",
        "df"
      ]
    },
    {
      "cell_type": "code",
      "execution_count": 10,
      "metadata": {
        "id": "ZUigMKfgQoF-"
      },
      "outputs": [],
      "source": [
        "keys = [str(x).zfill(2) + \"_ppt\" for x in range(1, 13)]\n",
        "values = [\n",
        "    'Jan',\n",
        "    'Feb',\n",
        "    'Mar',\n",
        "    'Apr',\n",
        "    'May',\n",
        "    'Jun',\n",
        "    'Jul',\n",
        "    'Aug',\n",
        "    'Sep',\n",
        "    'Oct',\n",
        "    'Nov',\n",
        "    'Dec',\n",
        "]"
      ]
    },
    {
      "cell_type": "code",
      "execution_count": 11,
      "metadata": {
        "id": "4SgP4Jy8QoF-"
      },
      "outputs": [],
      "source": [
        "xProperties = dict(zip(keys, values))\n",
        "seriesProperty = \"label\""
      ]
    },
    {
      "cell_type": "code",
      "execution_count": 12,
      "metadata": {
        "id": "owxmCycFQoF-"
      },
      "outputs": [],
      "source": [
        "options = {\n",
        "    'title': \"Average Ecoregion Precipitation by Month\",\n",
        "    'colors': ['#f0af07', '#0f8755', '#76b349'],\n",
        "    'xlabel': \"Month\",\n",
        "    'ylabel': \"Precipitation (mm)\",\n",
        "    'legend_location': \"top-left\",\n",
        "    \"height\": \"500px\",\n",
        "}"
      ]
    },
    {
      "cell_type": "code",
      "execution_count": 13,
      "metadata": {
        "id": "mET6p5o5QoF-",
        "colab": {
          "base_uri": "https://localhost:8080/",
          "height": 573,
          "referenced_widgets": [
            "cfa71c054a8c4adaba279270e2543fe3",
            "99e937146636458384577e307716f9bd",
            "7f12e1f8b7b44ce4abf9b2efe67f14cf",
            "20dd28520d9740afa97b60efad7c55f6",
            "46081a1dd5964429acf70a3d88f4fa94",
            "d2a8c02567ec4a24ae8c62a1b0e1e7a5",
            "36534db1b4fc4955b73160025d9a2b88",
            "3b4502f633c34b17b626438408e53f83",
            "04cfdec6df2f40f79644c3ef11cbb51b",
            "6b06ba6de0344ce6aebaa7908de53448",
            "9ba0b1782e924e4da21d51b1a86da8a4",
            "291bd4f104144c51afe0d73a8d697e53",
            "5697b21bdca143c9a110ff5bc9a471a0",
            "f4860e71f0c0475dbb108f6a2eaeae8f",
            "70a376a84b6f4fc8a763b7ed556688fe"
          ]
        },
        "outputId": "fed94148-1870-4c84-cc6c-d92178694297"
      },
      "outputs": [
        {
          "output_type": "display_data",
          "data": {
            "text/plain": [
              "VBox(children=(Figure(axes=[Axis(label='Month', scale=OrdinalScale()), Axis(label='Precipitation (mm)', orient…"
            ],
            "application/vnd.jupyter.widget-view+json": {
              "version_major": 2,
              "version_minor": 0,
              "model_id": "cfa71c054a8c4adaba279270e2543fe3"
            }
          },
          "metadata": {
            "application/vnd.jupyter.widget-view+json": {
              "colab": {
                "custom_widget_manager": {
                  "url": "https://ssl.gstatic.com/colaboratory-static/widgets/colab-cdn-widget-manager/d2e234f7cc04bf79/manager.min.js"
                }
              }
            }
          }
        }
      ],
      "source": [
        "chart.feature_byProperty(features, xProperties, seriesProperty, **options)"
      ]
    },
    {
      "cell_type": "markdown",
      "metadata": {
        "id": "XtePaVCeQoF-"
      },
      "source": [
        "![](https://i.imgur.com/mS3vzHJ.png)"
      ]
    },
    {
      "cell_type": "markdown",
      "metadata": {
        "id": "WguyVi9pQoF-"
      },
      "source": [
        "## Creating a chart from ee.FeatureCollection from a group of features\n",
        "Reference: https://developers.google.com/earth-engine/guides/charts_feature#uichartfeaturegroups"
      ]
    },
    {
      "cell_type": "code",
      "execution_count": 14,
      "metadata": {
        "id": "_i5wgm0FQoF_"
      },
      "outputs": [],
      "source": [
        "Map = geemap.Map()\n",
        "\n",
        "features = ee.FeatureCollection('projects/google/charts_feature_example')\n",
        "xProperty = 'label'\n",
        "yProperty = '01_tmean'\n",
        "seriesProperty = 'warm'"
      ]
    },
    {
      "cell_type": "code",
      "execution_count": 15,
      "metadata": {
        "id": "kqJmAwQDQoF_"
      },
      "outputs": [],
      "source": [
        "options = {\n",
        "    'title': \"Average January Temperature by Ecoregion\",\n",
        "    'colors': ['#cf513e', '#1d6b99'],\n",
        "    'xlabel': \"Ecoregion\",\n",
        "    'ylabel': \"Jan temp (C)\",\n",
        "    'legend_location': \"top-right\",\n",
        "    'height': \"500px\",\n",
        "    'labels': [\"Warm\", \"Cold\"],\n",
        "}"
      ]
    },
    {
      "cell_type": "code",
      "execution_count": 16,
      "metadata": {
        "id": "4c6NUGs2QoF_",
        "colab": {
          "base_uri": "https://localhost:8080/",
          "height": 573,
          "referenced_widgets": [
            "ba7c2e2a350542829880cd55ea7c7352",
            "7fb4432a35224164ab967e0c3971dd26",
            "1474d6dafe50442d93fa93824f771a65",
            "47ec5bfb6c6449faa15e804ea817deff",
            "3dad339f69134bc09110ac00dd66720d",
            "7e1033bd0baa4ea69821ed6bd4e5d412",
            "5b567e3cd37449e1886a2c7acde08d04",
            "0c5912e30b184c8397b5b392efe00c17",
            "c961c55851b84275aa5ea42405a513e2",
            "82db06981c1248cfa7f755fdbea39207",
            "d0a51dad426d4e75abd7b48a5a7e735a",
            "c8469460dfba40a8b5e570e135ed251a",
            "4f9c31540ef047bd9fd76a0a6ee2d40b",
            "0ab6477f9bf54d83bb6a86bd9f2f4133",
            "46e828f3010c4a9ebdb510d051c1d3ab"
          ]
        },
        "outputId": "0be09272-8366-40fa-d5f9-1546011ff2fe"
      },
      "outputs": [
        {
          "output_type": "display_data",
          "data": {
            "text/plain": [
              "VBox(children=(Figure(axes=[Axis(label='Ecoregion', scale=OrdinalScale()), Axis(label='Jan temp (C)', orientat…"
            ],
            "application/vnd.jupyter.widget-view+json": {
              "version_major": 2,
              "version_minor": 0,
              "model_id": "ba7c2e2a350542829880cd55ea7c7352"
            }
          },
          "metadata": {
            "application/vnd.jupyter.widget-view+json": {
              "colab": {
                "custom_widget_manager": {
                  "url": "https://ssl.gstatic.com/colaboratory-static/widgets/colab-cdn-widget-manager/d2e234f7cc04bf79/manager.min.js"
                }
              }
            }
          }
        }
      ],
      "source": [
        "chart.feature_groups(features, xProperty, yProperty, seriesProperty, **options)"
      ]
    }
  ],
  "metadata": {
    "hide_input": false,
    "kernelspec": {
      "display_name": "Python 3 (ipykernel)",
      "language": "python",
      "name": "python3"
    },
    "language_info": {
      "codemirror_mode": {
        "name": "ipython",
        "version": 3
      },
      "file_extension": ".py",
      "mimetype": "text/x-python",
      "name": "python",
      "nbconvert_exporter": "python",
      "pygments_lexer": "ipython3",
      "version": "3.9.7"
    },
    "toc": {
      "base_numbering": 1,
      "nav_menu": {},
      "number_sections": true,
      "sideBar": true,
      "skip_h1_title": false,
      "title_cell": "Table of Contents",
      "title_sidebar": "Contents",
      "toc_cell": false,
      "toc_position": {},
      "toc_section_display": true,
      "toc_window_display": true
    },
    "varInspector": {
      "cols": {
        "lenName": 16,
        "lenType": 16,
        "lenVar": 40
      },
      "kernels_config": {
        "python": {
          "delete_cmd_postfix": "",
          "delete_cmd_prefix": "del ",
          "library": "var_list.py",
          "varRefreshCmd": "print(var_dic_list())"
        },
        "r": {
          "delete_cmd_postfix": ") ",
          "delete_cmd_prefix": "rm(",
          "library": "var_list.r",
          "varRefreshCmd": "cat(var_dic_list()) "
        }
      },
      "types_to_exclude": [
        "module",
        "function",
        "builtin_function_or_method",
        "instance",
        "_Feature"
      ],
      "window_display": false
    },
    "colab": {
      "provenance": [],
      "include_colab_link": true
    },
    "widgets": {
      "application/vnd.jupyter.widget-state+json": {
        "9ae96c430e7343ffbbad47e3b55e1318": {
          "model_module": "jupyter-leaflet",
          "model_name": "LeafletMapModel",
          "model_module_version": "^0.17",
          "state": {
            "_dom_classes": [],
            "_model_module": "jupyter-leaflet",
            "_model_module_version": "^0.17",
            "_model_name": "LeafletMapModel",
            "_view_count": null,
            "_view_module": "jupyter-leaflet",
            "_view_module_version": "^0.17",
            "_view_name": "LeafletMapView",
            "bottom": 754,
            "bounce_at_zoom_limits": true,
            "box_zoom": true,
            "center": [
              20,
              0
            ],
            "close_popup_on_click": true,
            "controls": [
              "IPY_MODEL_5d2f5ea40e1a4d7c91f233b9d4cf81af",
              "IPY_MODEL_e5e5079987f540ffb7932042c863d606",
              "IPY_MODEL_bfd1f655ac66450aa09394bad67308ab",
              "IPY_MODEL_ff64d6b248254c45b87d6954eb051b9e",
              "IPY_MODEL_63062a5651774253b4cb810cc4b6d239",
              "IPY_MODEL_8ea947c40a7a4d1bb9a6d742d66bcded",
              "IPY_MODEL_53197f8c644c4f87b29d8f42bcbc06b6",
              "IPY_MODEL_e274a352455342ed9e5cca47630eeb80"
            ],
            "crs": {
              "name": "EPSG3857",
              "custom": false
            },
            "default_style": "IPY_MODEL_1df05cc52b6a45559f365afcac90c4fb",
            "double_click_zoom": true,
            "dragging": true,
            "dragging_style": "IPY_MODEL_37fbf92923e84ecdaa4cfa1b5415c340",
            "east": 230.97656250000003,
            "fullscreen": false,
            "inertia": true,
            "inertia_deceleration": 3000,
            "inertia_max_speed": 1500,
            "interpolation": "bilinear",
            "keyboard": true,
            "keyboard_pan_offset": 80,
            "keyboard_zoom_offset": 1,
            "layers": [
              "IPY_MODEL_7f9c56b30cd54dce8824bd653d0974e4",
              "IPY_MODEL_1cbf4754e6794067a7deb826ebcdf771",
              "IPY_MODEL_f81a1d56ddd4442c8701b052144b86f9"
            ],
            "layout": "IPY_MODEL_c2a2d720e7ec4d8dbd5a3e7a2e79ab8d",
            "left": -145,
            "max_zoom": 24,
            "min_zoom": null,
            "modisdate": "2022-09-24",
            "north": 77.31251993823143,
            "options": [
              "bounce_at_zoom_limits",
              "box_zoom",
              "center",
              "close_popup_on_click",
              "double_click_zoom",
              "dragging",
              "fullscreen",
              "inertia",
              "inertia_deceleration",
              "inertia_max_speed",
              "interpolation",
              "keyboard",
              "keyboard_pan_offset",
              "keyboard_zoom_offset",
              "max_zoom",
              "min_zoom",
              "prefer_canvas",
              "scroll_wheel_zoom",
              "tap",
              "tap_tolerance",
              "touch_zoom",
              "world_copy_jump",
              "zoom",
              "zoom_animation_threshold",
              "zoom_delta",
              "zoom_snap"
            ],
            "panes": {},
            "prefer_canvas": false,
            "right": 1169,
            "scroll_wheel_zoom": true,
            "south": -64.47279382008165,
            "style": "IPY_MODEL_84b3cf5c683d49cdbff7440da74aa5a6",
            "tap": true,
            "tap_tolerance": 15,
            "top": 154,
            "touch_zoom": true,
            "west": -230.97656250000003,
            "window_url": "https://y95a9k5jnr-496ff2e9c6d22116-0-colab.googleusercontent.com/outputframe.html?vrz=colab-20220922-060051-RC00_476055999",
            "world_copy_jump": false,
            "zoom": 2,
            "zoom_animation_threshold": 4,
            "zoom_delta": 1,
            "zoom_snap": 1
          }
        },
        "5d2f5ea40e1a4d7c91f233b9d4cf81af": {
          "model_module": "jupyter-leaflet",
          "model_name": "LeafletWidgetControlModel",
          "model_module_version": "^0.17",
          "state": {
            "_model_module": "jupyter-leaflet",
            "_model_module_version": "^0.17",
            "_model_name": "LeafletWidgetControlModel",
            "_view_count": null,
            "_view_module": "jupyter-leaflet",
            "_view_module_version": "^0.17",
            "_view_name": "LeafletWidgetControlView",
            "max_height": null,
            "max_width": null,
            "min_height": null,
            "min_width": null,
            "options": [
              "position",
              "transparent_bg"
            ],
            "position": "topleft",
            "transparent_bg": false,
            "widget": "IPY_MODEL_5fc0cb370785476297a1cf54b521e35d"
          }
        },
        "e5e5079987f540ffb7932042c863d606": {
          "model_module": "jupyter-leaflet",
          "model_name": "LeafletZoomControlModel",
          "model_module_version": "^0.17",
          "state": {
            "_model_module": "jupyter-leaflet",
            "_model_module_version": "^0.17",
            "_model_name": "LeafletZoomControlModel",
            "_view_count": null,
            "_view_module": "jupyter-leaflet",
            "_view_module_version": "^0.17",
            "_view_name": "LeafletZoomControlView",
            "options": [
              "position",
              "zoom_in_text",
              "zoom_in_title",
              "zoom_out_text",
              "zoom_out_title"
            ],
            "position": "topleft",
            "zoom_in_text": "+",
            "zoom_in_title": "Zoom in",
            "zoom_out_text": "-",
            "zoom_out_title": "Zoom out"
          }
        },
        "bfd1f655ac66450aa09394bad67308ab": {
          "model_module": "jupyter-leaflet",
          "model_name": "LeafletScaleControlModel",
          "model_module_version": "^0.17",
          "state": {
            "_model_module": "jupyter-leaflet",
            "_model_module_version": "^0.17",
            "_model_name": "LeafletScaleControlModel",
            "_view_count": null,
            "_view_module": "jupyter-leaflet",
            "_view_module_version": "^0.17",
            "_view_name": "LeafletScaleControlView",
            "imperial": true,
            "max_width": 100,
            "metric": true,
            "options": [
              "imperial",
              "max_width",
              "metric",
              "position",
              "update_when_idle"
            ],
            "position": "bottomleft",
            "update_when_idle": false
          }
        },
        "ff64d6b248254c45b87d6954eb051b9e": {
          "model_module": "jupyter-leaflet",
          "model_name": "LeafletFullScreenControlModel",
          "model_module_version": "^0.17",
          "state": {
            "_model_module": "jupyter-leaflet",
            "_model_module_version": "^0.17",
            "_model_name": "LeafletFullScreenControlModel",
            "_view_count": null,
            "_view_module": "jupyter-leaflet",
            "_view_module_version": "^0.17",
            "_view_name": "LeafletFullScreenControlView",
            "options": [
              "position"
            ],
            "position": "topleft"
          }
        },
        "63062a5651774253b4cb810cc4b6d239": {
          "model_module": "jupyter-leaflet",
          "model_name": "LeafletMeasureControlModel",
          "model_module_version": "^0.17",
          "state": {
            "_custom_units": {},
            "_model_module": "jupyter-leaflet",
            "_model_module_version": "^0.17",
            "_model_name": "LeafletMeasureControlModel",
            "_view_count": null,
            "_view_module": "jupyter-leaflet",
            "_view_module_version": "^0.17",
            "_view_name": "LeafletMeasureControlView",
            "active_color": "orange",
            "capture_z_index": 10000,
            "completed_color": "#C8F2BE",
            "options": [
              "active_color",
              "capture_z_index",
              "completed_color",
              "popup_options",
              "position",
              "primary_area_unit",
              "primary_length_unit",
              "secondary_area_unit",
              "secondary_length_unit"
            ],
            "popup_options": {
              "className": "leaflet-measure-resultpopup",
              "autoPanPadding": [
                10,
                10
              ]
            },
            "position": "bottomleft",
            "primary_area_unit": "acres",
            "primary_length_unit": "kilometers",
            "secondary_area_unit": null,
            "secondary_length_unit": null
          }
        },
        "8ea947c40a7a4d1bb9a6d742d66bcded": {
          "model_module": "jupyter-leaflet",
          "model_name": "LeafletAttributionControlModel",
          "model_module_version": "^0.17",
          "state": {
            "_model_module": "jupyter-leaflet",
            "_model_module_version": "^0.17",
            "_model_name": "LeafletAttributionControlModel",
            "_view_count": null,
            "_view_module": "jupyter-leaflet",
            "_view_module_version": "^0.17",
            "_view_name": "LeafletAttributionControlView",
            "options": [
              "position",
              "prefix"
            ],
            "position": "bottomright",
            "prefix": "ipyleaflet"
          }
        },
        "53197f8c644c4f87b29d8f42bcbc06b6": {
          "model_module": "jupyter-leaflet",
          "model_name": "LeafletDrawControlModel",
          "model_module_version": "^0.17",
          "state": {
            "_model_module": "jupyter-leaflet",
            "_model_module_version": "^0.17",
            "_model_name": "LeafletDrawControlModel",
            "_view_count": null,
            "_view_module": "jupyter-leaflet",
            "_view_module_version": "^0.17",
            "_view_name": "LeafletDrawControlView",
            "circle": {
              "shapeOptions": {
                "color": "#3388ff"
              }
            },
            "circlemarker": {},
            "data": [],
            "edit": true,
            "marker": {
              "shapeOptions": {
                "color": "#3388ff"
              }
            },
            "options": [
              "position"
            ],
            "polygon": {
              "shapeOptions": {}
            },
            "polyline": {
              "shapeOptions": {}
            },
            "position": "topleft",
            "rectangle": {
              "shapeOptions": {
                "color": "#3388ff"
              }
            },
            "remove": true
          }
        },
        "e274a352455342ed9e5cca47630eeb80": {
          "model_module": "jupyter-leaflet",
          "model_name": "LeafletWidgetControlModel",
          "model_module_version": "^0.17",
          "state": {
            "_model_module": "jupyter-leaflet",
            "_model_module_version": "^0.17",
            "_model_name": "LeafletWidgetControlModel",
            "_view_count": null,
            "_view_module": "jupyter-leaflet",
            "_view_module_version": "^0.17",
            "_view_name": "LeafletWidgetControlView",
            "max_height": null,
            "max_width": null,
            "min_height": null,
            "min_width": null,
            "options": [
              "position",
              "transparent_bg"
            ],
            "position": "topright",
            "transparent_bg": false,
            "widget": "IPY_MODEL_f98813c4bb944dac967b09c9dc52206a"
          }
        },
        "1df05cc52b6a45559f365afcac90c4fb": {
          "model_module": "jupyter-leaflet",
          "model_name": "LeafletMapStyleModel",
          "model_module_version": "^0.17",
          "state": {
            "_model_module": "jupyter-leaflet",
            "_model_module_version": "^0.17",
            "_model_name": "LeafletMapStyleModel",
            "_view_count": null,
            "_view_module": "@jupyter-widgets/base",
            "_view_module_version": "1.2.0",
            "_view_name": "StyleView",
            "cursor": "grab"
          }
        },
        "37fbf92923e84ecdaa4cfa1b5415c340": {
          "model_module": "jupyter-leaflet",
          "model_name": "LeafletMapStyleModel",
          "model_module_version": "^0.17",
          "state": {
            "_model_module": "jupyter-leaflet",
            "_model_module_version": "^0.17",
            "_model_name": "LeafletMapStyleModel",
            "_view_count": null,
            "_view_module": "@jupyter-widgets/base",
            "_view_module_version": "1.2.0",
            "_view_name": "StyleView",
            "cursor": "move"
          }
        },
        "7f9c56b30cd54dce8824bd653d0974e4": {
          "model_module": "jupyter-leaflet",
          "model_name": "LeafletTileLayerModel",
          "model_module_version": "^0.17",
          "state": {
            "_model_module": "jupyter-leaflet",
            "_model_module_version": "^0.17",
            "_model_name": "LeafletTileLayerModel",
            "_view_count": null,
            "_view_module": "jupyter-leaflet",
            "_view_module_version": "^0.17",
            "_view_name": "LeafletTileLayerView",
            "attribution": "&copy; <a href=\"https://www.openstreetmap.org/copyright\">OpenStreetMap</a> contributors",
            "base": true,
            "bottom": true,
            "bounds": null,
            "detect_retina": false,
            "loading": false,
            "max_native_zoom": null,
            "max_zoom": 19,
            "min_native_zoom": null,
            "min_zoom": 1,
            "name": "OpenStreetMap.Mapnik",
            "no_wrap": false,
            "opacity": 1,
            "options": [
              "attribution",
              "bounds",
              "detect_retina",
              "max_native_zoom",
              "max_zoom",
              "min_native_zoom",
              "min_zoom",
              "no_wrap",
              "tile_size",
              "tms",
              "zoom_offset"
            ],
            "pane": "",
            "popup": null,
            "popup_max_height": null,
            "popup_max_width": 300,
            "popup_min_width": 50,
            "show_loading": false,
            "tile_size": 256,
            "tms": false,
            "url": "https://tile.openstreetmap.org/{z}/{x}/{y}.png",
            "visible": true,
            "zoom_offset": 0
          }
        },
        "1cbf4754e6794067a7deb826ebcdf771": {
          "model_module": "jupyter-leaflet",
          "model_name": "LeafletTileLayerModel",
          "model_module_version": "^0.17",
          "state": {
            "_model_module": "jupyter-leaflet",
            "_model_module_version": "^0.17",
            "_model_name": "LeafletTileLayerModel",
            "_view_count": null,
            "_view_module": "jupyter-leaflet",
            "_view_module_version": "^0.17",
            "_view_name": "LeafletTileLayerView",
            "attribution": "Google",
            "base": false,
            "bottom": true,
            "bounds": null,
            "detect_retina": false,
            "loading": false,
            "max_native_zoom": null,
            "max_zoom": 22,
            "min_native_zoom": null,
            "min_zoom": 0,
            "name": "Google Maps",
            "no_wrap": false,
            "opacity": 1,
            "options": [
              "attribution",
              "bounds",
              "detect_retina",
              "max_native_zoom",
              "max_zoom",
              "min_native_zoom",
              "min_zoom",
              "no_wrap",
              "tile_size",
              "tms",
              "zoom_offset"
            ],
            "pane": "",
            "popup": null,
            "popup_max_height": null,
            "popup_max_width": 300,
            "popup_min_width": 50,
            "show_loading": false,
            "tile_size": 256,
            "tms": false,
            "url": "https://mt1.google.com/vt/lyrs=m&x={x}&y={y}&z={z}",
            "visible": true,
            "zoom_offset": 0
          }
        },
        "f81a1d56ddd4442c8701b052144b86f9": {
          "model_module": "jupyter-leaflet",
          "model_name": "LeafletTileLayerModel",
          "model_module_version": "^0.17",
          "state": {
            "_model_module": "jupyter-leaflet",
            "_model_module_version": "^0.17",
            "_model_name": "LeafletTileLayerModel",
            "_view_count": null,
            "_view_module": "jupyter-leaflet",
            "_view_module_version": "^0.17",
            "_view_name": "LeafletTileLayerView",
            "attribution": "Google Earth Engine",
            "base": false,
            "bottom": true,
            "bounds": null,
            "detect_retina": false,
            "loading": false,
            "max_native_zoom": null,
            "max_zoom": 24,
            "min_native_zoom": null,
            "min_zoom": 0,
            "name": "Ecoregions",
            "no_wrap": false,
            "opacity": 1,
            "options": [
              "attribution",
              "bounds",
              "detect_retina",
              "max_native_zoom",
              "max_zoom",
              "min_native_zoom",
              "min_zoom",
              "no_wrap",
              "tile_size",
              "tms",
              "zoom_offset"
            ],
            "pane": "",
            "popup": null,
            "popup_max_height": null,
            "popup_max_width": 300,
            "popup_min_width": 50,
            "show_loading": false,
            "tile_size": 256,
            "tms": false,
            "url": "https://earthengine.googleapis.com/v1alpha/projects/earthengine-legacy/maps/3b35447851c6a120ea760f27530aafa4-35cbd689e5321de71d37bf3135fbffc3/tiles/{z}/{x}/{y}",
            "visible": true,
            "zoom_offset": 0
          }
        },
        "c2a2d720e7ec4d8dbd5a3e7a2e79ab8d": {
          "model_module": "@jupyter-widgets/base",
          "model_name": "LayoutModel",
          "model_module_version": "1.2.0",
          "state": {
            "_model_module": "@jupyter-widgets/base",
            "_model_module_version": "1.2.0",
            "_model_name": "LayoutModel",
            "_view_count": null,
            "_view_module": "@jupyter-widgets/base",
            "_view_module_version": "1.2.0",
            "_view_name": "LayoutView",
            "align_content": null,
            "align_items": null,
            "align_self": null,
            "border": null,
            "bottom": null,
            "display": null,
            "flex": null,
            "flex_flow": null,
            "grid_area": null,
            "grid_auto_columns": null,
            "grid_auto_flow": null,
            "grid_auto_rows": null,
            "grid_column": null,
            "grid_gap": null,
            "grid_row": null,
            "grid_template_areas": null,
            "grid_template_columns": null,
            "grid_template_rows": null,
            "height": "600px",
            "justify_content": null,
            "justify_items": null,
            "left": null,
            "margin": null,
            "max_height": null,
            "max_width": null,
            "min_height": null,
            "min_width": null,
            "object_fit": null,
            "object_position": null,
            "order": null,
            "overflow": null,
            "overflow_x": null,
            "overflow_y": null,
            "padding": null,
            "right": null,
            "top": null,
            "visibility": null,
            "width": null
          }
        },
        "84b3cf5c683d49cdbff7440da74aa5a6": {
          "model_module": "jupyter-leaflet",
          "model_name": "LeafletMapStyleModel",
          "model_module_version": "^0.17",
          "state": {
            "_model_module": "jupyter-leaflet",
            "_model_module_version": "^0.17",
            "_model_name": "LeafletMapStyleModel",
            "_view_count": null,
            "_view_module": "@jupyter-widgets/base",
            "_view_module_version": "1.2.0",
            "_view_name": "StyleView",
            "cursor": "grab"
          }
        },
        "5fc0cb370785476297a1cf54b521e35d": {
          "model_module": "@jupyter-widgets/controls",
          "model_name": "HBoxModel",
          "model_module_version": "1.5.0",
          "state": {
            "_dom_classes": [],
            "_model_module": "@jupyter-widgets/controls",
            "_model_module_version": "1.5.0",
            "_model_name": "HBoxModel",
            "_view_count": null,
            "_view_module": "@jupyter-widgets/controls",
            "_view_module_version": "1.5.0",
            "_view_name": "HBoxView",
            "box_style": "",
            "children": [
              "IPY_MODEL_742616288f1d4f8e83010745aa99588d"
            ],
            "layout": "IPY_MODEL_10dfe25979b44baea6e180a1ad991b0c"
          }
        },
        "f98813c4bb944dac967b09c9dc52206a": {
          "model_module": "@jupyter-widgets/controls",
          "model_name": "VBoxModel",
          "model_module_version": "1.5.0",
          "state": {
            "_dom_classes": [],
            "_model_module": "@jupyter-widgets/controls",
            "_model_module_version": "1.5.0",
            "_model_name": "VBoxModel",
            "_view_count": null,
            "_view_module": "@jupyter-widgets/controls",
            "_view_module_version": "1.5.0",
            "_view_name": "VBoxView",
            "box_style": "",
            "children": [
              "IPY_MODEL_e1f4f4861c5544b789a68e1329b251b4"
            ],
            "layout": "IPY_MODEL_44779fa7991f468a89d1995feadeef4e"
          }
        },
        "742616288f1d4f8e83010745aa99588d": {
          "model_module": "@jupyter-widgets/controls",
          "model_name": "ToggleButtonModel",
          "model_module_version": "1.5.0",
          "state": {
            "_dom_classes": [],
            "_model_module": "@jupyter-widgets/controls",
            "_model_module_version": "1.5.0",
            "_model_name": "ToggleButtonModel",
            "_view_count": null,
            "_view_module": "@jupyter-widgets/controls",
            "_view_module_version": "1.5.0",
            "_view_name": "ToggleButtonView",
            "button_style": "",
            "description": "",
            "description_tooltip": null,
            "disabled": false,
            "icon": "globe",
            "layout": "IPY_MODEL_d5f0d691c00d465cbe1b2bd35938af08",
            "style": "IPY_MODEL_170c1e145dcd47b4a7f929e78f289a65",
            "tooltip": "Search location/data",
            "value": false
          }
        },
        "10dfe25979b44baea6e180a1ad991b0c": {
          "model_module": "@jupyter-widgets/base",
          "model_name": "LayoutModel",
          "model_module_version": "1.2.0",
          "state": {
            "_model_module": "@jupyter-widgets/base",
            "_model_module_version": "1.2.0",
            "_model_name": "LayoutModel",
            "_view_count": null,
            "_view_module": "@jupyter-widgets/base",
            "_view_module_version": "1.2.0",
            "_view_name": "LayoutView",
            "align_content": null,
            "align_items": null,
            "align_self": null,
            "border": null,
            "bottom": null,
            "display": null,
            "flex": null,
            "flex_flow": null,
            "grid_area": null,
            "grid_auto_columns": null,
            "grid_auto_flow": null,
            "grid_auto_rows": null,
            "grid_column": null,
            "grid_gap": null,
            "grid_row": null,
            "grid_template_areas": null,
            "grid_template_columns": null,
            "grid_template_rows": null,
            "height": null,
            "justify_content": null,
            "justify_items": null,
            "left": null,
            "margin": null,
            "max_height": null,
            "max_width": null,
            "min_height": null,
            "min_width": null,
            "object_fit": null,
            "object_position": null,
            "order": null,
            "overflow": null,
            "overflow_x": null,
            "overflow_y": null,
            "padding": null,
            "right": null,
            "top": null,
            "visibility": null,
            "width": null
          }
        },
        "e1f4f4861c5544b789a68e1329b251b4": {
          "model_module": "@jupyter-widgets/controls",
          "model_name": "ToggleButtonModel",
          "model_module_version": "1.5.0",
          "state": {
            "_dom_classes": [],
            "_model_module": "@jupyter-widgets/controls",
            "_model_module_version": "1.5.0",
            "_model_name": "ToggleButtonModel",
            "_view_count": null,
            "_view_module": "@jupyter-widgets/controls",
            "_view_module_version": "1.5.0",
            "_view_name": "ToggleButtonView",
            "button_style": "",
            "description": "",
            "description_tooltip": null,
            "disabled": false,
            "icon": "wrench",
            "layout": "IPY_MODEL_6d24d2270e8a4fa588a594682dc89380",
            "style": "IPY_MODEL_34c4969ab0a84d0fb174ff81901894ab",
            "tooltip": "Toolbar",
            "value": false
          }
        },
        "44779fa7991f468a89d1995feadeef4e": {
          "model_module": "@jupyter-widgets/base",
          "model_name": "LayoutModel",
          "model_module_version": "1.2.0",
          "state": {
            "_model_module": "@jupyter-widgets/base",
            "_model_module_version": "1.2.0",
            "_model_name": "LayoutModel",
            "_view_count": null,
            "_view_module": "@jupyter-widgets/base",
            "_view_module_version": "1.2.0",
            "_view_name": "LayoutView",
            "align_content": null,
            "align_items": null,
            "align_self": null,
            "border": null,
            "bottom": null,
            "display": null,
            "flex": null,
            "flex_flow": null,
            "grid_area": null,
            "grid_auto_columns": null,
            "grid_auto_flow": null,
            "grid_auto_rows": null,
            "grid_column": null,
            "grid_gap": null,
            "grid_row": null,
            "grid_template_areas": null,
            "grid_template_columns": null,
            "grid_template_rows": null,
            "height": null,
            "justify_content": null,
            "justify_items": null,
            "left": null,
            "margin": null,
            "max_height": null,
            "max_width": null,
            "min_height": null,
            "min_width": null,
            "object_fit": null,
            "object_position": null,
            "order": null,
            "overflow": null,
            "overflow_x": null,
            "overflow_y": null,
            "padding": null,
            "right": null,
            "top": null,
            "visibility": null,
            "width": null
          }
        },
        "d5f0d691c00d465cbe1b2bd35938af08": {
          "model_module": "@jupyter-widgets/base",
          "model_name": "LayoutModel",
          "model_module_version": "1.2.0",
          "state": {
            "_model_module": "@jupyter-widgets/base",
            "_model_module_version": "1.2.0",
            "_model_name": "LayoutModel",
            "_view_count": null,
            "_view_module": "@jupyter-widgets/base",
            "_view_module_version": "1.2.0",
            "_view_name": "LayoutView",
            "align_content": null,
            "align_items": null,
            "align_self": null,
            "border": null,
            "bottom": null,
            "display": null,
            "flex": null,
            "flex_flow": null,
            "grid_area": null,
            "grid_auto_columns": null,
            "grid_auto_flow": null,
            "grid_auto_rows": null,
            "grid_column": null,
            "grid_gap": null,
            "grid_row": null,
            "grid_template_areas": null,
            "grid_template_columns": null,
            "grid_template_rows": null,
            "height": "28px",
            "justify_content": null,
            "justify_items": null,
            "left": null,
            "margin": null,
            "max_height": null,
            "max_width": null,
            "min_height": null,
            "min_width": null,
            "object_fit": null,
            "object_position": null,
            "order": null,
            "overflow": null,
            "overflow_x": null,
            "overflow_y": null,
            "padding": "0px 0px 0px 4px",
            "right": null,
            "top": null,
            "visibility": null,
            "width": "28px"
          }
        },
        "170c1e145dcd47b4a7f929e78f289a65": {
          "model_module": "@jupyter-widgets/controls",
          "model_name": "DescriptionStyleModel",
          "model_module_version": "1.5.0",
          "state": {
            "_model_module": "@jupyter-widgets/controls",
            "_model_module_version": "1.5.0",
            "_model_name": "DescriptionStyleModel",
            "_view_count": null,
            "_view_module": "@jupyter-widgets/base",
            "_view_module_version": "1.2.0",
            "_view_name": "StyleView",
            "description_width": ""
          }
        },
        "6d24d2270e8a4fa588a594682dc89380": {
          "model_module": "@jupyter-widgets/base",
          "model_name": "LayoutModel",
          "model_module_version": "1.2.0",
          "state": {
            "_model_module": "@jupyter-widgets/base",
            "_model_module_version": "1.2.0",
            "_model_name": "LayoutModel",
            "_view_count": null,
            "_view_module": "@jupyter-widgets/base",
            "_view_module_version": "1.2.0",
            "_view_name": "LayoutView",
            "align_content": null,
            "align_items": null,
            "align_self": null,
            "border": null,
            "bottom": null,
            "display": null,
            "flex": null,
            "flex_flow": null,
            "grid_area": null,
            "grid_auto_columns": null,
            "grid_auto_flow": null,
            "grid_auto_rows": null,
            "grid_column": null,
            "grid_gap": null,
            "grid_row": null,
            "grid_template_areas": null,
            "grid_template_columns": null,
            "grid_template_rows": null,
            "height": "28px",
            "justify_content": null,
            "justify_items": null,
            "left": null,
            "margin": null,
            "max_height": null,
            "max_width": null,
            "min_height": null,
            "min_width": null,
            "object_fit": null,
            "object_position": null,
            "order": null,
            "overflow": null,
            "overflow_x": null,
            "overflow_y": null,
            "padding": "0px 0px 0px 4px",
            "right": null,
            "top": null,
            "visibility": null,
            "width": "28px"
          }
        },
        "34c4969ab0a84d0fb174ff81901894ab": {
          "model_module": "@jupyter-widgets/controls",
          "model_name": "DescriptionStyleModel",
          "model_module_version": "1.5.0",
          "state": {
            "_model_module": "@jupyter-widgets/controls",
            "_model_module_version": "1.5.0",
            "_model_name": "DescriptionStyleModel",
            "_view_count": null,
            "_view_module": "@jupyter-widgets/base",
            "_view_module_version": "1.2.0",
            "_view_name": "StyleView",
            "description_width": ""
          }
        },
        "90f66a66adcc4a2d9bfd7d52ecd45f35": {
          "model_module": "@jupyter-widgets/controls",
          "model_name": "VBoxModel",
          "model_module_version": "1.5.0",
          "state": {
            "_dom_classes": [],
            "_model_module": "@jupyter-widgets/controls",
            "_model_module_version": "1.5.0",
            "_model_name": "VBoxModel",
            "_view_count": null,
            "_view_module": "@jupyter-widgets/controls",
            "_view_module_version": "1.5.0",
            "_view_name": "VBoxView",
            "box_style": "",
            "children": [
              "IPY_MODEL_736153df351f4eb699534e57b4efa173",
              "IPY_MODEL_6e2f3f297a804856a67943e01d1d3208"
            ],
            "layout": "IPY_MODEL_41402543e0484433ad4e82bd2cfcfcc2"
          }
        },
        "736153df351f4eb699534e57b4efa173": {
          "model_module": "bqplot",
          "model_name": "FigureModel",
          "model_module_version": "^0.5",
          "state": {
            "_dom_classes": [],
            "_model_module": "bqplot",
            "_model_module_version": "^0.5",
            "_model_name": "FigureModel",
            "_view_count": null,
            "_view_module": "bqplot",
            "_view_module_version": "^0.5",
            "_view_name": "Figure",
            "animation_duration": 0,
            "axes": [
              "IPY_MODEL_ea541107203a4dbdaee79f4d859ce7d6",
              "IPY_MODEL_a774d2241d4943f783951301232a2524"
            ],
            "background_style": {},
            "fig_margin": {
              "top": 60,
              "bottom": 60,
              "left": 60,
              "right": 60
            },
            "interaction": null,
            "layout": "IPY_MODEL_3da27521282d4b59a75af9901bf894f7",
            "legend_location": "top-left",
            "legend_style": {},
            "legend_text": {},
            "marks": [
              "IPY_MODEL_60b655afc5be4d71b309e2fe45b5380c"
            ],
            "max_aspect_ratio": 100,
            "min_aspect_ratio": 0.01,
            "padding_x": 0,
            "padding_y": 0.025,
            "pixel_ratio": null,
            "scale_x": "IPY_MODEL_618413f3cf86410dbbbd9e48f51e72b4",
            "scale_y": "IPY_MODEL_6892846641a54c84b438f3198e2f37f1",
            "theme": "classic",
            "title": "Average Monthly Temperature by Ecoregion",
            "title_style": {}
          }
        },
        "6e2f3f297a804856a67943e01d1d3208": {
          "model_module": "bqplot",
          "model_name": "ToolbarModel",
          "model_module_version": "^0.5",
          "state": {
            "_dom_classes": [],
            "_model_module": "bqplot",
            "_model_module_version": "^0.5",
            "_model_name": "ToolbarModel",
            "_panning": false,
            "_panzoom": null,
            "_view_count": null,
            "_view_module": "bqplot",
            "_view_module_version": "^0.5",
            "_view_name": "Toolbar",
            "figure": "IPY_MODEL_736153df351f4eb699534e57b4efa173",
            "layout": "IPY_MODEL_bc6b1b1377cb437caf645cdbbf2a7404"
          }
        },
        "41402543e0484433ad4e82bd2cfcfcc2": {
          "model_module": "@jupyter-widgets/base",
          "model_name": "LayoutModel",
          "model_module_version": "1.2.0",
          "state": {
            "_model_module": "@jupyter-widgets/base",
            "_model_module_version": "1.2.0",
            "_model_name": "LayoutModel",
            "_view_count": null,
            "_view_module": "@jupyter-widgets/base",
            "_view_module_version": "1.2.0",
            "_view_name": "LayoutView",
            "align_content": null,
            "align_items": null,
            "align_self": null,
            "border": null,
            "bottom": null,
            "display": null,
            "flex": null,
            "flex_flow": null,
            "grid_area": null,
            "grid_auto_columns": null,
            "grid_auto_flow": null,
            "grid_auto_rows": null,
            "grid_column": null,
            "grid_gap": null,
            "grid_row": null,
            "grid_template_areas": null,
            "grid_template_columns": null,
            "grid_template_rows": null,
            "height": null,
            "justify_content": null,
            "justify_items": null,
            "left": null,
            "margin": null,
            "max_height": null,
            "max_width": null,
            "min_height": null,
            "min_width": null,
            "object_fit": null,
            "object_position": null,
            "order": null,
            "overflow": null,
            "overflow_x": null,
            "overflow_y": null,
            "padding": null,
            "right": null,
            "top": null,
            "visibility": null,
            "width": null
          }
        },
        "ea541107203a4dbdaee79f4d859ce7d6": {
          "model_module": "bqplot",
          "model_name": "AxisModel",
          "model_module_version": "^0.5",
          "state": {
            "_model_module": "bqplot",
            "_model_module_version": "^0.5",
            "_model_name": "AxisModel",
            "_view_count": null,
            "_view_module": "bqplot",
            "_view_module_version": "^0.5",
            "_view_name": "Axis",
            "color": null,
            "grid_color": null,
            "grid_lines": "solid",
            "label": "Ecoregion",
            "label_color": null,
            "label_location": "middle",
            "label_offset": null,
            "num_ticks": null,
            "offset": {},
            "orientation": "horizontal",
            "scale": "IPY_MODEL_7adf0c158a7f4994ac86b28561c7993f",
            "side": "bottom",
            "tick_format": null,
            "tick_rotate": 0,
            "tick_style": {},
            "tick_values": null,
            "visible": true
          }
        },
        "a774d2241d4943f783951301232a2524": {
          "model_module": "bqplot",
          "model_name": "AxisModel",
          "model_module_version": "^0.5",
          "state": {
            "_model_module": "bqplot",
            "_model_module_version": "^0.5",
            "_model_name": "AxisModel",
            "_view_count": null,
            "_view_module": "bqplot",
            "_view_module_version": "^0.5",
            "_view_name": "Axis",
            "color": null,
            "grid_color": null,
            "grid_lines": "solid",
            "label": "Temperature",
            "label_color": null,
            "label_location": "middle",
            "label_offset": null,
            "num_ticks": null,
            "offset": {},
            "orientation": "vertical",
            "scale": "IPY_MODEL_24b1e7a182294728b506305a83a1d800",
            "side": "left",
            "tick_format": null,
            "tick_rotate": 0,
            "tick_style": {},
            "tick_values": null,
            "visible": true
          }
        },
        "3da27521282d4b59a75af9901bf894f7": {
          "model_module": "@jupyter-widgets/base",
          "model_name": "LayoutModel",
          "model_module_version": "1.2.0",
          "state": {
            "_model_module": "@jupyter-widgets/base",
            "_model_module_version": "1.2.0",
            "_model_name": "LayoutModel",
            "_view_count": null,
            "_view_module": "@jupyter-widgets/base",
            "_view_module_version": "1.2.0",
            "_view_name": "LayoutView",
            "align_content": null,
            "align_items": null,
            "align_self": null,
            "border": null,
            "bottom": null,
            "display": null,
            "flex": null,
            "flex_flow": null,
            "grid_area": null,
            "grid_auto_columns": null,
            "grid_auto_flow": null,
            "grid_auto_rows": null,
            "grid_column": null,
            "grid_gap": null,
            "grid_row": null,
            "grid_template_areas": null,
            "grid_template_columns": null,
            "grid_template_rows": null,
            "height": "500px",
            "justify_content": null,
            "justify_items": null,
            "left": null,
            "margin": null,
            "max_height": null,
            "max_width": null,
            "min_height": null,
            "min_width": null,
            "object_fit": null,
            "object_position": null,
            "order": null,
            "overflow": null,
            "overflow_x": null,
            "overflow_y": null,
            "padding": null,
            "right": null,
            "top": null,
            "visibility": null,
            "width": null
          }
        },
        "60b655afc5be4d71b309e2fe45b5380c": {
          "model_module": "bqplot",
          "model_name": "BarsModel",
          "model_module_version": "^0.5",
          "state": {
            "_model_module": "bqplot",
            "_model_module_version": "^0.5",
            "_model_name": "BarsModel",
            "_view_count": null,
            "_view_module": "bqplot",
            "_view_module_version": "^0.5",
            "_view_name": "Bars",
            "align": "center",
            "apply_clip": true,
            "base": 0,
            "color": null,
            "color_mode": "auto",
            "colors": [
              "#604791",
              "#1d6b99",
              "#39a8a7",
              "#0f8755",
              "#76b349",
              "#f0af07",
              "#e37d05",
              "#cf513e",
              "#96356f",
              "#724173",
              "#9c4f97",
              "#696969"
            ],
            "display_legend": true,
            "enable_hover": true,
            "fill": true,
            "interactions": {
              "hover": "tooltip"
            },
            "label_display": false,
            "label_display_format": ".2f",
            "label_display_horizontal_offset": 0,
            "label_display_vertical_offset": 0,
            "label_font_style": {},
            "labels": [
              "Jan",
              "Feb",
              "Mar",
              "Apr",
              "May",
              "Jun",
              "Jul",
              "Aug",
              "Sep",
              "Oct",
              "Nov",
              "Dec"
            ],
            "opacities": [],
            "opacity_mode": "auto",
            "orientation": "vertical",
            "padding": 0.05,
            "preserve_domain": {},
            "scales": {
              "x": "IPY_MODEL_7adf0c158a7f4994ac86b28561c7993f",
              "y": "IPY_MODEL_24b1e7a182294728b506305a83a1d800"
            },
            "scales_metadata": {
              "x": {
                "orientation": "horizontal",
                "dimension": "x"
              },
              "y": {
                "orientation": "vertical",
                "dimension": "y"
              },
              "color": {
                "dimension": "color"
              }
            },
            "selected": null,
            "selected_style": {},
            "stroke": null,
            "stroke_width": 1,
            "tooltip": "IPY_MODEL_75b2aa1f8b65460295bccfa8577efa5f",
            "tooltip_location": "mouse",
            "tooltip_style": {
              "opacity": 0.9
            },
            "type": "grouped",
            "unselected_style": {},
            "visible": true,
            "x": [
              "Desert",
              "Forest",
              "Grassland"
            ],
            "y": {
              "dtype": "float64",
              "shape": [
                12,
                3
              ],
              "type": null
            }
          }
        },
        "618413f3cf86410dbbbd9e48f51e72b4": {
          "model_module": "bqplot",
          "model_name": "LinearScaleModel",
          "model_module_version": "^0.5",
          "state": {
            "_model_module": "bqplot",
            "_model_module_version": "^0.5",
            "_model_name": "LinearScaleModel",
            "_view_count": null,
            "_view_module": "bqplot",
            "_view_module_version": "^0.5",
            "_view_name": "LinearScale",
            "allow_padding": false,
            "max": 1,
            "mid_range": 0.8,
            "min": 0,
            "min_range": 0.6,
            "reverse": false,
            "stabilized": false
          }
        },
        "6892846641a54c84b438f3198e2f37f1": {
          "model_module": "bqplot",
          "model_name": "LinearScaleModel",
          "model_module_version": "^0.5",
          "state": {
            "_model_module": "bqplot",
            "_model_module_version": "^0.5",
            "_model_name": "LinearScaleModel",
            "_view_count": null,
            "_view_module": "bqplot",
            "_view_module_version": "^0.5",
            "_view_name": "LinearScale",
            "allow_padding": false,
            "max": 1,
            "mid_range": 0.8,
            "min": 0,
            "min_range": 0.6,
            "reverse": false,
            "stabilized": false
          }
        },
        "bc6b1b1377cb437caf645cdbbf2a7404": {
          "model_module": "@jupyter-widgets/base",
          "model_name": "LayoutModel",
          "model_module_version": "1.2.0",
          "state": {
            "_model_module": "@jupyter-widgets/base",
            "_model_module_version": "1.2.0",
            "_model_name": "LayoutModel",
            "_view_count": null,
            "_view_module": "@jupyter-widgets/base",
            "_view_module_version": "1.2.0",
            "_view_name": "LayoutView",
            "align_content": null,
            "align_items": null,
            "align_self": null,
            "border": null,
            "bottom": null,
            "display": null,
            "flex": null,
            "flex_flow": null,
            "grid_area": null,
            "grid_auto_columns": null,
            "grid_auto_flow": null,
            "grid_auto_rows": null,
            "grid_column": null,
            "grid_gap": null,
            "grid_row": null,
            "grid_template_areas": null,
            "grid_template_columns": null,
            "grid_template_rows": null,
            "height": null,
            "justify_content": null,
            "justify_items": null,
            "left": null,
            "margin": null,
            "max_height": null,
            "max_width": null,
            "min_height": null,
            "min_width": null,
            "object_fit": null,
            "object_position": null,
            "order": null,
            "overflow": null,
            "overflow_x": null,
            "overflow_y": null,
            "padding": null,
            "right": null,
            "top": null,
            "visibility": null,
            "width": null
          }
        },
        "7adf0c158a7f4994ac86b28561c7993f": {
          "model_module": "bqplot",
          "model_name": "OrdinalScaleModel",
          "model_module_version": "^0.5",
          "state": {
            "_model_module": "bqplot",
            "_model_module_version": "^0.5",
            "_model_name": "OrdinalScaleModel",
            "_view_count": null,
            "_view_module": "bqplot",
            "_view_module_version": "^0.5",
            "_view_name": "OrdinalScale",
            "allow_padding": true,
            "domain": [],
            "reverse": false
          }
        },
        "24b1e7a182294728b506305a83a1d800": {
          "model_module": "bqplot",
          "model_name": "LinearScaleModel",
          "model_module_version": "^0.5",
          "state": {
            "_model_module": "bqplot",
            "_model_module_version": "^0.5",
            "_model_name": "LinearScaleModel",
            "_view_count": null,
            "_view_module": "bqplot",
            "_view_module_version": "^0.5",
            "_view_name": "LinearScale",
            "allow_padding": true,
            "max": 30.83121353232907,
            "mid_range": 0.8,
            "min": -3.7566084167809777,
            "min_range": 0.6,
            "reverse": false,
            "stabilized": false
          }
        },
        "75b2aa1f8b65460295bccfa8577efa5f": {
          "model_module": "bqplot",
          "model_name": "TooltipModel",
          "model_module_version": "^0.5",
          "state": {
            "_dom_classes": [],
            "_model_module": "bqplot",
            "_model_module_version": "^0.5",
            "_model_name": "TooltipModel",
            "_view_count": null,
            "_view_module": "bqplot",
            "_view_module_version": "^0.5",
            "_view_name": "Tooltip",
            "fields": [
              "x",
              "y"
            ],
            "formats": [],
            "labels": [
              "Ecoregion",
              "Temperature"
            ],
            "layout": "IPY_MODEL_2b2a09a1ae9f46af808ceb8ad1f0c988",
            "show_labels": true
          }
        },
        "2b2a09a1ae9f46af808ceb8ad1f0c988": {
          "model_module": "@jupyter-widgets/base",
          "model_name": "LayoutModel",
          "model_module_version": "1.2.0",
          "state": {
            "_model_module": "@jupyter-widgets/base",
            "_model_module_version": "1.2.0",
            "_model_name": "LayoutModel",
            "_view_count": null,
            "_view_module": "@jupyter-widgets/base",
            "_view_module_version": "1.2.0",
            "_view_name": "LayoutView",
            "align_content": null,
            "align_items": null,
            "align_self": null,
            "border": null,
            "bottom": null,
            "display": null,
            "flex": null,
            "flex_flow": null,
            "grid_area": null,
            "grid_auto_columns": null,
            "grid_auto_flow": null,
            "grid_auto_rows": null,
            "grid_column": null,
            "grid_gap": null,
            "grid_row": null,
            "grid_template_areas": null,
            "grid_template_columns": null,
            "grid_template_rows": null,
            "height": null,
            "justify_content": null,
            "justify_items": null,
            "left": null,
            "margin": null,
            "max_height": null,
            "max_width": null,
            "min_height": null,
            "min_width": null,
            "object_fit": null,
            "object_position": null,
            "order": null,
            "overflow": null,
            "overflow_x": null,
            "overflow_y": null,
            "padding": null,
            "right": null,
            "top": null,
            "visibility": null,
            "width": null
          }
        },
        "c2d1b952dc4743e3b5c00d19df8678eb": {
          "model_module": "jupyter-leaflet",
          "model_name": "LeafletMapModel",
          "model_module_version": "^0.17",
          "state": {
            "_dom_classes": [],
            "_model_module": "jupyter-leaflet",
            "_model_module_version": "^0.17",
            "_model_name": "LeafletMapModel",
            "_view_count": null,
            "_view_module": "jupyter-leaflet",
            "_view_module_version": "^0.17",
            "_view_name": "LeafletMapView",
            "bottom": 267496,
            "bounce_at_zoom_limits": true,
            "box_zoom": true,
            "center": [
              -3.4668157512807953,
              71.57867431640626
            ],
            "close_popup_on_click": true,
            "controls": [
              "IPY_MODEL_a120bd3d2d1d49abafbac0ea7e20ac48",
              "IPY_MODEL_8a688bf9bdd644b0b0253685adc7d602",
              "IPY_MODEL_9c522cab7ead45438c964a662b030c93",
              "IPY_MODEL_1cbdade25537490594aa0f2e6d63e4e6",
              "IPY_MODEL_72994fe595e042d88ec38ff28ccb69d7",
              "IPY_MODEL_73241f2dbc0d4a89b92debd4978e60b8",
              "IPY_MODEL_774bbe2c88c640f0bfc13d7226e1db77",
              "IPY_MODEL_e65e9fe17d4e46f5af792ec1f0928480"
            ],
            "crs": {
              "name": "EPSG3857",
              "custom": false
            },
            "default_style": "IPY_MODEL_7787a33939554f30809caae847f68612",
            "double_click_zoom": true,
            "dragging": true,
            "dragging_style": "IPY_MODEL_53dd968058534012ae463dde53279564",
            "east": 72.02980041503908,
            "fullscreen": false,
            "inertia": true,
            "inertia_deceleration": 3000,
            "inertia_max_speed": 1500,
            "interpolation": "bilinear",
            "keyboard": true,
            "keyboard_pan_offset": 80,
            "keyboard_zoom_offset": 1,
            "layers": [
              "IPY_MODEL_ea561c410e8644deb331f075c95501be",
              "IPY_MODEL_1cbf4754e6794067a7deb826ebcdf771",
              "IPY_MODEL_885ab9f163da447687ad947b81c98255"
            ],
            "layout": "IPY_MODEL_f040a3fff68a45818b88b2aa0a038897",
            "left": 365731,
            "max_zoom": 24,
            "min_zoom": null,
            "modisdate": "2022-09-24",
            "north": -3.261177158186768,
            "options": [
              "bounce_at_zoom_limits",
              "box_zoom",
              "center",
              "close_popup_on_click",
              "double_click_zoom",
              "dragging",
              "fullscreen",
              "inertia",
              "inertia_deceleration",
              "inertia_max_speed",
              "interpolation",
              "keyboard",
              "keyboard_pan_offset",
              "keyboard_zoom_offset",
              "max_zoom",
              "min_zoom",
              "prefer_canvas",
              "scroll_wheel_zoom",
              "tap",
              "tap_tolerance",
              "touch_zoom",
              "world_copy_jump",
              "zoom",
              "zoom_animation_threshold",
              "zoom_delta",
              "zoom_snap"
            ],
            "panes": {},
            "prefer_canvas": false,
            "right": 367045,
            "scroll_wheel_zoom": true,
            "south": -3.6724096420287116,
            "style": "IPY_MODEL_7787a33939554f30809caae847f68612",
            "tap": true,
            "tap_tolerance": 15,
            "top": 266896,
            "touch_zoom": true,
            "west": 71.12754821777345,
            "window_url": "https://y95a9k5jnr-496ff2e9c6d22116-0-colab.googleusercontent.com/outputframe.html?vrz=colab-20220922-060051-RC00_476055999",
            "world_copy_jump": false,
            "zoom": 11,
            "zoom_animation_threshold": 4,
            "zoom_delta": 1,
            "zoom_snap": 1
          }
        },
        "a120bd3d2d1d49abafbac0ea7e20ac48": {
          "model_module": "jupyter-leaflet",
          "model_name": "LeafletWidgetControlModel",
          "model_module_version": "^0.17",
          "state": {
            "_model_module": "jupyter-leaflet",
            "_model_module_version": "^0.17",
            "_model_name": "LeafletWidgetControlModel",
            "_view_count": null,
            "_view_module": "jupyter-leaflet",
            "_view_module_version": "^0.17",
            "_view_name": "LeafletWidgetControlView",
            "max_height": null,
            "max_width": null,
            "min_height": null,
            "min_width": null,
            "options": [
              "position",
              "transparent_bg"
            ],
            "position": "topleft",
            "transparent_bg": false,
            "widget": "IPY_MODEL_3eca989c5cd841ee9be97b21bd0a4cc6"
          }
        },
        "8a688bf9bdd644b0b0253685adc7d602": {
          "model_module": "jupyter-leaflet",
          "model_name": "LeafletZoomControlModel",
          "model_module_version": "^0.17",
          "state": {
            "_model_module": "jupyter-leaflet",
            "_model_module_version": "^0.17",
            "_model_name": "LeafletZoomControlModel",
            "_view_count": null,
            "_view_module": "jupyter-leaflet",
            "_view_module_version": "^0.17",
            "_view_name": "LeafletZoomControlView",
            "options": [
              "position",
              "zoom_in_text",
              "zoom_in_title",
              "zoom_out_text",
              "zoom_out_title"
            ],
            "position": "topleft",
            "zoom_in_text": "+",
            "zoom_in_title": "Zoom in",
            "zoom_out_text": "-",
            "zoom_out_title": "Zoom out"
          }
        },
        "9c522cab7ead45438c964a662b030c93": {
          "model_module": "jupyter-leaflet",
          "model_name": "LeafletScaleControlModel",
          "model_module_version": "^0.17",
          "state": {
            "_model_module": "jupyter-leaflet",
            "_model_module_version": "^0.17",
            "_model_name": "LeafletScaleControlModel",
            "_view_count": null,
            "_view_module": "jupyter-leaflet",
            "_view_module_version": "^0.17",
            "_view_name": "LeafletScaleControlView",
            "imperial": true,
            "max_width": 100,
            "metric": true,
            "options": [
              "imperial",
              "max_width",
              "metric",
              "position",
              "update_when_idle"
            ],
            "position": "bottomleft",
            "update_when_idle": false
          }
        },
        "1cbdade25537490594aa0f2e6d63e4e6": {
          "model_module": "jupyter-leaflet",
          "model_name": "LeafletFullScreenControlModel",
          "model_module_version": "^0.17",
          "state": {
            "_model_module": "jupyter-leaflet",
            "_model_module_version": "^0.17",
            "_model_name": "LeafletFullScreenControlModel",
            "_view_count": null,
            "_view_module": "jupyter-leaflet",
            "_view_module_version": "^0.17",
            "_view_name": "LeafletFullScreenControlView",
            "options": [
              "position"
            ],
            "position": "topleft"
          }
        },
        "72994fe595e042d88ec38ff28ccb69d7": {
          "model_module": "jupyter-leaflet",
          "model_name": "LeafletMeasureControlModel",
          "model_module_version": "^0.17",
          "state": {
            "_custom_units": {},
            "_model_module": "jupyter-leaflet",
            "_model_module_version": "^0.17",
            "_model_name": "LeafletMeasureControlModel",
            "_view_count": null,
            "_view_module": "jupyter-leaflet",
            "_view_module_version": "^0.17",
            "_view_name": "LeafletMeasureControlView",
            "active_color": "orange",
            "capture_z_index": 10000,
            "completed_color": "#C8F2BE",
            "options": [
              "active_color",
              "capture_z_index",
              "completed_color",
              "popup_options",
              "position",
              "primary_area_unit",
              "primary_length_unit",
              "secondary_area_unit",
              "secondary_length_unit"
            ],
            "popup_options": {
              "className": "leaflet-measure-resultpopup",
              "autoPanPadding": [
                10,
                10
              ]
            },
            "position": "bottomleft",
            "primary_area_unit": "acres",
            "primary_length_unit": "kilometers",
            "secondary_area_unit": null,
            "secondary_length_unit": null
          }
        },
        "73241f2dbc0d4a89b92debd4978e60b8": {
          "model_module": "jupyter-leaflet",
          "model_name": "LeafletAttributionControlModel",
          "model_module_version": "^0.17",
          "state": {
            "_model_module": "jupyter-leaflet",
            "_model_module_version": "^0.17",
            "_model_name": "LeafletAttributionControlModel",
            "_view_count": null,
            "_view_module": "jupyter-leaflet",
            "_view_module_version": "^0.17",
            "_view_name": "LeafletAttributionControlView",
            "options": [
              "position",
              "prefix"
            ],
            "position": "bottomright",
            "prefix": "ipyleaflet"
          }
        },
        "774bbe2c88c640f0bfc13d7226e1db77": {
          "model_module": "jupyter-leaflet",
          "model_name": "LeafletDrawControlModel",
          "model_module_version": "^0.17",
          "state": {
            "_model_module": "jupyter-leaflet",
            "_model_module_version": "^0.17",
            "_model_name": "LeafletDrawControlModel",
            "_view_count": null,
            "_view_module": "jupyter-leaflet",
            "_view_module_version": "^0.17",
            "_view_name": "LeafletDrawControlView",
            "circle": {
              "shapeOptions": {
                "color": "#3388ff"
              }
            },
            "circlemarker": {},
            "data": [],
            "edit": true,
            "marker": {
              "shapeOptions": {
                "color": "#3388ff"
              }
            },
            "options": [
              "position"
            ],
            "polygon": {
              "shapeOptions": {}
            },
            "polyline": {
              "shapeOptions": {}
            },
            "position": "topleft",
            "rectangle": {
              "shapeOptions": {
                "color": "#3388ff"
              }
            },
            "remove": true
          }
        },
        "e65e9fe17d4e46f5af792ec1f0928480": {
          "model_module": "jupyter-leaflet",
          "model_name": "LeafletWidgetControlModel",
          "model_module_version": "^0.17",
          "state": {
            "_model_module": "jupyter-leaflet",
            "_model_module_version": "^0.17",
            "_model_name": "LeafletWidgetControlModel",
            "_view_count": null,
            "_view_module": "jupyter-leaflet",
            "_view_module_version": "^0.17",
            "_view_name": "LeafletWidgetControlView",
            "max_height": null,
            "max_width": null,
            "min_height": null,
            "min_width": null,
            "options": [
              "position",
              "transparent_bg"
            ],
            "position": "topright",
            "transparent_bg": false,
            "widget": "IPY_MODEL_51cb60374a694b6bb354c3d12d8ea03c"
          }
        },
        "7787a33939554f30809caae847f68612": {
          "model_module": "jupyter-leaflet",
          "model_name": "LeafletMapStyleModel",
          "model_module_version": "^0.17",
          "state": {
            "_model_module": "jupyter-leaflet",
            "_model_module_version": "^0.17",
            "_model_name": "LeafletMapStyleModel",
            "_view_count": null,
            "_view_module": "@jupyter-widgets/base",
            "_view_module_version": "1.2.0",
            "_view_name": "StyleView",
            "cursor": "grab"
          }
        },
        "53dd968058534012ae463dde53279564": {
          "model_module": "jupyter-leaflet",
          "model_name": "LeafletMapStyleModel",
          "model_module_version": "^0.17",
          "state": {
            "_model_module": "jupyter-leaflet",
            "_model_module_version": "^0.17",
            "_model_name": "LeafletMapStyleModel",
            "_view_count": null,
            "_view_module": "@jupyter-widgets/base",
            "_view_module_version": "1.2.0",
            "_view_name": "StyleView",
            "cursor": "move"
          }
        },
        "ea561c410e8644deb331f075c95501be": {
          "model_module": "jupyter-leaflet",
          "model_name": "LeafletTileLayerModel",
          "model_module_version": "^0.17",
          "state": {
            "_model_module": "jupyter-leaflet",
            "_model_module_version": "^0.17",
            "_model_name": "LeafletTileLayerModel",
            "_view_count": null,
            "_view_module": "jupyter-leaflet",
            "_view_module_version": "^0.17",
            "_view_name": "LeafletTileLayerView",
            "attribution": "&copy; <a href=\"https://www.openstreetmap.org/copyright\">OpenStreetMap</a> contributors",
            "base": true,
            "bottom": true,
            "bounds": null,
            "detect_retina": false,
            "loading": false,
            "max_native_zoom": null,
            "max_zoom": 19,
            "min_native_zoom": null,
            "min_zoom": 1,
            "name": "OpenStreetMap.Mapnik",
            "no_wrap": false,
            "opacity": 1,
            "options": [
              "attribution",
              "bounds",
              "detect_retina",
              "max_native_zoom",
              "max_zoom",
              "min_native_zoom",
              "min_zoom",
              "no_wrap",
              "tile_size",
              "tms",
              "zoom_offset"
            ],
            "pane": "",
            "popup": null,
            "popup_max_height": null,
            "popup_max_width": 300,
            "popup_min_width": 50,
            "show_loading": false,
            "tile_size": 256,
            "tms": false,
            "url": "https://tile.openstreetmap.org/{z}/{x}/{y}.png",
            "visible": true,
            "zoom_offset": 0
          }
        },
        "885ab9f163da447687ad947b81c98255": {
          "model_module": "jupyter-leaflet",
          "model_name": "LeafletTileLayerModel",
          "model_module_version": "^0.17",
          "state": {
            "_model_module": "jupyter-leaflet",
            "_model_module_version": "^0.17",
            "_model_name": "LeafletTileLayerModel",
            "_view_count": null,
            "_view_module": "jupyter-leaflet",
            "_view_module_version": "^0.17",
            "_view_name": "LeafletTileLayerView",
            "attribution": "Google Earth Engine",
            "base": false,
            "bottom": true,
            "bounds": null,
            "detect_retina": false,
            "loading": false,
            "max_native_zoom": null,
            "max_zoom": 24,
            "min_native_zoom": null,
            "min_zoom": 0,
            "name": "Features",
            "no_wrap": false,
            "opacity": 1,
            "options": [
              "attribution",
              "bounds",
              "detect_retina",
              "max_native_zoom",
              "max_zoom",
              "min_native_zoom",
              "min_zoom",
              "no_wrap",
              "tile_size",
              "tms",
              "zoom_offset"
            ],
            "pane": "",
            "popup": null,
            "popup_max_height": null,
            "popup_max_width": 300,
            "popup_min_width": 50,
            "show_loading": false,
            "tile_size": 256,
            "tms": false,
            "url": "https://earthengine.googleapis.com/v1alpha/projects/earthengine-legacy/maps/8eb2fb788758553962dff8e00b0ac61a-9ff91517f5d24be3d94493960634231b/tiles/{z}/{x}/{y}",
            "visible": true,
            "zoom_offset": 0
          }
        },
        "f040a3fff68a45818b88b2aa0a038897": {
          "model_module": "@jupyter-widgets/base",
          "model_name": "LayoutModel",
          "model_module_version": "1.2.0",
          "state": {
            "_model_module": "@jupyter-widgets/base",
            "_model_module_version": "1.2.0",
            "_model_name": "LayoutModel",
            "_view_count": null,
            "_view_module": "@jupyter-widgets/base",
            "_view_module_version": "1.2.0",
            "_view_name": "LayoutView",
            "align_content": null,
            "align_items": null,
            "align_self": null,
            "border": null,
            "bottom": null,
            "display": null,
            "flex": null,
            "flex_flow": null,
            "grid_area": null,
            "grid_auto_columns": null,
            "grid_auto_flow": null,
            "grid_auto_rows": null,
            "grid_column": null,
            "grid_gap": null,
            "grid_row": null,
            "grid_template_areas": null,
            "grid_template_columns": null,
            "grid_template_rows": null,
            "height": "600px",
            "justify_content": null,
            "justify_items": null,
            "left": null,
            "margin": null,
            "max_height": null,
            "max_width": null,
            "min_height": null,
            "min_width": null,
            "object_fit": null,
            "object_position": null,
            "order": null,
            "overflow": null,
            "overflow_x": null,
            "overflow_y": null,
            "padding": null,
            "right": null,
            "top": null,
            "visibility": null,
            "width": null
          }
        },
        "c9d12555b374427f80e755d1294ba944": {
          "model_module": "jupyter-leaflet",
          "model_name": "LeafletMapStyleModel",
          "model_module_version": "^0.17",
          "state": {
            "_model_module": "jupyter-leaflet",
            "_model_module_version": "^0.17",
            "_model_name": "LeafletMapStyleModel",
            "_view_count": null,
            "_view_module": "@jupyter-widgets/base",
            "_view_module_version": "1.2.0",
            "_view_name": "StyleView",
            "cursor": "grab"
          }
        },
        "3eca989c5cd841ee9be97b21bd0a4cc6": {
          "model_module": "@jupyter-widgets/controls",
          "model_name": "HBoxModel",
          "model_module_version": "1.5.0",
          "state": {
            "_dom_classes": [],
            "_model_module": "@jupyter-widgets/controls",
            "_model_module_version": "1.5.0",
            "_model_name": "HBoxModel",
            "_view_count": null,
            "_view_module": "@jupyter-widgets/controls",
            "_view_module_version": "1.5.0",
            "_view_name": "HBoxView",
            "box_style": "",
            "children": [
              "IPY_MODEL_2b058b6b88f744048874b2a5dd38eb8c"
            ],
            "layout": "IPY_MODEL_a60e67903cfd47c284c0d346f02b1c21"
          }
        },
        "51cb60374a694b6bb354c3d12d8ea03c": {
          "model_module": "@jupyter-widgets/controls",
          "model_name": "VBoxModel",
          "model_module_version": "1.5.0",
          "state": {
            "_dom_classes": [],
            "_model_module": "@jupyter-widgets/controls",
            "_model_module_version": "1.5.0",
            "_model_name": "VBoxModel",
            "_view_count": null,
            "_view_module": "@jupyter-widgets/controls",
            "_view_module_version": "1.5.0",
            "_view_name": "VBoxView",
            "box_style": "",
            "children": [
              "IPY_MODEL_831512f0d25f490ebdd1dea65bca3d0a"
            ],
            "layout": "IPY_MODEL_3651d0dc9fac41cd85e1c3ccbdc2dc4a"
          }
        },
        "2b058b6b88f744048874b2a5dd38eb8c": {
          "model_module": "@jupyter-widgets/controls",
          "model_name": "ToggleButtonModel",
          "model_module_version": "1.5.0",
          "state": {
            "_dom_classes": [],
            "_model_module": "@jupyter-widgets/controls",
            "_model_module_version": "1.5.0",
            "_model_name": "ToggleButtonModel",
            "_view_count": null,
            "_view_module": "@jupyter-widgets/controls",
            "_view_module_version": "1.5.0",
            "_view_name": "ToggleButtonView",
            "button_style": "",
            "description": "",
            "description_tooltip": null,
            "disabled": false,
            "icon": "globe",
            "layout": "IPY_MODEL_f56c28e7973247baa6b41fb86ec07c06",
            "style": "IPY_MODEL_3a1a5d90177041a48438a600f0cb33a6",
            "tooltip": "Search location/data",
            "value": false
          }
        },
        "a60e67903cfd47c284c0d346f02b1c21": {
          "model_module": "@jupyter-widgets/base",
          "model_name": "LayoutModel",
          "model_module_version": "1.2.0",
          "state": {
            "_model_module": "@jupyter-widgets/base",
            "_model_module_version": "1.2.0",
            "_model_name": "LayoutModel",
            "_view_count": null,
            "_view_module": "@jupyter-widgets/base",
            "_view_module_version": "1.2.0",
            "_view_name": "LayoutView",
            "align_content": null,
            "align_items": null,
            "align_self": null,
            "border": null,
            "bottom": null,
            "display": null,
            "flex": null,
            "flex_flow": null,
            "grid_area": null,
            "grid_auto_columns": null,
            "grid_auto_flow": null,
            "grid_auto_rows": null,
            "grid_column": null,
            "grid_gap": null,
            "grid_row": null,
            "grid_template_areas": null,
            "grid_template_columns": null,
            "grid_template_rows": null,
            "height": null,
            "justify_content": null,
            "justify_items": null,
            "left": null,
            "margin": null,
            "max_height": null,
            "max_width": null,
            "min_height": null,
            "min_width": null,
            "object_fit": null,
            "object_position": null,
            "order": null,
            "overflow": null,
            "overflow_x": null,
            "overflow_y": null,
            "padding": null,
            "right": null,
            "top": null,
            "visibility": null,
            "width": null
          }
        },
        "831512f0d25f490ebdd1dea65bca3d0a": {
          "model_module": "@jupyter-widgets/controls",
          "model_name": "ToggleButtonModel",
          "model_module_version": "1.5.0",
          "state": {
            "_dom_classes": [],
            "_model_module": "@jupyter-widgets/controls",
            "_model_module_version": "1.5.0",
            "_model_name": "ToggleButtonModel",
            "_view_count": null,
            "_view_module": "@jupyter-widgets/controls",
            "_view_module_version": "1.5.0",
            "_view_name": "ToggleButtonView",
            "button_style": "",
            "description": "",
            "description_tooltip": null,
            "disabled": false,
            "icon": "wrench",
            "layout": "IPY_MODEL_81a25473b85e41b6af505bce551000d5",
            "style": "IPY_MODEL_b25fa1f5dec94a26b09bc725ddbe126d",
            "tooltip": "Toolbar",
            "value": false
          }
        },
        "3651d0dc9fac41cd85e1c3ccbdc2dc4a": {
          "model_module": "@jupyter-widgets/base",
          "model_name": "LayoutModel",
          "model_module_version": "1.2.0",
          "state": {
            "_model_module": "@jupyter-widgets/base",
            "_model_module_version": "1.2.0",
            "_model_name": "LayoutModel",
            "_view_count": null,
            "_view_module": "@jupyter-widgets/base",
            "_view_module_version": "1.2.0",
            "_view_name": "LayoutView",
            "align_content": null,
            "align_items": null,
            "align_self": null,
            "border": null,
            "bottom": null,
            "display": null,
            "flex": null,
            "flex_flow": null,
            "grid_area": null,
            "grid_auto_columns": null,
            "grid_auto_flow": null,
            "grid_auto_rows": null,
            "grid_column": null,
            "grid_gap": null,
            "grid_row": null,
            "grid_template_areas": null,
            "grid_template_columns": null,
            "grid_template_rows": null,
            "height": null,
            "justify_content": null,
            "justify_items": null,
            "left": null,
            "margin": null,
            "max_height": null,
            "max_width": null,
            "min_height": null,
            "min_width": null,
            "object_fit": null,
            "object_position": null,
            "order": null,
            "overflow": null,
            "overflow_x": null,
            "overflow_y": null,
            "padding": null,
            "right": null,
            "top": null,
            "visibility": null,
            "width": null
          }
        },
        "f56c28e7973247baa6b41fb86ec07c06": {
          "model_module": "@jupyter-widgets/base",
          "model_name": "LayoutModel",
          "model_module_version": "1.2.0",
          "state": {
            "_model_module": "@jupyter-widgets/base",
            "_model_module_version": "1.2.0",
            "_model_name": "LayoutModel",
            "_view_count": null,
            "_view_module": "@jupyter-widgets/base",
            "_view_module_version": "1.2.0",
            "_view_name": "LayoutView",
            "align_content": null,
            "align_items": null,
            "align_self": null,
            "border": null,
            "bottom": null,
            "display": null,
            "flex": null,
            "flex_flow": null,
            "grid_area": null,
            "grid_auto_columns": null,
            "grid_auto_flow": null,
            "grid_auto_rows": null,
            "grid_column": null,
            "grid_gap": null,
            "grid_row": null,
            "grid_template_areas": null,
            "grid_template_columns": null,
            "grid_template_rows": null,
            "height": "28px",
            "justify_content": null,
            "justify_items": null,
            "left": null,
            "margin": null,
            "max_height": null,
            "max_width": null,
            "min_height": null,
            "min_width": null,
            "object_fit": null,
            "object_position": null,
            "order": null,
            "overflow": null,
            "overflow_x": null,
            "overflow_y": null,
            "padding": "0px 0px 0px 4px",
            "right": null,
            "top": null,
            "visibility": null,
            "width": "28px"
          }
        },
        "3a1a5d90177041a48438a600f0cb33a6": {
          "model_module": "@jupyter-widgets/controls",
          "model_name": "DescriptionStyleModel",
          "model_module_version": "1.5.0",
          "state": {
            "_model_module": "@jupyter-widgets/controls",
            "_model_module_version": "1.5.0",
            "_model_name": "DescriptionStyleModel",
            "_view_count": null,
            "_view_module": "@jupyter-widgets/base",
            "_view_module_version": "1.2.0",
            "_view_name": "StyleView",
            "description_width": ""
          }
        },
        "81a25473b85e41b6af505bce551000d5": {
          "model_module": "@jupyter-widgets/base",
          "model_name": "LayoutModel",
          "model_module_version": "1.2.0",
          "state": {
            "_model_module": "@jupyter-widgets/base",
            "_model_module_version": "1.2.0",
            "_model_name": "LayoutModel",
            "_view_count": null,
            "_view_module": "@jupyter-widgets/base",
            "_view_module_version": "1.2.0",
            "_view_name": "LayoutView",
            "align_content": null,
            "align_items": null,
            "align_self": null,
            "border": null,
            "bottom": null,
            "display": null,
            "flex": null,
            "flex_flow": null,
            "grid_area": null,
            "grid_auto_columns": null,
            "grid_auto_flow": null,
            "grid_auto_rows": null,
            "grid_column": null,
            "grid_gap": null,
            "grid_row": null,
            "grid_template_areas": null,
            "grid_template_columns": null,
            "grid_template_rows": null,
            "height": "28px",
            "justify_content": null,
            "justify_items": null,
            "left": null,
            "margin": null,
            "max_height": null,
            "max_width": null,
            "min_height": null,
            "min_width": null,
            "object_fit": null,
            "object_position": null,
            "order": null,
            "overflow": null,
            "overflow_x": null,
            "overflow_y": null,
            "padding": "0px 0px 0px 4px",
            "right": null,
            "top": null,
            "visibility": null,
            "width": "28px"
          }
        },
        "b25fa1f5dec94a26b09bc725ddbe126d": {
          "model_module": "@jupyter-widgets/controls",
          "model_name": "DescriptionStyleModel",
          "model_module_version": "1.5.0",
          "state": {
            "_model_module": "@jupyter-widgets/controls",
            "_model_module_version": "1.5.0",
            "_model_name": "DescriptionStyleModel",
            "_view_count": null,
            "_view_module": "@jupyter-widgets/base",
            "_view_module_version": "1.2.0",
            "_view_name": "StyleView",
            "description_width": ""
          }
        },
        "cfa71c054a8c4adaba279270e2543fe3": {
          "model_module": "@jupyter-widgets/controls",
          "model_name": "VBoxModel",
          "model_module_version": "1.5.0",
          "state": {
            "_dom_classes": [],
            "_model_module": "@jupyter-widgets/controls",
            "_model_module_version": "1.5.0",
            "_model_name": "VBoxModel",
            "_view_count": null,
            "_view_module": "@jupyter-widgets/controls",
            "_view_module_version": "1.5.0",
            "_view_name": "VBoxView",
            "box_style": "",
            "children": [
              "IPY_MODEL_99e937146636458384577e307716f9bd",
              "IPY_MODEL_7f12e1f8b7b44ce4abf9b2efe67f14cf"
            ],
            "layout": "IPY_MODEL_20dd28520d9740afa97b60efad7c55f6"
          }
        },
        "99e937146636458384577e307716f9bd": {
          "model_module": "bqplot",
          "model_name": "FigureModel",
          "model_module_version": "^0.5",
          "state": {
            "_dom_classes": [],
            "_model_module": "bqplot",
            "_model_module_version": "^0.5",
            "_model_name": "FigureModel",
            "_view_count": null,
            "_view_module": "bqplot",
            "_view_module_version": "^0.5",
            "_view_name": "Figure",
            "animation_duration": 0,
            "axes": [
              "IPY_MODEL_46081a1dd5964429acf70a3d88f4fa94",
              "IPY_MODEL_d2a8c02567ec4a24ae8c62a1b0e1e7a5"
            ],
            "background_style": {},
            "fig_margin": {
              "top": 60,
              "bottom": 60,
              "left": 60,
              "right": 60
            },
            "interaction": null,
            "layout": "IPY_MODEL_36534db1b4fc4955b73160025d9a2b88",
            "legend_location": "top-left",
            "legend_style": {},
            "legend_text": {},
            "marks": [
              "IPY_MODEL_3b4502f633c34b17b626438408e53f83"
            ],
            "max_aspect_ratio": 100,
            "min_aspect_ratio": 0.01,
            "padding_x": 0,
            "padding_y": 0.025,
            "pixel_ratio": null,
            "scale_x": "IPY_MODEL_04cfdec6df2f40f79644c3ef11cbb51b",
            "scale_y": "IPY_MODEL_6b06ba6de0344ce6aebaa7908de53448",
            "theme": "classic",
            "title": "Average Ecoregion Precipitation by Month",
            "title_style": {}
          }
        },
        "7f12e1f8b7b44ce4abf9b2efe67f14cf": {
          "model_module": "bqplot",
          "model_name": "ToolbarModel",
          "model_module_version": "^0.5",
          "state": {
            "_dom_classes": [],
            "_model_module": "bqplot",
            "_model_module_version": "^0.5",
            "_model_name": "ToolbarModel",
            "_panning": false,
            "_panzoom": null,
            "_view_count": null,
            "_view_module": "bqplot",
            "_view_module_version": "^0.5",
            "_view_name": "Toolbar",
            "figure": "IPY_MODEL_99e937146636458384577e307716f9bd",
            "layout": "IPY_MODEL_9ba0b1782e924e4da21d51b1a86da8a4"
          }
        },
        "20dd28520d9740afa97b60efad7c55f6": {
          "model_module": "@jupyter-widgets/base",
          "model_name": "LayoutModel",
          "model_module_version": "1.2.0",
          "state": {
            "_model_module": "@jupyter-widgets/base",
            "_model_module_version": "1.2.0",
            "_model_name": "LayoutModel",
            "_view_count": null,
            "_view_module": "@jupyter-widgets/base",
            "_view_module_version": "1.2.0",
            "_view_name": "LayoutView",
            "align_content": null,
            "align_items": null,
            "align_self": null,
            "border": null,
            "bottom": null,
            "display": null,
            "flex": null,
            "flex_flow": null,
            "grid_area": null,
            "grid_auto_columns": null,
            "grid_auto_flow": null,
            "grid_auto_rows": null,
            "grid_column": null,
            "grid_gap": null,
            "grid_row": null,
            "grid_template_areas": null,
            "grid_template_columns": null,
            "grid_template_rows": null,
            "height": null,
            "justify_content": null,
            "justify_items": null,
            "left": null,
            "margin": null,
            "max_height": null,
            "max_width": null,
            "min_height": null,
            "min_width": null,
            "object_fit": null,
            "object_position": null,
            "order": null,
            "overflow": null,
            "overflow_x": null,
            "overflow_y": null,
            "padding": null,
            "right": null,
            "top": null,
            "visibility": null,
            "width": null
          }
        },
        "46081a1dd5964429acf70a3d88f4fa94": {
          "model_module": "bqplot",
          "model_name": "AxisModel",
          "model_module_version": "^0.5",
          "state": {
            "_model_module": "bqplot",
            "_model_module_version": "^0.5",
            "_model_name": "AxisModel",
            "_view_count": null,
            "_view_module": "bqplot",
            "_view_module_version": "^0.5",
            "_view_name": "Axis",
            "color": null,
            "grid_color": null,
            "grid_lines": "solid",
            "label": "Month",
            "label_color": null,
            "label_location": "middle",
            "label_offset": null,
            "num_ticks": null,
            "offset": {},
            "orientation": "horizontal",
            "scale": "IPY_MODEL_291bd4f104144c51afe0d73a8d697e53",
            "side": "bottom",
            "tick_format": null,
            "tick_rotate": 0,
            "tick_style": {},
            "tick_values": null,
            "visible": true
          }
        },
        "d2a8c02567ec4a24ae8c62a1b0e1e7a5": {
          "model_module": "bqplot",
          "model_name": "AxisModel",
          "model_module_version": "^0.5",
          "state": {
            "_model_module": "bqplot",
            "_model_module_version": "^0.5",
            "_model_name": "AxisModel",
            "_view_count": null,
            "_view_module": "bqplot",
            "_view_module_version": "^0.5",
            "_view_name": "Axis",
            "color": null,
            "grid_color": null,
            "grid_lines": "solid",
            "label": "Precipitation (mm)",
            "label_color": null,
            "label_location": "middle",
            "label_offset": null,
            "num_ticks": null,
            "offset": {},
            "orientation": "vertical",
            "scale": "IPY_MODEL_5697b21bdca143c9a110ff5bc9a471a0",
            "side": "left",
            "tick_format": null,
            "tick_rotate": 0,
            "tick_style": {},
            "tick_values": null,
            "visible": true
          }
        },
        "36534db1b4fc4955b73160025d9a2b88": {
          "model_module": "@jupyter-widgets/base",
          "model_name": "LayoutModel",
          "model_module_version": "1.2.0",
          "state": {
            "_model_module": "@jupyter-widgets/base",
            "_model_module_version": "1.2.0",
            "_model_name": "LayoutModel",
            "_view_count": null,
            "_view_module": "@jupyter-widgets/base",
            "_view_module_version": "1.2.0",
            "_view_name": "LayoutView",
            "align_content": null,
            "align_items": null,
            "align_self": null,
            "border": null,
            "bottom": null,
            "display": null,
            "flex": null,
            "flex_flow": null,
            "grid_area": null,
            "grid_auto_columns": null,
            "grid_auto_flow": null,
            "grid_auto_rows": null,
            "grid_column": null,
            "grid_gap": null,
            "grid_row": null,
            "grid_template_areas": null,
            "grid_template_columns": null,
            "grid_template_rows": null,
            "height": "500px",
            "justify_content": null,
            "justify_items": null,
            "left": null,
            "margin": null,
            "max_height": null,
            "max_width": null,
            "min_height": null,
            "min_width": null,
            "object_fit": null,
            "object_position": null,
            "order": null,
            "overflow": null,
            "overflow_x": null,
            "overflow_y": null,
            "padding": null,
            "right": null,
            "top": null,
            "visibility": null,
            "width": null
          }
        },
        "3b4502f633c34b17b626438408e53f83": {
          "model_module": "bqplot",
          "model_name": "BarsModel",
          "model_module_version": "^0.5",
          "state": {
            "_model_module": "bqplot",
            "_model_module_version": "^0.5",
            "_model_name": "BarsModel",
            "_view_count": null,
            "_view_module": "bqplot",
            "_view_module_version": "^0.5",
            "_view_name": "Bars",
            "align": "center",
            "apply_clip": true,
            "base": 0,
            "color": null,
            "color_mode": "auto",
            "colors": [
              "#f0af07",
              "#0f8755",
              "#76b349"
            ],
            "display_legend": true,
            "enable_hover": true,
            "fill": true,
            "interactions": {
              "hover": "tooltip"
            },
            "label_display": false,
            "label_display_format": ".2f",
            "label_display_horizontal_offset": 0,
            "label_display_vertical_offset": 0,
            "label_font_style": {},
            "labels": [
              "Desert",
              "Forest",
              "Grassland"
            ],
            "opacities": [],
            "opacity_mode": "auto",
            "orientation": "vertical",
            "padding": 0.05,
            "preserve_domain": {},
            "scales": {
              "x": "IPY_MODEL_291bd4f104144c51afe0d73a8d697e53",
              "y": "IPY_MODEL_5697b21bdca143c9a110ff5bc9a471a0"
            },
            "scales_metadata": {
              "x": {
                "orientation": "horizontal",
                "dimension": "x"
              },
              "y": {
                "orientation": "vertical",
                "dimension": "y"
              },
              "color": {
                "dimension": "color"
              }
            },
            "selected": null,
            "selected_style": {},
            "stroke": null,
            "stroke_width": 1,
            "tooltip": "IPY_MODEL_f4860e71f0c0475dbb108f6a2eaeae8f",
            "tooltip_location": "mouse",
            "tooltip_style": {
              "opacity": 0.9
            },
            "type": "grouped",
            "unselected_style": {},
            "visible": true,
            "x": [
              "Jan",
              "Feb",
              "Mar",
              "Apr",
              "May",
              "Jun",
              "Jul",
              "Aug",
              "Sep",
              "Oct",
              "Nov",
              "Dec"
            ],
            "y": {
              "dtype": "float64",
              "shape": [
                3,
                12
              ],
              "type": null
            }
          }
        },
        "04cfdec6df2f40f79644c3ef11cbb51b": {
          "model_module": "bqplot",
          "model_name": "LinearScaleModel",
          "model_module_version": "^0.5",
          "state": {
            "_model_module": "bqplot",
            "_model_module_version": "^0.5",
            "_model_name": "LinearScaleModel",
            "_view_count": null,
            "_view_module": "bqplot",
            "_view_module_version": "^0.5",
            "_view_name": "LinearScale",
            "allow_padding": false,
            "max": 1,
            "mid_range": 0.8,
            "min": 0,
            "min_range": 0.6,
            "reverse": false,
            "stabilized": false
          }
        },
        "6b06ba6de0344ce6aebaa7908de53448": {
          "model_module": "bqplot",
          "model_name": "LinearScaleModel",
          "model_module_version": "^0.5",
          "state": {
            "_model_module": "bqplot",
            "_model_module_version": "^0.5",
            "_model_name": "LinearScaleModel",
            "_view_count": null,
            "_view_module": "bqplot",
            "_view_module_version": "^0.5",
            "_view_name": "LinearScale",
            "allow_padding": false,
            "max": 1,
            "mid_range": 0.8,
            "min": 0,
            "min_range": 0.6,
            "reverse": false,
            "stabilized": false
          }
        },
        "9ba0b1782e924e4da21d51b1a86da8a4": {
          "model_module": "@jupyter-widgets/base",
          "model_name": "LayoutModel",
          "model_module_version": "1.2.0",
          "state": {
            "_model_module": "@jupyter-widgets/base",
            "_model_module_version": "1.2.0",
            "_model_name": "LayoutModel",
            "_view_count": null,
            "_view_module": "@jupyter-widgets/base",
            "_view_module_version": "1.2.0",
            "_view_name": "LayoutView",
            "align_content": null,
            "align_items": null,
            "align_self": null,
            "border": null,
            "bottom": null,
            "display": null,
            "flex": null,
            "flex_flow": null,
            "grid_area": null,
            "grid_auto_columns": null,
            "grid_auto_flow": null,
            "grid_auto_rows": null,
            "grid_column": null,
            "grid_gap": null,
            "grid_row": null,
            "grid_template_areas": null,
            "grid_template_columns": null,
            "grid_template_rows": null,
            "height": null,
            "justify_content": null,
            "justify_items": null,
            "left": null,
            "margin": null,
            "max_height": null,
            "max_width": null,
            "min_height": null,
            "min_width": null,
            "object_fit": null,
            "object_position": null,
            "order": null,
            "overflow": null,
            "overflow_x": null,
            "overflow_y": null,
            "padding": null,
            "right": null,
            "top": null,
            "visibility": null,
            "width": null
          }
        },
        "291bd4f104144c51afe0d73a8d697e53": {
          "model_module": "bqplot",
          "model_name": "OrdinalScaleModel",
          "model_module_version": "^0.5",
          "state": {
            "_model_module": "bqplot",
            "_model_module_version": "^0.5",
            "_model_name": "OrdinalScaleModel",
            "_view_count": null,
            "_view_module": "bqplot",
            "_view_module_version": "^0.5",
            "_view_name": "OrdinalScale",
            "allow_padding": true,
            "domain": [],
            "reverse": false
          }
        },
        "5697b21bdca143c9a110ff5bc9a471a0": {
          "model_module": "bqplot",
          "model_name": "LinearScaleModel",
          "model_module_version": "^0.5",
          "state": {
            "_model_module": "bqplot",
            "_model_module_version": "^0.5",
            "_model_name": "LinearScaleModel",
            "_view_count": null,
            "_view_module": "bqplot",
            "_view_module_version": "^0.5",
            "_view_name": "LinearScale",
            "allow_padding": true,
            "max": 326.24161737582955,
            "mid_range": 0.8,
            "min": 8.252543340410508,
            "min_range": 0.6,
            "reverse": false,
            "stabilized": false
          }
        },
        "f4860e71f0c0475dbb108f6a2eaeae8f": {
          "model_module": "bqplot",
          "model_name": "TooltipModel",
          "model_module_version": "^0.5",
          "state": {
            "_dom_classes": [],
            "_model_module": "bqplot",
            "_model_module_version": "^0.5",
            "_model_name": "TooltipModel",
            "_view_count": null,
            "_view_module": "bqplot",
            "_view_module_version": "^0.5",
            "_view_name": "Tooltip",
            "fields": [
              "x",
              "y"
            ],
            "formats": [],
            "labels": [
              "Month",
              "Precipitation (mm)"
            ],
            "layout": "IPY_MODEL_70a376a84b6f4fc8a763b7ed556688fe",
            "show_labels": true
          }
        },
        "70a376a84b6f4fc8a763b7ed556688fe": {
          "model_module": "@jupyter-widgets/base",
          "model_name": "LayoutModel",
          "model_module_version": "1.2.0",
          "state": {
            "_model_module": "@jupyter-widgets/base",
            "_model_module_version": "1.2.0",
            "_model_name": "LayoutModel",
            "_view_count": null,
            "_view_module": "@jupyter-widgets/base",
            "_view_module_version": "1.2.0",
            "_view_name": "LayoutView",
            "align_content": null,
            "align_items": null,
            "align_self": null,
            "border": null,
            "bottom": null,
            "display": null,
            "flex": null,
            "flex_flow": null,
            "grid_area": null,
            "grid_auto_columns": null,
            "grid_auto_flow": null,
            "grid_auto_rows": null,
            "grid_column": null,
            "grid_gap": null,
            "grid_row": null,
            "grid_template_areas": null,
            "grid_template_columns": null,
            "grid_template_rows": null,
            "height": null,
            "justify_content": null,
            "justify_items": null,
            "left": null,
            "margin": null,
            "max_height": null,
            "max_width": null,
            "min_height": null,
            "min_width": null,
            "object_fit": null,
            "object_position": null,
            "order": null,
            "overflow": null,
            "overflow_x": null,
            "overflow_y": null,
            "padding": null,
            "right": null,
            "top": null,
            "visibility": null,
            "width": null
          }
        },
        "ba7c2e2a350542829880cd55ea7c7352": {
          "model_module": "@jupyter-widgets/controls",
          "model_name": "VBoxModel",
          "model_module_version": "1.5.0",
          "state": {
            "_dom_classes": [],
            "_model_module": "@jupyter-widgets/controls",
            "_model_module_version": "1.5.0",
            "_model_name": "VBoxModel",
            "_view_count": null,
            "_view_module": "@jupyter-widgets/controls",
            "_view_module_version": "1.5.0",
            "_view_name": "VBoxView",
            "box_style": "",
            "children": [
              "IPY_MODEL_7fb4432a35224164ab967e0c3971dd26",
              "IPY_MODEL_1474d6dafe50442d93fa93824f771a65"
            ],
            "layout": "IPY_MODEL_47ec5bfb6c6449faa15e804ea817deff"
          }
        },
        "7fb4432a35224164ab967e0c3971dd26": {
          "model_module": "bqplot",
          "model_name": "FigureModel",
          "model_module_version": "^0.5",
          "state": {
            "_dom_classes": [],
            "_model_module": "bqplot",
            "_model_module_version": "^0.5",
            "_model_name": "FigureModel",
            "_view_count": null,
            "_view_module": "bqplot",
            "_view_module_version": "^0.5",
            "_view_name": "Figure",
            "animation_duration": 0,
            "axes": [
              "IPY_MODEL_3dad339f69134bc09110ac00dd66720d",
              "IPY_MODEL_7e1033bd0baa4ea69821ed6bd4e5d412"
            ],
            "background_style": {},
            "fig_margin": {
              "top": 60,
              "bottom": 60,
              "left": 60,
              "right": 60
            },
            "interaction": null,
            "layout": "IPY_MODEL_5b567e3cd37449e1886a2c7acde08d04",
            "legend_location": "top-right",
            "legend_style": {},
            "legend_text": {},
            "marks": [
              "IPY_MODEL_0c5912e30b184c8397b5b392efe00c17"
            ],
            "max_aspect_ratio": 100,
            "min_aspect_ratio": 0.01,
            "padding_x": 0,
            "padding_y": 0.025,
            "pixel_ratio": null,
            "scale_x": "IPY_MODEL_c961c55851b84275aa5ea42405a513e2",
            "scale_y": "IPY_MODEL_82db06981c1248cfa7f755fdbea39207",
            "theme": "classic",
            "title": "Average January Temperature by Ecoregion",
            "title_style": {}
          }
        },
        "1474d6dafe50442d93fa93824f771a65": {
          "model_module": "bqplot",
          "model_name": "ToolbarModel",
          "model_module_version": "^0.5",
          "state": {
            "_dom_classes": [],
            "_model_module": "bqplot",
            "_model_module_version": "^0.5",
            "_model_name": "ToolbarModel",
            "_panning": false,
            "_panzoom": null,
            "_view_count": null,
            "_view_module": "bqplot",
            "_view_module_version": "^0.5",
            "_view_name": "Toolbar",
            "figure": "IPY_MODEL_7fb4432a35224164ab967e0c3971dd26",
            "layout": "IPY_MODEL_d0a51dad426d4e75abd7b48a5a7e735a"
          }
        },
        "47ec5bfb6c6449faa15e804ea817deff": {
          "model_module": "@jupyter-widgets/base",
          "model_name": "LayoutModel",
          "model_module_version": "1.2.0",
          "state": {
            "_model_module": "@jupyter-widgets/base",
            "_model_module_version": "1.2.0",
            "_model_name": "LayoutModel",
            "_view_count": null,
            "_view_module": "@jupyter-widgets/base",
            "_view_module_version": "1.2.0",
            "_view_name": "LayoutView",
            "align_content": null,
            "align_items": null,
            "align_self": null,
            "border": null,
            "bottom": null,
            "display": null,
            "flex": null,
            "flex_flow": null,
            "grid_area": null,
            "grid_auto_columns": null,
            "grid_auto_flow": null,
            "grid_auto_rows": null,
            "grid_column": null,
            "grid_gap": null,
            "grid_row": null,
            "grid_template_areas": null,
            "grid_template_columns": null,
            "grid_template_rows": null,
            "height": null,
            "justify_content": null,
            "justify_items": null,
            "left": null,
            "margin": null,
            "max_height": null,
            "max_width": null,
            "min_height": null,
            "min_width": null,
            "object_fit": null,
            "object_position": null,
            "order": null,
            "overflow": null,
            "overflow_x": null,
            "overflow_y": null,
            "padding": null,
            "right": null,
            "top": null,
            "visibility": null,
            "width": null
          }
        },
        "3dad339f69134bc09110ac00dd66720d": {
          "model_module": "bqplot",
          "model_name": "AxisModel",
          "model_module_version": "^0.5",
          "state": {
            "_model_module": "bqplot",
            "_model_module_version": "^0.5",
            "_model_name": "AxisModel",
            "_view_count": null,
            "_view_module": "bqplot",
            "_view_module_version": "^0.5",
            "_view_name": "Axis",
            "color": null,
            "grid_color": null,
            "grid_lines": "solid",
            "label": "Ecoregion",
            "label_color": null,
            "label_location": "middle",
            "label_offset": null,
            "num_ticks": null,
            "offset": {},
            "orientation": "horizontal",
            "scale": "IPY_MODEL_c8469460dfba40a8b5e570e135ed251a",
            "side": "bottom",
            "tick_format": null,
            "tick_rotate": 0,
            "tick_style": {},
            "tick_values": null,
            "visible": true
          }
        },
        "7e1033bd0baa4ea69821ed6bd4e5d412": {
          "model_module": "bqplot",
          "model_name": "AxisModel",
          "model_module_version": "^0.5",
          "state": {
            "_model_module": "bqplot",
            "_model_module_version": "^0.5",
            "_model_name": "AxisModel",
            "_view_count": null,
            "_view_module": "bqplot",
            "_view_module_version": "^0.5",
            "_view_name": "Axis",
            "color": null,
            "grid_color": null,
            "grid_lines": "solid",
            "label": "Jan temp (C)",
            "label_color": null,
            "label_location": "middle",
            "label_offset": null,
            "num_ticks": null,
            "offset": {},
            "orientation": "vertical",
            "scale": "IPY_MODEL_4f9c31540ef047bd9fd76a0a6ee2d40b",
            "side": "left",
            "tick_format": null,
            "tick_rotate": 0,
            "tick_style": {},
            "tick_values": null,
            "visible": true
          }
        },
        "5b567e3cd37449e1886a2c7acde08d04": {
          "model_module": "@jupyter-widgets/base",
          "model_name": "LayoutModel",
          "model_module_version": "1.2.0",
          "state": {
            "_model_module": "@jupyter-widgets/base",
            "_model_module_version": "1.2.0",
            "_model_name": "LayoutModel",
            "_view_count": null,
            "_view_module": "@jupyter-widgets/base",
            "_view_module_version": "1.2.0",
            "_view_name": "LayoutView",
            "align_content": null,
            "align_items": null,
            "align_self": null,
            "border": null,
            "bottom": null,
            "display": null,
            "flex": null,
            "flex_flow": null,
            "grid_area": null,
            "grid_auto_columns": null,
            "grid_auto_flow": null,
            "grid_auto_rows": null,
            "grid_column": null,
            "grid_gap": null,
            "grid_row": null,
            "grid_template_areas": null,
            "grid_template_columns": null,
            "grid_template_rows": null,
            "height": "500px",
            "justify_content": null,
            "justify_items": null,
            "left": null,
            "margin": null,
            "max_height": null,
            "max_width": null,
            "min_height": null,
            "min_width": null,
            "object_fit": null,
            "object_position": null,
            "order": null,
            "overflow": null,
            "overflow_x": null,
            "overflow_y": null,
            "padding": null,
            "right": null,
            "top": null,
            "visibility": null,
            "width": null
          }
        },
        "0c5912e30b184c8397b5b392efe00c17": {
          "model_module": "bqplot",
          "model_name": "BarsModel",
          "model_module_version": "^0.5",
          "state": {
            "_model_module": "bqplot",
            "_model_module_version": "^0.5",
            "_model_name": "BarsModel",
            "_view_count": null,
            "_view_module": "bqplot",
            "_view_module_version": "^0.5",
            "_view_name": "Bars",
            "align": "center",
            "apply_clip": true,
            "base": 0,
            "color": null,
            "color_mode": "auto",
            "colors": [
              "#cf513e",
              "#1d6b99"
            ],
            "display_legend": true,
            "enable_hover": true,
            "fill": true,
            "interactions": {
              "hover": "tooltip"
            },
            "label_display": false,
            "label_display_format": ".2f",
            "label_display_horizontal_offset": 0,
            "label_display_vertical_offset": 0,
            "label_font_style": {},
            "labels": [
              "Warm",
              "Cold"
            ],
            "opacities": [],
            "opacity_mode": "auto",
            "orientation": "vertical",
            "padding": 0.05,
            "preserve_domain": {},
            "scales": {
              "x": "IPY_MODEL_c8469460dfba40a8b5e570e135ed251a",
              "y": "IPY_MODEL_4f9c31540ef047bd9fd76a0a6ee2d40b"
            },
            "scales_metadata": {
              "x": {
                "orientation": "horizontal",
                "dimension": "x"
              },
              "y": {
                "orientation": "vertical",
                "dimension": "y"
              },
              "color": {
                "dimension": "color"
              }
            },
            "selected": null,
            "selected_style": {},
            "stroke": null,
            "stroke_width": 1,
            "tooltip": "IPY_MODEL_0ab6477f9bf54d83bb6a86bd9f2f4133",
            "tooltip_location": "mouse",
            "tooltip_style": {
              "opacity": 0.9
            },
            "type": "stacked",
            "unselected_style": {},
            "visible": true,
            "x": [
              "Desert",
              "Forest",
              "Grassland"
            ],
            "y": {
              "dtype": "float64",
              "shape": [
                2,
                3
              ],
              "type": null
            }
          }
        },
        "c961c55851b84275aa5ea42405a513e2": {
          "model_module": "bqplot",
          "model_name": "LinearScaleModel",
          "model_module_version": "^0.5",
          "state": {
            "_model_module": "bqplot",
            "_model_module_version": "^0.5",
            "_model_name": "LinearScaleModel",
            "_view_count": null,
            "_view_module": "bqplot",
            "_view_module_version": "^0.5",
            "_view_name": "LinearScale",
            "allow_padding": false,
            "max": 1,
            "mid_range": 0.8,
            "min": 0,
            "min_range": 0.6,
            "reverse": false,
            "stabilized": false
          }
        },
        "82db06981c1248cfa7f755fdbea39207": {
          "model_module": "bqplot",
          "model_name": "LinearScaleModel",
          "model_module_version": "^0.5",
          "state": {
            "_model_module": "bqplot",
            "_model_module_version": "^0.5",
            "_model_name": "LinearScaleModel",
            "_view_count": null,
            "_view_module": "bqplot",
            "_view_module_version": "^0.5",
            "_view_name": "LinearScale",
            "allow_padding": false,
            "max": 1,
            "mid_range": 0.8,
            "min": 0,
            "min_range": 0.6,
            "reverse": false,
            "stabilized": false
          }
        },
        "d0a51dad426d4e75abd7b48a5a7e735a": {
          "model_module": "@jupyter-widgets/base",
          "model_name": "LayoutModel",
          "model_module_version": "1.2.0",
          "state": {
            "_model_module": "@jupyter-widgets/base",
            "_model_module_version": "1.2.0",
            "_model_name": "LayoutModel",
            "_view_count": null,
            "_view_module": "@jupyter-widgets/base",
            "_view_module_version": "1.2.0",
            "_view_name": "LayoutView",
            "align_content": null,
            "align_items": null,
            "align_self": null,
            "border": null,
            "bottom": null,
            "display": null,
            "flex": null,
            "flex_flow": null,
            "grid_area": null,
            "grid_auto_columns": null,
            "grid_auto_flow": null,
            "grid_auto_rows": null,
            "grid_column": null,
            "grid_gap": null,
            "grid_row": null,
            "grid_template_areas": null,
            "grid_template_columns": null,
            "grid_template_rows": null,
            "height": null,
            "justify_content": null,
            "justify_items": null,
            "left": null,
            "margin": null,
            "max_height": null,
            "max_width": null,
            "min_height": null,
            "min_width": null,
            "object_fit": null,
            "object_position": null,
            "order": null,
            "overflow": null,
            "overflow_x": null,
            "overflow_y": null,
            "padding": null,
            "right": null,
            "top": null,
            "visibility": null,
            "width": null
          }
        },
        "c8469460dfba40a8b5e570e135ed251a": {
          "model_module": "bqplot",
          "model_name": "OrdinalScaleModel",
          "model_module_version": "^0.5",
          "state": {
            "_model_module": "bqplot",
            "_model_module_version": "^0.5",
            "_model_name": "OrdinalScaleModel",
            "_view_count": null,
            "_view_module": "bqplot",
            "_view_module_version": "^0.5",
            "_view_name": "OrdinalScale",
            "allow_padding": true,
            "domain": [],
            "reverse": false
          }
        },
        "4f9c31540ef047bd9fd76a0a6ee2d40b": {
          "model_module": "bqplot",
          "model_name": "LinearScaleModel",
          "model_module_version": "^0.5",
          "state": {
            "_model_module": "bqplot",
            "_model_module_version": "^0.5",
            "_model_name": "LinearScaleModel",
            "_view_count": null,
            "_view_module": "bqplot",
            "_view_module_version": "^0.5",
            "_view_name": "LinearScale",
            "allow_padding": true,
            "max": 7.700564856682961,
            "mid_range": 0.8,
            "min": -3.7566084167809777,
            "min_range": 0.6,
            "reverse": false,
            "stabilized": false
          }
        },
        "0ab6477f9bf54d83bb6a86bd9f2f4133": {
          "model_module": "bqplot",
          "model_name": "TooltipModel",
          "model_module_version": "^0.5",
          "state": {
            "_dom_classes": [],
            "_model_module": "bqplot",
            "_model_module_version": "^0.5",
            "_model_name": "TooltipModel",
            "_view_count": null,
            "_view_module": "bqplot",
            "_view_module_version": "^0.5",
            "_view_name": "Tooltip",
            "fields": [
              "x",
              "y"
            ],
            "formats": [],
            "labels": [
              "Ecoregion",
              "Jan temp (C)"
            ],
            "layout": "IPY_MODEL_46e828f3010c4a9ebdb510d051c1d3ab",
            "show_labels": true
          }
        },
        "46e828f3010c4a9ebdb510d051c1d3ab": {
          "model_module": "@jupyter-widgets/base",
          "model_name": "LayoutModel",
          "model_module_version": "1.2.0",
          "state": {
            "_model_module": "@jupyter-widgets/base",
            "_model_module_version": "1.2.0",
            "_model_name": "LayoutModel",
            "_view_count": null,
            "_view_module": "@jupyter-widgets/base",
            "_view_module_version": "1.2.0",
            "_view_name": "LayoutView",
            "align_content": null,
            "align_items": null,
            "align_self": null,
            "border": null,
            "bottom": null,
            "display": null,
            "flex": null,
            "flex_flow": null,
            "grid_area": null,
            "grid_auto_columns": null,
            "grid_auto_flow": null,
            "grid_auto_rows": null,
            "grid_column": null,
            "grid_gap": null,
            "grid_row": null,
            "grid_template_areas": null,
            "grid_template_columns": null,
            "grid_template_rows": null,
            "height": null,
            "justify_content": null,
            "justify_items": null,
            "left": null,
            "margin": null,
            "max_height": null,
            "max_width": null,
            "min_height": null,
            "min_width": null,
            "object_fit": null,
            "object_position": null,
            "order": null,
            "overflow": null,
            "overflow_x": null,
            "overflow_y": null,
            "padding": null,
            "right": null,
            "top": null,
            "visibility": null,
            "width": null
          }
        }
      }
    }
  },
  "nbformat": 4,
  "nbformat_minor": 0
}