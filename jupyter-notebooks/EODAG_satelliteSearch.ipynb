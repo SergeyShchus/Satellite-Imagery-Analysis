{
 "cells": [
  {
   "cell_type": "markdown",
   "id": "3bcabf20",
   "metadata": {},
   "source": [
    "conda install -c conda-forge eodag"
   ]
  },
  {
   "cell_type": "markdown",
   "id": "305087ef",
   "metadata": {},
   "source": [
    "conda install -c conda-forge sentinelsat"
   ]
  },
  {
   "cell_type": "markdown",
   "id": "af271a6e",
   "metadata": {},
   "source": [
    "https://portal.creodias.eu/register.php"
   ]
  },
  {
   "cell_type": "markdown",
   "id": "4c36ab3d",
   "metadata": {},
   "source": [
    "https://medium.com/spectral-reflectance/spectral-reflectance-newsletter-1-1f6f1d0cc18d"
   ]
  },
  {
   "cell_type": "code",
   "execution_count": 6,
   "id": "ba03160a",
   "metadata": {},
   "outputs": [
    {
     "name": "stderr",
     "output_type": "stream",
     "text": [
      "Error while searching on provider creodias (ignored):\n",
      "Traceback (most recent call last):\n",
      "  File \"D:\\gis-library\\script\\Conda\\envs\\arcgis\\lib\\site-packages\\urllib3\\connectionpool.py\", line 700, in urlopen\n",
      "    self._prepare_proxy(conn)\n",
      "  File \"D:\\gis-library\\script\\Conda\\envs\\arcgis\\lib\\site-packages\\urllib3\\connectionpool.py\", line 994, in _prepare_proxy\n",
      "    conn.connect()\n",
      "  File \"D:\\gis-library\\script\\Conda\\envs\\arcgis\\lib\\site-packages\\urllib3\\connection.py\", line 364, in connect\n",
      "    self.sock = conn = self._connect_tls_proxy(hostname, conn)\n",
      "  File \"D:\\gis-library\\script\\Conda\\envs\\arcgis\\lib\\site-packages\\urllib3\\connection.py\", line 499, in _connect_tls_proxy\n",
      "    socket = ssl_wrap_socket(\n",
      "  File \"D:\\gis-library\\script\\Conda\\envs\\arcgis\\lib\\site-packages\\urllib3\\util\\ssl_.py\", line 449, in ssl_wrap_socket\n",
      "    ssl_sock = _ssl_wrap_socket_impl(\n",
      "  File \"D:\\gis-library\\script\\Conda\\envs\\arcgis\\lib\\site-packages\\urllib3\\util\\ssl_.py\", line 493, in _ssl_wrap_socket_impl\n",
      "    return ssl_context.wrap_socket(sock, server_hostname=server_hostname)\n",
      "  File \"D:\\gis-library\\script\\Conda\\envs\\arcgis\\lib\\ssl.py\", line 500, in wrap_socket\n",
      "    return self.sslsocket_class._create(\n",
      "  File \"D:\\gis-library\\script\\Conda\\envs\\arcgis\\lib\\ssl.py\", line 1040, in _create\n",
      "    self.do_handshake()\n",
      "  File \"D:\\gis-library\\script\\Conda\\envs\\arcgis\\lib\\ssl.py\", line 1309, in do_handshake\n",
      "    self._sslobj.do_handshake()\n",
      "ssl.SSLError: [SSL: WRONG_VERSION_NUMBER] wrong version number (_ssl.c:1129)\n",
      "\n",
      "During handling of the above exception, another exception occurred:\n",
      "\n",
      "Traceback (most recent call last):\n",
      "  File \"D:\\gis-library\\script\\Conda\\envs\\arcgis\\lib\\site-packages\\requests\\adapters.py\", line 440, in send\n",
      "    resp = conn.urlopen(\n",
      "  File \"D:\\gis-library\\script\\Conda\\envs\\arcgis\\lib\\site-packages\\urllib3\\connectionpool.py\", line 785, in urlopen\n",
      "    retries = retries.increment(\n",
      "  File \"D:\\gis-library\\script\\Conda\\envs\\arcgis\\lib\\site-packages\\urllib3\\util\\retry.py\", line 592, in increment\n",
      "    raise MaxRetryError(_pool, url, error or ResponseError(cause))\n",
      "urllib3.exceptions.MaxRetryError: HTTPSConnectionPool(host='finder.creodias.eu', port=443): Max retries exceeded with url: /resto/api/collections/Sentinel2/search.json?startDate=2022-03-03&completionDate=2022-04-15&geometry=GEOMETRYCOLLECTION%20(POLYGON%20((32.8601%2047.7079,%2033.4918%2047.7079,%2033.4918%2048.0597,%2032.8601%2048.0597,%2032.8601%2047.7079)))&productType=L1C&maxRecords=1&page=1 (Caused by ProxyError('Your proxy appears to only use HTTP and not HTTPS, try changing your proxy URL to be HTTP. See: https://urllib3.readthedocs.io/en/1.26.x/advanced-usage.html#https-proxy-error-http-proxy', SSLError(SSLError(1, '[SSL: WRONG_VERSION_NUMBER] wrong version number (_ssl.c:1129)'))))\n",
      "\n",
      "During handling of the above exception, another exception occurred:\n",
      "\n",
      "Traceback (most recent call last):\n",
      "  File \"D:\\gis-library\\script\\Conda\\envs\\arcgis\\lib\\site-packages\\eodag\\api\\core.py\", line 1071, in _do_search\n",
      "    res, nb_res = search_plugin.query(count=count, **kwargs)\n",
      "  File \"D:\\gis-library\\script\\Conda\\envs\\arcgis\\lib\\site-packages\\eodag\\plugins\\search\\qssearch.py\", line 246, in query\n",
      "    self.search_urls, total_items = self.collect_search_urls(\n",
      "  File \"D:\\gis-library\\script\\Conda\\envs\\arcgis\\lib\\site-packages\\eodag\\plugins\\search\\qssearch.py\", line 473, in collect_search_urls\n",
      "    _total_results = self.count_hits(\n",
      "  File \"D:\\gis-library\\script\\Conda\\envs\\arcgis\\lib\\site-packages\\eodag\\plugins\\search\\qssearch.py\", line 618, in count_hits\n",
      "    response = self._request(\n",
      "  File \"D:\\gis-library\\script\\Conda\\envs\\arcgis\\lib\\site-packages\\eodag\\plugins\\search\\qssearch.py\", line 771, in _request\n",
      "    response = requests.get(url)\n",
      "  File \"D:\\gis-library\\script\\Conda\\envs\\arcgis\\lib\\site-packages\\requests\\api.py\", line 75, in get\n",
      "    return request('get', url, params=params, **kwargs)\n",
      "  File \"D:\\gis-library\\script\\Conda\\envs\\arcgis\\lib\\site-packages\\requests\\api.py\", line 61, in request\n",
      "    return session.request(method=method, url=url, **kwargs)\n",
      "  File \"D:\\gis-library\\script\\Conda\\envs\\arcgis\\lib\\site-packages\\requests\\sessions.py\", line 529, in request\n",
      "    resp = self.send(prep, **send_kwargs)\n",
      "  File \"D:\\gis-library\\script\\Conda\\envs\\arcgis\\lib\\site-packages\\requests\\sessions.py\", line 645, in send\n",
      "    r = adapter.send(request, **kwargs)\n",
      "  File \"D:\\gis-library\\script\\Conda\\envs\\arcgis\\lib\\site-packages\\requests\\adapters.py\", line 513, in send\n",
      "    raise ProxyError(e, request=request)\n",
      "requests.exceptions.ProxyError: HTTPSConnectionPool(host='finder.creodias.eu', port=443): Max retries exceeded with url: /resto/api/collections/Sentinel2/search.json?startDate=2022-03-03&completionDate=2022-04-15&geometry=GEOMETRYCOLLECTION%20(POLYGON%20((32.8601%2047.7079,%2033.4918%2047.7079,%2033.4918%2048.0597,%2032.8601%2048.0597,%2032.8601%2047.7079)))&productType=L1C&maxRecords=1&page=1 (Caused by ProxyError('Your proxy appears to only use HTTP and not HTTPS, try changing your proxy URL to be HTTP. See: https://urllib3.readthedocs.io/en/1.26.x/advanced-usage.html#https-proxy-error-http-proxy', SSLError(SSLError(1, '[SSL: WRONG_VERSION_NUMBER] wrong version number (_ssl.c:1129)'))))\n"
     ]
    },
    {
     "data": {
      "text/plain": [
       "[]"
      ]
     },
     "execution_count": 6,
     "metadata": {},
     "output_type": "execute_result"
    }
   ],
   "source": [
    "from eodag import EODataAccessGateway, setup_logging\n",
    "import os\n",
    "from sentinelsat import read_geojson, geojson_to_wkt\n",
    "os.environ[\"EODAG__CREODIAS__AUTH__CREDENTIALS__USERNAME\"] = \"PLEASE_CHANGE_ME\"\n",
    "os.environ[\"EODAG__CREODIAS__AUTH__CREDENTIALS__PASSWORD\"] = \"PLEASE_CHANGE_ME\"\n",
    "dag = EODataAccessGateway()\n",
    "footprint = geojson_to_wkt(read_geojson('my_aoi.geojson'))\n",
    "search_criteria = {\n",
    "    \"productType\": \"S2_MSI_L1C\",\n",
    "    \"start\": \"2022-03-03\",\n",
    "    \"end\": \"2022-04-15\",\n",
    "    \"geom\": footprint  \n",
    "}\n",
    "dag.set_preferred_provider(\"creodias\")\n",
    "search_results, _ = dag.search(**search_criteria)\n",
    "dest_folder = f'eodag_workspace_download'\n",
    "os.makedirs(dest_folder, exist_ok=True)\n",
    "dag.download_all(\n",
    "    search_results,\n",
    "    outputs_prefix=dest_folder,\n",
    "    timeout=100\n",
    ")"
   ]
  },
  {
   "cell_type": "code",
   "execution_count": null,
   "id": "67f2b4f3",
   "metadata": {},
   "outputs": [],
   "source": []
  }
 ],
 "metadata": {
  "kernelspec": {
   "display_name": "Python 3",
   "language": "python",
   "name": "python3"
  },
  "language_info": {
   "codemirror_mode": {
    "name": "ipython",
    "version": 3
   },
   "file_extension": ".py",
   "mimetype": "text/x-python",
   "name": "python",
   "nbconvert_exporter": "python",
   "pygments_lexer": "ipython3",
   "version": "3.9.12"
  }
 },
 "nbformat": 4,
 "nbformat_minor": 5
}
