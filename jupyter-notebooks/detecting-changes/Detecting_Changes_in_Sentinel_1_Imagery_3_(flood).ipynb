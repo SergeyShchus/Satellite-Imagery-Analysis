{
  "nbformat": 4,
  "nbformat_minor": 0,
  "metadata": {
    "colab": {
      "name": "Detecting Changes in Sentinel-1 Imagery-3 (flood)",
      "provenance": [],
      "collapsed_sections": [],
      "include_colab_link": true
    },
    "kernelspec": {
      "name": "python3",
      "display_name": "Detecting Changes in Sentinel-1 Imagery (Part 3)"
    }
  },
  "cells": [
    {
      "cell_type": "markdown",
      "metadata": {
        "id": "view-in-github",
        "colab_type": "text"
      },
      "source": [
        "<a href=\"https://colab.research.google.com/github/SergeyShchus/Satellite-Imagery-Analysis-with-Python/blob/master/jupyter-notebooks/detecting-changes/Detecting_Changes_in_Sentinel_1_Imagery_3_(flood).ipynb\" target=\"_parent\"><img src=\"https://colab.research.google.com/assets/colab-badge.svg\" alt=\"Open In Colab\"/></a>"
      ]
    },
    {
      "cell_type": "markdown",
      "metadata": {
        "id": "l18M9_r5XmAQ"
      },
      "source": [
        "# Detecting Changes in Sentinel-1 Imagery (Flood)\n",
        "\n",
        "\n"
      ]
    },
    {
      "cell_type": "markdown",
      "metadata": {
        "id": "U7i55vr_aKCB"
      },
      "source": [
        "### Run me first\n",
        "\n",
        "Run the following cell to initialize the API. The output will contain instructions on how to grant this notebook access to Earth Engine using your account."
      ]
    },
    {
      "cell_type": "code",
      "metadata": {
        "id": "XeFsiSp2aDL6",
        "colab": {
          "base_uri": "https://localhost:8080/"
        },
        "outputId": "d3c87c30-fc22-4977-f902-066a4c1b3373"
      },
      "source": [
        "import ee\n",
        "# Trigger the authentication flow.\n",
        "ee.Authenticate()\n",
        "\n",
        "# Initialize the library.\n",
        "ee.Initialize()"
      ],
      "execution_count": 1,
      "outputs": [
        {
          "output_type": "stream",
          "name": "stdout",
          "text": [
            "To authorize access needed by Earth Engine, open the following URL in a web browser and follow the instructions. If the web browser does not start automatically, please manually browse the URL below.\n",
            "\n",
            "    https://code.earthengine.google.com/client-auth?scopes=https%3A//www.googleapis.com/auth/earthengine%20https%3A//www.googleapis.com/auth/devstorage.full_control&request_id=elRwEryh1NcG5Ne-MfBKyMsdVviBkI2iihO2QoOLpy8&tc=P4QwlDt5vxwVv7IF7BUnHW-o7W-3zntUvwv3z08hl4A&cc=Mmh4eu3gwIwCbw0X-pluk1ODmQiAr0lioQQTZgVJQD4\n",
            "\n",
            "The authorization workflow will generate a code, which you should paste in the box below. \n",
            "Enter verification code: 4/1AdQt8qh1ky1nuH3iw0GHVvRXWnna2LZeYPjXrDkggTvyTKpPK8AtiTy94fY\n",
            "\n",
            "Successfully saved authorization token.\n"
          ]
        }
      ]
    },
    {
      "cell_type": "markdown",
      "metadata": {
        "id": "VOf_UnIcZKBJ"
      },
      "source": [
        "### Datasets and Python modules\n",
        "One [dataset](https://developers.google.com/earth-engine/datasets/catalog/COPERNICUS_S1_GRD) will be used in the tutorial:\n",
        "\n",
        "- COPERNICUS/S1_GRD_FLOAT\n",
        "    - Sentinel-1 ground range detected images\n",
        "\n",
        "The following cell imports some python modules which we will be using as we go along and enables inline graphics."
      ]
    },
    {
      "cell_type": "code",
      "metadata": {
        "id": "YmusFZcZHEjE"
      },
      "source": [
        "import matplotlib.pyplot as plt\n",
        "import numpy as np\n",
        "from scipy.stats import norm, gamma, f, chi2\n",
        "import IPython.display as disp\n",
        "%matplotlib inline"
      ],
      "execution_count": 2,
      "outputs": []
    },
    {
      "cell_type": "markdown",
      "metadata": {
        "id": "UZEVxUZ2mTSe"
      },
      "source": [
        "This cell carries over the chi square cumulative distribution function and the determinant of a Sentinel-1 image from [Part 2](https://developers.google.com/earth-engine/tutorials/community/detecting-changes-in-sentinel-1-imagery-pt-2)."
      ]
    },
    {
      "cell_type": "code",
      "metadata": {
        "id": "li189P8wmOTS"
      },
      "source": [
        "def chi2cdf(chi2, df):\n",
        "    \"\"\"Calculates Chi square cumulative distribution function for\n",
        "       df degrees of freedom using the built-in incomplete gamma\n",
        "       function gammainc().\n",
        "    \"\"\"\n",
        "    return ee.Image(chi2.divide(2)).gammainc(ee.Number(df).divide(2))\n",
        "\n",
        "def det(im):\n",
        "    \"\"\"Calculates determinant of 2x2 diagonal covariance matrix.\"\"\"\n",
        "    return im.expression('b(0)*b(1)')"
      ],
      "execution_count": 3,
      "outputs": []
    },
    {
      "cell_type": "markdown",
      "metadata": {
        "id": "eelxHh2qc6xg"
      },
      "source": [
        "And to make use of interactive graphics, we import the _folium_ package:"
      ]
    },
    {
      "cell_type": "code",
      "metadata": {
        "id": "kEiSY5zdoFPe"
      },
      "source": [
        "import folium\n",
        "\n",
        "def add_ee_layer(self, ee_image_object, vis_params, name):\n",
        "    \"\"\"Adds Earth Engine layers to a folium map.\"\"\"\n",
        "    map_id_dict = ee.Image(ee_image_object).getMapId(vis_params)\n",
        "    folium.raster_layers.TileLayer(\n",
        "        tiles = map_id_dict['tile_fetcher'].url_format,\n",
        "        attr = 'Map Data &copy; <a href=\"https://earthengine.google.com/\">Google Earth Engine</a>',\n",
        "        name = name,\n",
        "        overlay = True,\n",
        "        control = True).add_to(self)\n",
        "\n",
        "# Add EE drawing method to folium.\n",
        "folium.Map.add_ee_layer = add_ee_layer"
      ],
      "execution_count": 4,
      "outputs": []
    },
    {
      "cell_type": "markdown",
      "metadata": {
        "id": "DXo28Rx8HTEd"
      },
      "source": [
        "## Part 3. Multitemporal change detection\n"
      ]
    },
    {
      "cell_type": "markdown",
      "metadata": {
        "id": "d43UObDY-hjL"
      },
      "source": [
        "\n",
        "\n",
        "### A time series\n",
        "\n",
        "Here is a fairly interesting one: a region in South Yorkshire, England where, in November 2019, extensive flooding occurred along the River Don just north of the city of Doncaster."
      ]
    },
    {
      "cell_type": "code",
      "metadata": {
        "id": "c0IIB_YB_ZoA"
      },
      "source": [
        "geoJSON = {\n",
        "  \"type\": \"FeatureCollection\",\n",
        "  \"features\": [\n",
        "    {\n",
        "      \"type\": \"Feature\",\n",
        "      \"properties\": {},\n",
        "      \"geometry\": {\n",
        "        \"type\": \"Polygon\",\n",
        "        \"coordinates\": [\n",
        "          [\n",
        "            [\n",
        "              -1.2998199462890625,\n",
        "              53.48028242228504\n",
        "            ],\n",
        "            [\n",
        "              -0.841827392578125,\n",
        "              53.48028242228504\n",
        "            ],\n",
        "            [\n",
        "              -0.841827392578125,\n",
        "              53.6958933974518\n",
        "            ],\n",
        "            [\n",
        "              -1.2998199462890625,\n",
        "              53.6958933974518\n",
        "            ],\n",
        "            [\n",
        "              -1.2998199462890625,\n",
        "              53.48028242228504\n",
        "            ]\n",
        "          ]\n",
        "        ]\n",
        "      }\n",
        "    }\n",
        "  ]\n",
        "}\n",
        "coords = geoJSON['features'][0]['geometry']['coordinates']\n",
        "aoi = ee.Geometry.Polygon(coords)"
      ],
      "execution_count": 5,
      "outputs": []
    },
    {
      "cell_type": "markdown",
      "metadata": {
        "id": "IqvC_m12kZ6X"
      },
      "source": [
        "The image collection below covers the months of September, 2019 through January, 2020 at 6-day intervals:"
      ]
    },
    {
      "cell_type": "code",
      "metadata": {
        "id": "W317cgEc_uhH",
        "colab": {
          "base_uri": "https://localhost:8080/"
        },
        "outputId": "89732873-7137-42f5-ac59-d77073bec66c"
      },
      "source": [
        "im_coll = (ee.ImageCollection('COPERNICUS/S1_GRD_FLOAT')\n",
        "           .filterBounds(aoi)\n",
        "           .filterDate(ee.Date('2019-09-01'),ee.Date('2020-01-31'))\n",
        "           .filter(ee.Filter.eq('orbitProperties_pass', 'DESCENDING'))\n",
        "           .filter(ee.Filter.eq('relativeOrbitNumber_start', 154))\n",
        "           .map(lambda img: img.set('date', ee.Date(img.date()).format('YYYYMMdd')))\n",
        "           .sort('date'))\n",
        "\n",
        "timestamplist = (im_coll.aggregate_array('date')\n",
        "                 .map(lambda d: ee.String('T').cat(ee.String(d)))\n",
        "                 .getInfo())\n",
        "timestamplist"
      ],
      "execution_count": 6,
      "outputs": [
        {
          "output_type": "execute_result",
          "data": {
            "text/plain": [
              "['T20190902',\n",
              " 'T20190908',\n",
              " 'T20190914',\n",
              " 'T20190920',\n",
              " 'T20190926',\n",
              " 'T20191002',\n",
              " 'T20191008',\n",
              " 'T20191014',\n",
              " 'T20191020',\n",
              " 'T20191026',\n",
              " 'T20191101',\n",
              " 'T20191107',\n",
              " 'T20191113',\n",
              " 'T20191119',\n",
              " 'T20191125',\n",
              " 'T20191201',\n",
              " 'T20191207',\n",
              " 'T20191213',\n",
              " 'T20191219',\n",
              " 'T20191225',\n",
              " 'T20191231',\n",
              " 'T20200106',\n",
              " 'T20200112',\n",
              " 'T20200118',\n",
              " 'T20200124',\n",
              " 'T20200130']"
            ]
          },
          "metadata": {},
          "execution_count": 6
        }
      ]
    },
    {
      "cell_type": "markdown",
      "metadata": {
        "id": "oUiTi-eynGPi"
      },
      "source": [
        "It will turn out to be convenient to work with a list rather than a collection, so we'll convert the collection to a list and, while we're at it, clip the images to our AOI:"
      ]
    },
    {
      "cell_type": "code",
      "metadata": {
        "id": "jOCbUmW-UHIK",
        "colab": {
          "base_uri": "https://localhost:8080/"
        },
        "outputId": "37b0341b-04ba-4573-e06c-e07e26d9ec57"
      },
      "source": [
        "def clip_img(img):\n",
        "    \"\"\"Clips a list of images.\"\"\"\n",
        "    return ee.Image(img).clip(aoi)\n",
        "\n",
        "im_list = im_coll.toList(im_coll.size())\n",
        "im_list = ee.List(im_list.map(clip_img))\n",
        "\n",
        "im_list.length().getInfo()"
      ],
      "execution_count": 7,
      "outputs": [
        {
          "output_type": "execute_result",
          "data": {
            "text/plain": [
              "26"
            ]
          },
          "metadata": {},
          "execution_count": 7
        }
      ]
    },
    {
      "cell_type": "markdown",
      "metadata": {
        "id": "9-dEBL3Gnbnn"
      },
      "source": [
        "Here is an RGB composite of the VV bands for three images in early November, after conversion to decibels. Note that some changes, especially those due to flooding, already show up in this representation as colored pixels."
      ]
    },
    {
      "cell_type": "code",
      "metadata": {
        "id": "QwJv_Ib8MFKH",
        "colab": {
          "base_uri": "https://localhost:8080/",
          "height": 808
        },
        "outputId": "4fa3f106-02ef-4315-e645-3853212f91b6"
      },
      "source": [
        "def selectvv(current):\n",
        "    return ee.Image(current).select('VV')\n",
        "\n",
        "vv_list = im_list.map(selectvv)\n",
        "\n",
        "location = aoi.centroid().coordinates().getInfo()[::-1]\n",
        "mp = folium.Map(location=location, zoom_start=11)\n",
        "rgb_images = (ee.Image.rgb(vv_list.get(10), vv_list.get(11), vv_list.get(12))\n",
        "              .log10().multiply(10))\n",
        "mp.add_ee_layer(rgb_images, {'min': -20,'max': 0}, 'rgb composite')\n",
        "mp.add_child(folium.LayerControl())"
      ],
      "execution_count": 8,
      "outputs": [
        {
          "output_type": "execute_result",
          "data": {
            "text/plain": [
              "<folium.folium.Map at 0x7f17966c3a50>"
            ],
            "text/html": [
              "<div style=\"width:100%;\"><div style=\"position:relative;width:100%;height:0;padding-bottom:60%;\"><span style=\"color:#565656\">Make this Notebook Trusted to load map: File -> Trust Notebook</span><iframe srcdoc=\"&lt;!DOCTYPE html&gt;\n",
              "&lt;head&gt;    \n",
              "    &lt;meta http-equiv=&quot;content-type&quot; content=&quot;text/html; charset=UTF-8&quot; /&gt;\n",
              "    &lt;script&gt;L_PREFER_CANVAS=false; L_NO_TOUCH=false; L_DISABLE_3D=false;&lt;/script&gt;\n",
              "    &lt;script src=&quot;https://cdn.jsdelivr.net/npm/leaflet@1.4.0/dist/leaflet.js&quot;&gt;&lt;/script&gt;\n",
              "    &lt;script src=&quot;https://code.jquery.com/jquery-1.12.4.min.js&quot;&gt;&lt;/script&gt;\n",
              "    &lt;script src=&quot;https://maxcdn.bootstrapcdn.com/bootstrap/3.2.0/js/bootstrap.min.js&quot;&gt;&lt;/script&gt;\n",
              "    &lt;script src=&quot;https://cdnjs.cloudflare.com/ajax/libs/Leaflet.awesome-markers/2.0.2/leaflet.awesome-markers.js&quot;&gt;&lt;/script&gt;\n",
              "    &lt;link rel=&quot;stylesheet&quot; href=&quot;https://cdn.jsdelivr.net/npm/leaflet@1.4.0/dist/leaflet.css&quot;/&gt;\n",
              "    &lt;link rel=&quot;stylesheet&quot; href=&quot;https://maxcdn.bootstrapcdn.com/bootstrap/3.2.0/css/bootstrap.min.css&quot;/&gt;\n",
              "    &lt;link rel=&quot;stylesheet&quot; href=&quot;https://maxcdn.bootstrapcdn.com/bootstrap/3.2.0/css/bootstrap-theme.min.css&quot;/&gt;\n",
              "    &lt;link rel=&quot;stylesheet&quot; href=&quot;https://maxcdn.bootstrapcdn.com/font-awesome/4.6.3/css/font-awesome.min.css&quot;/&gt;\n",
              "    &lt;link rel=&quot;stylesheet&quot; href=&quot;https://cdnjs.cloudflare.com/ajax/libs/Leaflet.awesome-markers/2.0.2/leaflet.awesome-markers.css&quot;/&gt;\n",
              "    &lt;link rel=&quot;stylesheet&quot; href=&quot;https://rawcdn.githack.com/python-visualization/folium/master/folium/templates/leaflet.awesome.rotate.css&quot;/&gt;\n",
              "    &lt;style&gt;html, body {width: 100%;height: 100%;margin: 0;padding: 0;}&lt;/style&gt;\n",
              "    &lt;style&gt;#map {position:absolute;top:0;bottom:0;right:0;left:0;}&lt;/style&gt;\n",
              "    \n",
              "    &lt;meta name=&quot;viewport&quot; content=&quot;width=device-width,\n",
              "        initial-scale=1.0, maximum-scale=1.0, user-scalable=no&quot; /&gt;\n",
              "    &lt;style&gt;#map_35df24616a14d7a4a4164e470bae2f62 {\n",
              "        position: relative;\n",
              "        width: 100.0%;\n",
              "        height: 100.0%;\n",
              "        left: 0.0%;\n",
              "        top: 0.0%;\n",
              "        }\n",
              "    &lt;/style&gt;\n",
              "&lt;/head&gt;\n",
              "&lt;body&gt;    \n",
              "    \n",
              "    &lt;div class=&quot;folium-map&quot; id=&quot;map_35df24616a14d7a4a4164e470bae2f62&quot; &gt;&lt;/div&gt;\n",
              "&lt;/body&gt;\n",
              "&lt;script&gt;    \n",
              "    \n",
              "    \n",
              "        var bounds = null;\n",
              "    \n",
              "\n",
              "    var map_35df24616a14d7a4a4164e470bae2f62 = L.map(\n",
              "        &#x27;map_35df24616a14d7a4a4164e470bae2f62&#x27;, {\n",
              "        center: [53.58821484420569, -1.0708236694338455],\n",
              "        zoom: 11,\n",
              "        maxBounds: bounds,\n",
              "        layers: [],\n",
              "        worldCopyJump: false,\n",
              "        crs: L.CRS.EPSG3857,\n",
              "        zoomControl: true,\n",
              "        });\n",
              "\n",
              "\n",
              "    \n",
              "    var tile_layer_2918ca7f6aae6abb4ed2075bb6d93c12 = L.tileLayer(\n",
              "        &#x27;https://{s}.tile.openstreetmap.org/{z}/{x}/{y}.png&#x27;,\n",
              "        {\n",
              "        &quot;attribution&quot;: null,\n",
              "        &quot;detectRetina&quot;: false,\n",
              "        &quot;maxNativeZoom&quot;: 18,\n",
              "        &quot;maxZoom&quot;: 18,\n",
              "        &quot;minZoom&quot;: 0,\n",
              "        &quot;noWrap&quot;: false,\n",
              "        &quot;opacity&quot;: 1,\n",
              "        &quot;subdomains&quot;: &quot;abc&quot;,\n",
              "        &quot;tms&quot;: false\n",
              "}).addTo(map_35df24616a14d7a4a4164e470bae2f62);\n",
              "    var tile_layer_b08cd1504a00e098520b3b6124684a12 = L.tileLayer(\n",
              "        &#x27;https://earthengine.googleapis.com/v1alpha/projects/earthengine-legacy/maps/fc5a64c6100495fe9ec4c53bb7ea5793-e18d64b38c0c31383e2f7682a2531bac/tiles/{z}/{x}/{y}&#x27;,\n",
              "        {\n",
              "        &quot;attribution&quot;: &quot;Map Data &amp;copy; &lt;a href=\\&quot;https://earthengine.google.com/\\&quot;&gt;Google Earth Engine&lt;/a&gt;&quot;,\n",
              "        &quot;detectRetina&quot;: false,\n",
              "        &quot;maxNativeZoom&quot;: 18,\n",
              "        &quot;maxZoom&quot;: 18,\n",
              "        &quot;minZoom&quot;: 0,\n",
              "        &quot;noWrap&quot;: false,\n",
              "        &quot;opacity&quot;: 1,\n",
              "        &quot;subdomains&quot;: &quot;abc&quot;,\n",
              "        &quot;tms&quot;: false\n",
              "}).addTo(map_35df24616a14d7a4a4164e470bae2f62);\n",
              "    \n",
              "            var layer_control_ac2eaa01101e4467e9d71cb070e77c5e = {\n",
              "                base_layers : { &quot;openstreetmap&quot; : tile_layer_2918ca7f6aae6abb4ed2075bb6d93c12, },\n",
              "                overlays : { &quot;rgb composite&quot; : tile_layer_b08cd1504a00e098520b3b6124684a12, }\n",
              "                };\n",
              "            L.control.layers(\n",
              "                layer_control_ac2eaa01101e4467e9d71cb070e77c5e.base_layers,\n",
              "                layer_control_ac2eaa01101e4467e9d71cb070e77c5e.overlays,\n",
              "                {position: &#x27;topright&#x27;,\n",
              "                 collapsed: true,\n",
              "                 autoZIndex: true\n",
              "                }).addTo(map_35df24616a14d7a4a4164e470bae2f62);\n",
              "            \n",
              "        \n",
              "&lt;/script&gt;\" style=\"position:absolute;width:100%;height:100%;left:0;top:0;border:none !important;\" allowfullscreen webkitallowfullscreen mozallowfullscreen></iframe></div></div>"
            ]
          },
          "metadata": {},
          "execution_count": 8
        }
      ]
    },
    {
      "cell_type": "markdown",
      "metadata": {
        "id": "JnsgS-VVs6rS"
      },
      "source": [
        "Now we have a series of 26 SAR images and, for whatever reason, would like to know where and when changes have taken place. A first reaction might be:\n",
        "\n",
        "*What's the problem? Just apply the bitemporal method we developed in Part 2 to each of the 25 time intervals.*\n",
        "\n",
        "Well, one problem is the rate of false positives. If the bitemporal tests are statistically independent, then the probability of **not** getting a false positive over a series of length $k$ is the product of not getting one in each of the $k-1$ intervals, i.e., $(1-\\alpha)^{k-1}$ and the overall first kind error probability $\\alpha_T$ is its complement:\n",
        "\n",
        "$$\n",
        "\\alpha_T = 1-(1-\\alpha)^{k-1}. \\tag{3.1}\n",
        "$$\n",
        "\n",
        "For our case, even with a small value of $\\alpha=0.01$, this gives a whopping 22.2% false positive rate:"
      ]
    },
    {
      "cell_type": "code",
      "metadata": {
        "id": "kkDk-YKthoA2",
        "colab": {
          "base_uri": "https://localhost:8080/"
        },
        "outputId": "ba0b1501-ff6b-46b9-c526-f3a22f1b77e8"
      },
      "source": [
        "alpha = 0.01\n",
        "1-(1-alpha)**25"
      ],
      "execution_count": 9,
      "outputs": [
        {
          "output_type": "execute_result",
          "data": {
            "text/plain": [
              "0.22217864060085335"
            ]
          },
          "metadata": {},
          "execution_count": 9
        }
      ]
    },
    {
      "cell_type": "markdown",
      "metadata": {
        "id": "-8_wvF6rby08"
      },
      "source": [
        "Actually things are a bit worse. The bitemporal tests are manifestly not independent because consecutive tests have one image in common. The best one can say in this situation is\n",
        "\n",
        "$$\n",
        "\\alpha_T \\le (k-1)\\alpha, \\tag{3.2}\n",
        "$$\n",
        "\n",
        "or $\\alpha_T \\le 25\\%$ for $k=26$ and $\\alpha=0.01$ . If we wish to set a false positive rate of at most, say, 1% for the entire series, then each bitemporal test must have a significance level of $\\alpha=0.0004$ and a correspondingly large false negative rate $\\beta$. In other words  many significant changes may be missed.\n",
        "\n",
        "How to proceed? Perhaps by being a bit less ambitious at first and asking the simpler question: _Were there any changes at all over the interval?_ If the answer is affirmative, we can worry about how many there were and when they occurred later. Let's formulate this question as ..."
      ]
    },
    {
      "cell_type": "markdown",
      "metadata": {
        "id": "aGqBb29T2bWW"
      },
      "source": [
        "### An omnibus test for change\n",
        "\n",
        "We'll start again with the easier  single polarization case. For the series of _VV_ intensity images acquired at times $t_1, t_2,\\dots t_k$, our null hypothesis is that, at a given pixel position,  there has been no change in the signal strengths $a_i=\\langle|S^{a_i}_{vv}|^2\\rangle$ over the entire period, i.e.,\n",
        "\n",
        "$$\n",
        "H_0:\\quad a_1 = a_2 = \\dots = a_k = a.\n",
        "$$\n",
        "\n",
        "The alternative hypothesis is that there was at least one change (and possibly many) over the interval. For the more mathematically inclined this can be written succinctly as\n",
        "\n",
        "$$\n",
        "H_1:\\quad \\exists\\ i,j :\\ a_i \\ne a_j,\n",
        "$$\n",
        "\n",
        "which says: there exist indices $i, j$ for which $a_i$ is not equal to $a_j$.\n",
        "\n",
        "Again, the likelihood functions are products of gamma distributions:\n",
        "\n",
        "$$\n",
        "L_1(a_1,\\dots,a_k) =\\prod_{i=1}^k p(s_i\\mid a_i) = {1\\over\\Gamma(m)^k}\\left[\\prod_i{a_i\\over m}\\right]^{-m}\\left[\\prod_i s_i\\right]^{m-1}\\exp(-m\\sum_i{s_i\\over a_i}) \\tag{3.3}\n",
        "$$\n",
        "\n",
        "$$\n",
        "L_0(a)  = \\prod_{i=1}^k p(s_i\\mid a) = {1\\over\\Gamma(m)^k} \\left[{a\\over m}\\right]^{-mk}\\left[\\prod_i s_i\\right]^{m-1}\\exp(-{m\\over a}\\sum_i s_i) \\tag{3.4}\n",
        "$$\n",
        "\n",
        "and $L_1$ is maximized for $\\hat a_i = s_i,\\ i=1\\dots k,$ while $L_0$ is maximized for $\\hat a = {1\\over k}\\sum_i s_i$. So with a bit of simple algebra our likelihood ratio test statistic is\n",
        "\n",
        "$$\n",
        "Q_k = {L_0(\\hat a)\\over L_1(\\hat a_1,\\dots,\\hat a_k)} = \\left[k^k{\\prod_i s_i\\over (\\sum_i s_i)^k}\\right]^m \\tag{3.5}\n",
        "$$\n",
        "\n",
        "and is called an _omnibus test statistic_. Note that, for $k=2$, we get the bitemporal LRT given by  [Eq. (2.10)](https://developers.google.com/earth-engine/tutorials/community/detecting-changes-in-sentinel-1-imagery-pt-2#the_likelihood_ratio_test).\n",
        "\n",
        "We can't expect to find an analytical expression for the probability distribution of this LRT statistic, so we will again invoke Wilks' Theorem and work with\n",
        "\n",
        "$$\n",
        "-2 \\log{Q_k} = \\big[k\\log{k}+\\sum_i\\log{s_i}-k\\log{\\sum_i s_i}\\big](-2m) \\tag{3.6}\n",
        "$$\n",
        "\n",
        "According to Wilks, it should be approximately chi square distributed with $k-1$ degrees of freedom under $H_0$. (Why?)"
      ]
    },
    {
      "cell_type": "code",
      "metadata": {
        "id": "1z2EGvCDD1ec"
      },
      "source": [
        "def omnibus(im_list, m = 4.4):\n",
        "    \"\"\"Calculates the omnibus test statistic, monovariate case.\"\"\"\n",
        "    def log(current):\n",
        "        return ee.Image(current).log()\n",
        "\n",
        "    im_list = ee.List(im_list)\n",
        "    k = im_list.length()\n",
        "    klogk = k.multiply(k.log())\n",
        "    klogk = ee.Image.constant(klogk)\n",
        "    sumlogs = ee.ImageCollection(im_list.map(log)).reduce(ee.Reducer.sum())\n",
        "    logsum = ee.ImageCollection(im_list).reduce(ee.Reducer.sum()).log()\n",
        "    return klogk.add(sumlogs).subtract(logsum.multiply(k)).multiply(-2*m)"
      ],
      "execution_count": 10,
      "outputs": []
    },
    {
      "cell_type": "markdown",
      "metadata": {
        "id": "oJmqoSgrJZDn"
      },
      "source": [
        "Let's see if this test statistic does indeed follow the chi square distribution. First we define a small polygon _aoi\\_sub_ over the Thorne Moors (on the eastern side of the AOI) for which we hope there are few significant changes."
      ]
    },
    {
      "cell_type": "code",
      "metadata": {
        "id": "KXBkOhWQJd0_",
        "colab": {
          "base_uri": "https://localhost:8080/",
          "height": 808
        },
        "outputId": "cbc25920-435b-4a80-c85d-0a25598bc15b"
      },
      "source": [
        "geoJSON = {\n",
        "  \"type\": \"FeatureCollection\",\n",
        "  \"features\": [\n",
        "    {\n",
        "      \"type\": \"Feature\",\n",
        "      \"properties\": {},\n",
        "      \"geometry\": {\n",
        "        \"type\": \"Polygon\",\n",
        "        \"coordinates\": [\n",
        "          [\n",
        "            [\n",
        "              -0.9207916259765625,\n",
        "              53.63649628489509\n",
        "            ],\n",
        "            [\n",
        "              -0.9225082397460938,\n",
        "              53.62550271303527\n",
        "            ],\n",
        "            [\n",
        "              -0.8892059326171875,\n",
        "              53.61022911107819\n",
        "            ],\n",
        "            [\n",
        "              -0.8737564086914062,\n",
        "              53.627538775780984\n",
        "            ],\n",
        "            [\n",
        "              -0.9207916259765625,\n",
        "              53.63649628489509\n",
        "            ]\n",
        "          ]\n",
        "        ]\n",
        "      }\n",
        "    }\n",
        "  ]\n",
        "}\n",
        "coords = geoJSON['features'][0]['geometry']['coordinates']\n",
        "aoi_sub = ee.Geometry.Polygon(coords)\n",
        "\n",
        "location = aoi.centroid().coordinates().getInfo()[::-1]\n",
        "mp = folium.Map(location=location, zoom_start=11)\n",
        "mp.add_ee_layer(rgb_images.clip(aoi_sub), {'min': -20, 'max': 0}, 'aoi_sub rgb composite')\n",
        "mp.add_child(folium.LayerControl())"
      ],
      "execution_count": 12,
      "outputs": [
        {
          "output_type": "execute_result",
          "data": {
            "text/plain": [
              "<folium.folium.Map at 0x7f178fd0f210>"
            ],
            "text/html": [
              "<div style=\"width:100%;\"><div style=\"position:relative;width:100%;height:0;padding-bottom:60%;\"><span style=\"color:#565656\">Make this Notebook Trusted to load map: File -> Trust Notebook</span><iframe srcdoc=\"&lt;!DOCTYPE html&gt;\n",
              "&lt;head&gt;    \n",
              "    &lt;meta http-equiv=&quot;content-type&quot; content=&quot;text/html; charset=UTF-8&quot; /&gt;\n",
              "    &lt;script&gt;L_PREFER_CANVAS=false; L_NO_TOUCH=false; L_DISABLE_3D=false;&lt;/script&gt;\n",
              "    &lt;script src=&quot;https://cdn.jsdelivr.net/npm/leaflet@1.4.0/dist/leaflet.js&quot;&gt;&lt;/script&gt;\n",
              "    &lt;script src=&quot;https://code.jquery.com/jquery-1.12.4.min.js&quot;&gt;&lt;/script&gt;\n",
              "    &lt;script src=&quot;https://maxcdn.bootstrapcdn.com/bootstrap/3.2.0/js/bootstrap.min.js&quot;&gt;&lt;/script&gt;\n",
              "    &lt;script src=&quot;https://cdnjs.cloudflare.com/ajax/libs/Leaflet.awesome-markers/2.0.2/leaflet.awesome-markers.js&quot;&gt;&lt;/script&gt;\n",
              "    &lt;link rel=&quot;stylesheet&quot; href=&quot;https://cdn.jsdelivr.net/npm/leaflet@1.4.0/dist/leaflet.css&quot;/&gt;\n",
              "    &lt;link rel=&quot;stylesheet&quot; href=&quot;https://maxcdn.bootstrapcdn.com/bootstrap/3.2.0/css/bootstrap.min.css&quot;/&gt;\n",
              "    &lt;link rel=&quot;stylesheet&quot; href=&quot;https://maxcdn.bootstrapcdn.com/bootstrap/3.2.0/css/bootstrap-theme.min.css&quot;/&gt;\n",
              "    &lt;link rel=&quot;stylesheet&quot; href=&quot;https://maxcdn.bootstrapcdn.com/font-awesome/4.6.3/css/font-awesome.min.css&quot;/&gt;\n",
              "    &lt;link rel=&quot;stylesheet&quot; href=&quot;https://cdnjs.cloudflare.com/ajax/libs/Leaflet.awesome-markers/2.0.2/leaflet.awesome-markers.css&quot;/&gt;\n",
              "    &lt;link rel=&quot;stylesheet&quot; href=&quot;https://rawcdn.githack.com/python-visualization/folium/master/folium/templates/leaflet.awesome.rotate.css&quot;/&gt;\n",
              "    &lt;style&gt;html, body {width: 100%;height: 100%;margin: 0;padding: 0;}&lt;/style&gt;\n",
              "    &lt;style&gt;#map {position:absolute;top:0;bottom:0;right:0;left:0;}&lt;/style&gt;\n",
              "    \n",
              "    &lt;meta name=&quot;viewport&quot; content=&quot;width=device-width,\n",
              "        initial-scale=1.0, maximum-scale=1.0, user-scalable=no&quot; /&gt;\n",
              "    &lt;style&gt;#map_4f529df64c925e2f449442165a363aaa {\n",
              "        position: relative;\n",
              "        width: 100.0%;\n",
              "        height: 100.0%;\n",
              "        left: 0.0%;\n",
              "        top: 0.0%;\n",
              "        }\n",
              "    &lt;/style&gt;\n",
              "&lt;/head&gt;\n",
              "&lt;body&gt;    \n",
              "    \n",
              "    &lt;div class=&quot;folium-map&quot; id=&quot;map_4f529df64c925e2f449442165a363aaa&quot; &gt;&lt;/div&gt;\n",
              "&lt;/body&gt;\n",
              "&lt;script&gt;    \n",
              "    \n",
              "    \n",
              "        var bounds = null;\n",
              "    \n",
              "\n",
              "    var map_4f529df64c925e2f449442165a363aaa = L.map(\n",
              "        &#x27;map_4f529df64c925e2f449442165a363aaa&#x27;, {\n",
              "        center: [53.58821484420569, -1.0708236694338455],\n",
              "        zoom: 11,\n",
              "        maxBounds: bounds,\n",
              "        layers: [],\n",
              "        worldCopyJump: false,\n",
              "        crs: L.CRS.EPSG3857,\n",
              "        zoomControl: true,\n",
              "        });\n",
              "\n",
              "\n",
              "    \n",
              "    var tile_layer_82c92f142b1812e16786df6e6e6e9a34 = L.tileLayer(\n",
              "        &#x27;https://{s}.tile.openstreetmap.org/{z}/{x}/{y}.png&#x27;,\n",
              "        {\n",
              "        &quot;attribution&quot;: null,\n",
              "        &quot;detectRetina&quot;: false,\n",
              "        &quot;maxNativeZoom&quot;: 18,\n",
              "        &quot;maxZoom&quot;: 18,\n",
              "        &quot;minZoom&quot;: 0,\n",
              "        &quot;noWrap&quot;: false,\n",
              "        &quot;opacity&quot;: 1,\n",
              "        &quot;subdomains&quot;: &quot;abc&quot;,\n",
              "        &quot;tms&quot;: false\n",
              "}).addTo(map_4f529df64c925e2f449442165a363aaa);\n",
              "    var tile_layer_ad2fa939d55a6efaf9bfed247a277e48 = L.tileLayer(\n",
              "        &#x27;https://earthengine.googleapis.com/v1alpha/projects/earthengine-legacy/maps/446e8f969735e2e2786e5216b8ebe69e-b5d81d0408b8f99b1c59448e83ea61b9/tiles/{z}/{x}/{y}&#x27;,\n",
              "        {\n",
              "        &quot;attribution&quot;: &quot;Map Data &amp;copy; &lt;a href=\\&quot;https://earthengine.google.com/\\&quot;&gt;Google Earth Engine&lt;/a&gt;&quot;,\n",
              "        &quot;detectRetina&quot;: false,\n",
              "        &quot;maxNativeZoom&quot;: 18,\n",
              "        &quot;maxZoom&quot;: 18,\n",
              "        &quot;minZoom&quot;: 0,\n",
              "        &quot;noWrap&quot;: false,\n",
              "        &quot;opacity&quot;: 1,\n",
              "        &quot;subdomains&quot;: &quot;abc&quot;,\n",
              "        &quot;tms&quot;: false\n",
              "}).addTo(map_4f529df64c925e2f449442165a363aaa);\n",
              "    \n",
              "            var layer_control_2e68cd16df00f52d8ca6d088ed1b05a8 = {\n",
              "                base_layers : { &quot;openstreetmap&quot; : tile_layer_82c92f142b1812e16786df6e6e6e9a34, },\n",
              "                overlays : { &quot;aoi_sub rgb composite&quot; : tile_layer_ad2fa939d55a6efaf9bfed247a277e48, }\n",
              "                };\n",
              "            L.control.layers(\n",
              "                layer_control_2e68cd16df00f52d8ca6d088ed1b05a8.base_layers,\n",
              "                layer_control_2e68cd16df00f52d8ca6d088ed1b05a8.overlays,\n",
              "                {position: &#x27;topright&#x27;,\n",
              "                 collapsed: true,\n",
              "                 autoZIndex: true\n",
              "                }).addTo(map_4f529df64c925e2f449442165a363aaa);\n",
              "            \n",
              "        \n",
              "&lt;/script&gt;\" style=\"position:absolute;width:100%;height:100%;left:0;top:0;border:none !important;\" allowfullscreen webkitallowfullscreen mozallowfullscreen></iframe></div></div>"
            ]
          },
          "metadata": {},
          "execution_count": 12
        }
      ]
    },
    {
      "cell_type": "markdown",
      "metadata": {
        "id": "2LZnZc2AIne2"
      },
      "source": [
        "Here is a comparison for pixels in _aoi\\_sub_ with the chi square distribution with $k-1$ degrees of freedom. We choose the first 10 images in the series ($k=10$) because we expect fewer changes in September/October than over the complete sequence $k=24$, which extends into January."
      ]
    },
    {
      "cell_type": "code",
      "metadata": {
        "id": "his4vdFXt8l2",
        "colab": {
          "base_uri": "https://localhost:8080/",
          "height": 265
        },
        "outputId": "0af8c7bb-3f13-4578-caa0-4f373a9e6390"
      },
      "source": [
        "k = 10\n",
        "hist = (omnibus(vv_list.slice(0,k))\n",
        "        .reduceRegion(ee.Reducer.fixedHistogram(0, 40, 200), geometry=aoi_sub, scale=10)\n",
        "        .get('constant')\n",
        "        .getInfo())\n",
        "\n",
        "a = np.array(hist)\n",
        "x = a[:,0]\n",
        "y = a[:,1]/np.sum(a[:,1])\n",
        "plt.plot(x, y, '.', label='data')\n",
        "plt.plot(x, chi2.pdf(x, k-1)/5, '-r', label='chi square')\n",
        "plt.legend()\n",
        "plt.grid()\n",
        "plt.show()"
      ],
      "execution_count": 13,
      "outputs": [
        {
          "output_type": "display_data",
          "data": {
            "text/plain": [
              "<Figure size 432x288 with 1 Axes>"
            ],
            "image/png": "[encoded data removed]"
          },
          "metadata": {
            "needs_background": "light"
          }
        }
      ]
    },
    {
      "cell_type": "markdown",
      "metadata": {
        "id": "jgZuh94UsEZf"
      },
      "source": [
        "It appears that Wilks' Theorem is again a fairly good approximation. So why not generate a change map for the full series? The good news is that we now have the overall false positive probability $\\alpha$ under control. Here we set it to $\\alpha=0.01$."
      ]
    },
    {
      "cell_type": "code",
      "metadata": {
        "id": "CL4N3GednWs9",
        "colab": {
          "base_uri": "https://localhost:8080/",
          "height": 808
        },
        "outputId": "5079933c-0fc0-44cd-9c39-682b46928ede"
      },
      "source": [
        "# The change map for alpha = 0.01.\n",
        "k = 26; alpha = 0.01\n",
        "p_value = ee.Image.constant(1).subtract(chi2cdf(omnibus(vv_list), k-1))\n",
        "c_map = p_value.multiply(0).where(p_value.lt(alpha), 1)\n",
        "# Make the no-change pixels transparent.\n",
        "c_map = c_map.updateMask(c_map.gt(0))\n",
        "# Overlay onto the folium map.\n",
        "location = aoi.centroid().coordinates().getInfo()[::-1]\n",
        "mp = folium.Map(location=location, zoom_start=11)\n",
        "mp.add_ee_layer(c_map, {'min': 0,'max': 1, 'palette': ['black', 'red']}, 'change map')\n",
        "mp.add_child(folium.LayerControl())"
      ],
      "execution_count": 14,
      "outputs": [
        {
          "output_type": "execute_result",
          "data": {
            "text/plain": [
              "<folium.folium.Map at 0x7f178fc37050>"
            ],
            "text/html": [
              "<div style=\"width:100%;\"><div style=\"position:relative;width:100%;height:0;padding-bottom:60%;\"><span style=\"color:#565656\">Make this Notebook Trusted to load map: File -> Trust Notebook</span><iframe srcdoc=\"&lt;!DOCTYPE html&gt;\n",
              "&lt;head&gt;    \n",
              "    &lt;meta http-equiv=&quot;content-type&quot; content=&quot;text/html; charset=UTF-8&quot; /&gt;\n",
              "    &lt;script&gt;L_PREFER_CANVAS=false; L_NO_TOUCH=false; L_DISABLE_3D=false;&lt;/script&gt;\n",
              "    &lt;script src=&quot;https://cdn.jsdelivr.net/npm/leaflet@1.4.0/dist/leaflet.js&quot;&gt;&lt;/script&gt;\n",
              "    &lt;script src=&quot;https://code.jquery.com/jquery-1.12.4.min.js&quot;&gt;&lt;/script&gt;\n",
              "    &lt;script src=&quot;https://maxcdn.bootstrapcdn.com/bootstrap/3.2.0/js/bootstrap.min.js&quot;&gt;&lt;/script&gt;\n",
              "    &lt;script src=&quot;https://cdnjs.cloudflare.com/ajax/libs/Leaflet.awesome-markers/2.0.2/leaflet.awesome-markers.js&quot;&gt;&lt;/script&gt;\n",
              "    &lt;link rel=&quot;stylesheet&quot; href=&quot;https://cdn.jsdelivr.net/npm/leaflet@1.4.0/dist/leaflet.css&quot;/&gt;\n",
              "    &lt;link rel=&quot;stylesheet&quot; href=&quot;https://maxcdn.bootstrapcdn.com/bootstrap/3.2.0/css/bootstrap.min.css&quot;/&gt;\n",
              "    &lt;link rel=&quot;stylesheet&quot; href=&quot;https://maxcdn.bootstrapcdn.com/bootstrap/3.2.0/css/bootstrap-theme.min.css&quot;/&gt;\n",
              "    &lt;link rel=&quot;stylesheet&quot; href=&quot;https://maxcdn.bootstrapcdn.com/font-awesome/4.6.3/css/font-awesome.min.css&quot;/&gt;\n",
              "    &lt;link rel=&quot;stylesheet&quot; href=&quot;https://cdnjs.cloudflare.com/ajax/libs/Leaflet.awesome-markers/2.0.2/leaflet.awesome-markers.css&quot;/&gt;\n",
              "    &lt;link rel=&quot;stylesheet&quot; href=&quot;https://rawcdn.githack.com/python-visualization/folium/master/folium/templates/leaflet.awesome.rotate.css&quot;/&gt;\n",
              "    &lt;style&gt;html, body {width: 100%;height: 100%;margin: 0;padding: 0;}&lt;/style&gt;\n",
              "    &lt;style&gt;#map {position:absolute;top:0;bottom:0;right:0;left:0;}&lt;/style&gt;\n",
              "    \n",
              "    &lt;meta name=&quot;viewport&quot; content=&quot;width=device-width,\n",
              "        initial-scale=1.0, maximum-scale=1.0, user-scalable=no&quot; /&gt;\n",
              "    &lt;style&gt;#map_90e2367befef6fdb876b17566a44645a {\n",
              "        position: relative;\n",
              "        width: 100.0%;\n",
              "        height: 100.0%;\n",
              "        left: 0.0%;\n",
              "        top: 0.0%;\n",
              "        }\n",
              "    &lt;/style&gt;\n",
              "&lt;/head&gt;\n",
              "&lt;body&gt;    \n",
              "    \n",
              "    &lt;div class=&quot;folium-map&quot; id=&quot;map_90e2367befef6fdb876b17566a44645a&quot; &gt;&lt;/div&gt;\n",
              "&lt;/body&gt;\n",
              "&lt;script&gt;    \n",
              "    \n",
              "    \n",
              "        var bounds = null;\n",
              "    \n",
              "\n",
              "    var map_90e2367befef6fdb876b17566a44645a = L.map(\n",
              "        &#x27;map_90e2367befef6fdb876b17566a44645a&#x27;, {\n",
              "        center: [53.58821484420569, -1.0708236694338455],\n",
              "        zoom: 11,\n",
              "        maxBounds: bounds,\n",
              "        layers: [],\n",
              "        worldCopyJump: false,\n",
              "        crs: L.CRS.EPSG3857,\n",
              "        zoomControl: true,\n",
              "        });\n",
              "\n",
              "\n",
              "    \n",
              "    var tile_layer_5a86960cdfd8b97a90aa5a7cfd228b57 = L.tileLayer(\n",
              "        &#x27;https://{s}.tile.openstreetmap.org/{z}/{x}/{y}.png&#x27;,\n",
              "        {\n",
              "        &quot;attribution&quot;: null,\n",
              "        &quot;detectRetina&quot;: false,\n",
              "        &quot;maxNativeZoom&quot;: 18,\n",
              "        &quot;maxZoom&quot;: 18,\n",
              "        &quot;minZoom&quot;: 0,\n",
              "        &quot;noWrap&quot;: false,\n",
              "        &quot;opacity&quot;: 1,\n",
              "        &quot;subdomains&quot;: &quot;abc&quot;,\n",
              "        &quot;tms&quot;: false\n",
              "}).addTo(map_90e2367befef6fdb876b17566a44645a);\n",
              "    var tile_layer_dcb4f8c95d706590777dbfdc7c74ce68 = L.tileLayer(\n",
              "        &#x27;https://earthengine.googleapis.com/v1alpha/projects/earthengine-legacy/maps/bc531529b44a2c7bdc30e9a147bbc007-df55b858fe16633ec8ecb7325d1ac123/tiles/{z}/{x}/{y}&#x27;,\n",
              "        {\n",
              "        &quot;attribution&quot;: &quot;Map Data &amp;copy; &lt;a href=\\&quot;https://earthengine.google.com/\\&quot;&gt;Google Earth Engine&lt;/a&gt;&quot;,\n",
              "        &quot;detectRetina&quot;: false,\n",
              "        &quot;maxNativeZoom&quot;: 18,\n",
              "        &quot;maxZoom&quot;: 18,\n",
              "        &quot;minZoom&quot;: 0,\n",
              "        &quot;noWrap&quot;: false,\n",
              "        &quot;opacity&quot;: 1,\n",
              "        &quot;subdomains&quot;: &quot;abc&quot;,\n",
              "        &quot;tms&quot;: false\n",
              "}).addTo(map_90e2367befef6fdb876b17566a44645a);\n",
              "    \n",
              "            var layer_control_f3cb5dbd233d6b0b21f15c8af710db3e = {\n",
              "                base_layers : { &quot;openstreetmap&quot; : tile_layer_5a86960cdfd8b97a90aa5a7cfd228b57, },\n",
              "                overlays : { &quot;change map&quot; : tile_layer_dcb4f8c95d706590777dbfdc7c74ce68, }\n",
              "                };\n",
              "            L.control.layers(\n",
              "                layer_control_f3cb5dbd233d6b0b21f15c8af710db3e.base_layers,\n",
              "                layer_control_f3cb5dbd233d6b0b21f15c8af710db3e.overlays,\n",
              "                {position: &#x27;topright&#x27;,\n",
              "                 collapsed: true,\n",
              "                 autoZIndex: true\n",
              "                }).addTo(map_90e2367befef6fdb876b17566a44645a);\n",
              "            \n",
              "        \n",
              "&lt;/script&gt;\" style=\"position:absolute;width:100%;height:100%;left:0;top:0;border:none !important;\" allowfullscreen webkitallowfullscreen mozallowfullscreen></iframe></div></div>"
            ]
          },
          "metadata": {},
          "execution_count": 14
        }
      ]
    },
    {
      "cell_type": "markdown",
      "metadata": {
        "id": "0OFU7fgvtzCm"
      },
      "source": [
        "So plenty of changes, but hard to interpret considering the time span. Although we can see _where_ changes took place, we know neither _when_ they occurred nor their _multiplicity_. Also there is a matter that we have glossed over up until now, and that is ...\n",
        "\n",
        "### A question of scale\n",
        "\n",
        "The number of looks plays an important role in all of the formulae that we have discussed so far, and for the Sentinel-1 ground range detected imagery we first used $m=5$ and now the ENL $=4.4$.  When we display a change map interactively, the  [zoom factor determines the image pyramid level](https://developers.google.com/earth-engine/guides/scale) at which the GEE servers perform the required calculations and pass the result to the folium map client. If the calculations are not at the nominal scale of 10m then the number of looks is effectively larger than the ENL due to the averaging involved in constructing higher pyramid levels. The effect can be seen in the  output cell above: the number of change pixels seems to decrease when we zoom out. There is no problem when we export our results to GEE assets, to Google Drive or to Cloud storage, since we can simply choose the correct nominal scale for export.\n",
        "\n",
        "In order to see the changes correctly at all zoom levels, we can force GEE to work at the nominal scale by reprojecting before displaying on the map ([use with caution](https://developers.google.com/earth-engine/guides/projections#reprojecting)):"
      ]
    },
    {
      "cell_type": "code",
      "metadata": {
        "id": "shwzGq2tWMva",
        "colab": {
          "base_uri": "https://localhost:8080/",
          "height": 808
        },
        "outputId": "703d5e46-c69f-465a-80cb-7f9a97922a10"
      },
      "source": [
        "c_map_10m = c_map.reproject(c_map.projection().crs(), scale=10)\n",
        "mp = folium.Map(location=location, zoom_start=11)\n",
        "mp.add_ee_layer(c_map, {'min': 0, 'max': 1, 'palette': ['black', 'red']}, 'Change map')\n",
        "mp.add_ee_layer(c_map_10m, {'min': 0, 'max': 1, 'palette': ['black', 'blue']}, 'Change map (10m)')\n",
        "\n",
        "mp.add_child(folium.LayerControl())"
      ],
      "execution_count": 15,
      "outputs": [
        {
          "output_type": "execute_result",
          "data": {
            "text/plain": [
              "<folium.folium.Map at 0x7f178f75bb10>"
            ],
            "text/html": [
              "<div style=\"width:100%;\"><div style=\"position:relative;width:100%;height:0;padding-bottom:60%;\"><span style=\"color:#565656\">Make this Notebook Trusted to load map: File -> Trust Notebook</span><iframe srcdoc=\"&lt;!DOCTYPE html&gt;\n",
              "&lt;head&gt;    \n",
              "    &lt;meta http-equiv=&quot;content-type&quot; content=&quot;text/html; charset=UTF-8&quot; /&gt;\n",
              "    &lt;script&gt;L_PREFER_CANVAS=false; L_NO_TOUCH=false; L_DISABLE_3D=false;&lt;/script&gt;\n",
              "    &lt;script src=&quot;https://cdn.jsdelivr.net/npm/leaflet@1.4.0/dist/leaflet.js&quot;&gt;&lt;/script&gt;\n",
              "    &lt;script src=&quot;https://code.jquery.com/jquery-1.12.4.min.js&quot;&gt;&lt;/script&gt;\n",
              "    &lt;script src=&quot;https://maxcdn.bootstrapcdn.com/bootstrap/3.2.0/js/bootstrap.min.js&quot;&gt;&lt;/script&gt;\n",
              "    &lt;script src=&quot;https://cdnjs.cloudflare.com/ajax/libs/Leaflet.awesome-markers/2.0.2/leaflet.awesome-markers.js&quot;&gt;&lt;/script&gt;\n",
              "    &lt;link rel=&quot;stylesheet&quot; href=&quot;https://cdn.jsdelivr.net/npm/leaflet@1.4.0/dist/leaflet.css&quot;/&gt;\n",
              "    &lt;link rel=&quot;stylesheet&quot; href=&quot;https://maxcdn.bootstrapcdn.com/bootstrap/3.2.0/css/bootstrap.min.css&quot;/&gt;\n",
              "    &lt;link rel=&quot;stylesheet&quot; href=&quot;https://maxcdn.bootstrapcdn.com/bootstrap/3.2.0/css/bootstrap-theme.min.css&quot;/&gt;\n",
              "    &lt;link rel=&quot;stylesheet&quot; href=&quot;https://maxcdn.bootstrapcdn.com/font-awesome/4.6.3/css/font-awesome.min.css&quot;/&gt;\n",
              "    &lt;link rel=&quot;stylesheet&quot; href=&quot;https://cdnjs.cloudflare.com/ajax/libs/Leaflet.awesome-markers/2.0.2/leaflet.awesome-markers.css&quot;/&gt;\n",
              "    &lt;link rel=&quot;stylesheet&quot; href=&quot;https://rawcdn.githack.com/python-visualization/folium/master/folium/templates/leaflet.awesome.rotate.css&quot;/&gt;\n",
              "    &lt;style&gt;html, body {width: 100%;height: 100%;margin: 0;padding: 0;}&lt;/style&gt;\n",
              "    &lt;style&gt;#map {position:absolute;top:0;bottom:0;right:0;left:0;}&lt;/style&gt;\n",
              "    \n",
              "    &lt;meta name=&quot;viewport&quot; content=&quot;width=device-width,\n",
              "        initial-scale=1.0, maximum-scale=1.0, user-scalable=no&quot; /&gt;\n",
              "    &lt;style&gt;#map_fccc7982da538202bacc587f4295370d {\n",
              "        position: relative;\n",
              "        width: 100.0%;\n",
              "        height: 100.0%;\n",
              "        left: 0.0%;\n",
              "        top: 0.0%;\n",
              "        }\n",
              "    &lt;/style&gt;\n",
              "&lt;/head&gt;\n",
              "&lt;body&gt;    \n",
              "    \n",
              "    &lt;div class=&quot;folium-map&quot; id=&quot;map_fccc7982da538202bacc587f4295370d&quot; &gt;&lt;/div&gt;\n",
              "&lt;/body&gt;\n",
              "&lt;script&gt;    \n",
              "    \n",
              "    \n",
              "        var bounds = null;\n",
              "    \n",
              "\n",
              "    var map_fccc7982da538202bacc587f4295370d = L.map(\n",
              "        &#x27;map_fccc7982da538202bacc587f4295370d&#x27;, {\n",
              "        center: [53.58821484420569, -1.0708236694338455],\n",
              "        zoom: 11,\n",
              "        maxBounds: bounds,\n",
              "        layers: [],\n",
              "        worldCopyJump: false,\n",
              "        crs: L.CRS.EPSG3857,\n",
              "        zoomControl: true,\n",
              "        });\n",
              "\n",
              "\n",
              "    \n",
              "    var tile_layer_0bf53d4ee5a7eee4b1b849d27419f77e = L.tileLayer(\n",
              "        &#x27;https://{s}.tile.openstreetmap.org/{z}/{x}/{y}.png&#x27;,\n",
              "        {\n",
              "        &quot;attribution&quot;: null,\n",
              "        &quot;detectRetina&quot;: false,\n",
              "        &quot;maxNativeZoom&quot;: 18,\n",
              "        &quot;maxZoom&quot;: 18,\n",
              "        &quot;minZoom&quot;: 0,\n",
              "        &quot;noWrap&quot;: false,\n",
              "        &quot;opacity&quot;: 1,\n",
              "        &quot;subdomains&quot;: &quot;abc&quot;,\n",
              "        &quot;tms&quot;: false\n",
              "}).addTo(map_fccc7982da538202bacc587f4295370d);\n",
              "    var tile_layer_49f7d92cf3d2ba47e0163d9999d0d1b2 = L.tileLayer(\n",
              "        &#x27;https://earthengine.googleapis.com/v1alpha/projects/earthengine-legacy/maps/bc531529b44a2c7bdc30e9a147bbc007-5553e961e9daaa70dd60d10b39a07308/tiles/{z}/{x}/{y}&#x27;,\n",
              "        {\n",
              "        &quot;attribution&quot;: &quot;Map Data &amp;copy; &lt;a href=\\&quot;https://earthengine.google.com/\\&quot;&gt;Google Earth Engine&lt;/a&gt;&quot;,\n",
              "        &quot;detectRetina&quot;: false,\n",
              "        &quot;maxNativeZoom&quot;: 18,\n",
              "        &quot;maxZoom&quot;: 18,\n",
              "        &quot;minZoom&quot;: 0,\n",
              "        &quot;noWrap&quot;: false,\n",
              "        &quot;opacity&quot;: 1,\n",
              "        &quot;subdomains&quot;: &quot;abc&quot;,\n",
              "        &quot;tms&quot;: false\n",
              "}).addTo(map_fccc7982da538202bacc587f4295370d);\n",
              "    var tile_layer_28565a40b4c9573adc58bd12287778c6 = L.tileLayer(\n",
              "        &#x27;https://earthengine.googleapis.com/v1alpha/projects/earthengine-legacy/maps/f556542924e113cfbe7401a5043dd5a2-85ac44718f34df1b3172a4db95243713/tiles/{z}/{x}/{y}&#x27;,\n",
              "        {\n",
              "        &quot;attribution&quot;: &quot;Map Data &amp;copy; &lt;a href=\\&quot;https://earthengine.google.com/\\&quot;&gt;Google Earth Engine&lt;/a&gt;&quot;,\n",
              "        &quot;detectRetina&quot;: false,\n",
              "        &quot;maxNativeZoom&quot;: 18,\n",
              "        &quot;maxZoom&quot;: 18,\n",
              "        &quot;minZoom&quot;: 0,\n",
              "        &quot;noWrap&quot;: false,\n",
              "        &quot;opacity&quot;: 1,\n",
              "        &quot;subdomains&quot;: &quot;abc&quot;,\n",
              "        &quot;tms&quot;: false\n",
              "}).addTo(map_fccc7982da538202bacc587f4295370d);\n",
              "    \n",
              "            var layer_control_b23bfb2d08d0031f2c85dab811fc41c5 = {\n",
              "                base_layers : { &quot;openstreetmap&quot; : tile_layer_0bf53d4ee5a7eee4b1b849d27419f77e, },\n",
              "                overlays : { &quot;Change map&quot; : tile_layer_49f7d92cf3d2ba47e0163d9999d0d1b2,&quot;Change map (10m)&quot; : tile_layer_28565a40b4c9573adc58bd12287778c6, }\n",
              "                };\n",
              "            L.control.layers(\n",
              "                layer_control_b23bfb2d08d0031f2c85dab811fc41c5.base_layers,\n",
              "                layer_control_b23bfb2d08d0031f2c85dab811fc41c5.overlays,\n",
              "                {position: &#x27;topright&#x27;,\n",
              "                 collapsed: true,\n",
              "                 autoZIndex: true\n",
              "                }).addTo(map_fccc7982da538202bacc587f4295370d);\n",
              "            \n",
              "        \n",
              "&lt;/script&gt;\" style=\"position:absolute;width:100%;height:100%;left:0;top:0;border:none !important;\" allowfullscreen webkitallowfullscreen mozallowfullscreen></iframe></div></div>"
            ]
          },
          "metadata": {},
          "execution_count": 15
        }
      ]
    },
    {
      "cell_type": "markdown",
      "metadata": {
        "id": "wTkiTAIWLxpU"
      },
      "source": [
        "You will notice in the output cell above that the calculation at nominal scale (the blue pixels) now takes considerably longer to complete. Also some red pixels are not completely covered by blue ones. Those changes are a spurious result of the falsified number of looks. Nevertheless for quick previewing purposes we might prefer to do without the reprojection."
      ]
    },
    {
      "cell_type": "markdown",
      "metadata": {
        "id": "p9mlvH7oUtJe"
      },
      "source": [
        "### A sequential omnibus test\n",
        "\n",
        "Recalling the last remark at the end of [Part 2](https://developers.google.com/earth-engine/tutorials/community/detecting-changes-in-sentinel-1-imagery-pt-2#oh_and_one_more_thing_), let's now guess the omnibus LRT for the dual polarization case. From Eq. (3.5), replacing $s_i \\to|c_i|$,  $\\ \\sum s_i \\to |\\sum c_i|\\ $ and $k^k \\to k^{2k}$, we get\n",
        "\n",
        "$$\n",
        "Q_k =  \\left[k^{2k}{\\prod_i |c_i|\\over |\\sum_i c_i|^k}\\right]^m. \\tag{3.7}\n",
        "$$\n",
        "\n",
        "This is in fact a special case of a more general omnibus test statistic\n",
        "\n",
        "$$\n",
        "Q_k =  \\left[k^{pk}{\\prod_i |c_i|\\over |\\sum_i c_i|^k}\\right]^m\n",
        "$$\n",
        "\n",
        "which holds for $p\\times p$ polarimetric covariance matrix images, for example for the full dual pol matrix   [Eq. (1.5)](https://developers.google.com/earth-engine/tutorials/community/detecting-changes-in-sentinel-1-imagery-pt-1#single_look_complex_slc_sar_measurements) or for full $3\\times 3$ quad pol matrices ($p=3$), but also for diagonal $2\\times 2$ and $3\\times 3$ matrices.\n",
        "\n",
        "Which brings us to the **heart of this Tutorial**. We will now decompose Eq. (3.7) into a product of independent likelihood ratio tests which will enable us to determine when changes occurred at each pixel location. Then we'll code a complete multitemporal change detection algorithm on the GEE Python API."
      ]
    },
    {
      "cell_type": "markdown",
      "metadata": {
        "id": "tePZxpVI0Tkg"
      },
      "source": [
        "#### Single polarization\n",
        "\n",
        "Rather than make a formal derivation, we will illustrate the decomposition on a series of $k=5$ single polarization (VV) measurements. The omnibus test Eq. (3.5) for any change over the series from $t_1$ to $t_5$ is\n",
        "\n",
        "$$\n",
        "Q_5 = \\left[ 5^5 {s_1s_2s_3s_4s_5\\over (s_1+s_2+s_3+s_4+s_5)^5}\\right]^m.\n",
        "$$\n",
        "\n",
        "If we accept the null hypothesis $a_1=a_2=a_3=a_4=a_5$ we're done and can move on to the next pixel (figuratively of course, since this stuff is all done in parallel). But suppose we have rejected the null hypothesis, i.e., there was a least one significant change. In order to find it (or them), we begin by testing the first of the four intervals. That's just the bitemporal test from Part 2, but let's call it $R_2$ rather than $Q_2$,\n",
        "\n",
        "$$\n",
        "R_2 = \\left[ 2^2 {s_1s_2\\over (s_1+s_2)^2}\\right]^m.\n",
        "$$\n",
        "\n",
        "Suppose we conclude no change, that is, $a_1=a_2$. Now we don't do just another bitemporal test on the second interval. Instead we test the hypothesis\n",
        "\n",
        "$$\n",
        "\\begin{align*}\n",
        "H_0:\\ & a_1=a_2= a_3\\ (=a)\\cr\n",
        "{\\rm against}\\quad H_1:\\  &a_1=a_2\\ (=a) \\ne a_3.\n",
        "\\end{align*}\n",
        "$$\n",
        "\n",
        "So the alternative hypothesis is: _There was no change in the first interval **and** there was a change in the second interval_. The LRT is easy to derive, but let's go through it anyway.\n",
        "\n",
        "$$\n",
        "\\begin{align*}\n",
        "        {\\rm From\\ Eq.}\\ (3.4):\\  &L_0(a)  = {1\\over\\Gamma(m)^3} \\left[{a\\over m}\\right]^{-3m}\\left[s_1s_2s_3\\right]^{m-1}\\exp(-{m\\over a}(s_1+s_2+s_3)  \\cr\n",
        "        &\\hat a = {1\\over 3}(s_1+s_2+s_3) \\cr\n",
        "=>\\           &L_0(\\hat a) = {1\\over\\Gamma(m)^3} \\left[{s_1+s_2+s_3\\over 3m}\\right]^{-3m}\\left[s_1s_2s_3\\right]^{m-1} \\exp(-3m) \\cr\n",
        "{\\rm From\\ Eq.}\\ (3.3):\\ &L_1(a_1,a_2,a_3) = {1\\over\\Gamma(m)^3}\\left[a_1a_2a_3\\over m\\right]^{-m}[s_1s_2s_3]^{m-1}\\exp(-m(s_1/a_1+s_2/a_2+s_3/a_3)\\cr\n",
        "&\\hat a_1 = \\hat a_2 = {1\\over 2}(s_1+s_2),\\quad \\hat a_3 = s_3 \\cr\n",
        "=>\\ &L_1(\\hat a_1,\\hat a_2, \\hat a_3) = {1\\over\\Gamma(m)^3}\\left[(s_1+s_2)^2s_3\\over 2^2m \\right]^{-m}[s_1s_2s_3]^{m-1}\\exp(-3m)\n",
        "\\end{align*}\n",
        "$$\n",
        "\n",
        "And, taking the ratio $L_0/L_1$of the maximum likelihoods,\n",
        "\n",
        "$$\n",
        "R_3 = \\left[{3^3\\over 2^2}{(s_1+s_2)^2s_3\\over (s_1+s_2+s_3)^3}\\right]^m.\n",
        "$$\n",
        "\n",
        "Not too hard to guess that, if we accept $H_0$ again, we go on to test\n",
        "\n",
        "$$\n",
        "\\begin{align*}\n",
        "H_0:\\ a_1=a_2=a_3=a_4\\ (=a)\\cr\n",
        "{\\rm against}\\quad H_1:\\ a_1=a_2=a_3\\ (=a) \\ne a_4.\n",
        "\\end{align*}\n",
        "$$\n",
        "\n",
        "with LRT statistic\n",
        "\n",
        "$$\n",
        "R_4 = \\left[{4^4\\over 3^3}{(s_1+s_2+s_3)^3s_4\\over (s_1+s_2+s_3+s_4)^4}\\right]^m,\n",
        "$$\n",
        "\n",
        "and so on to $R_5$ and the end of the time series.\n",
        "\n",
        "Now for the cool part (try it out yourself):\n",
        "\n",
        "$$\n",
        "R_2\\times R_3\\times R_4 \\times R_5 = Q_5.\n",
        "$$"
      ]
    },
    {
      "cell_type": "markdown",
      "metadata": {
        "id": "twkipaPuT1qP"
      },
      "source": [
        "So, generalizing to a series of length $k$:\n",
        "\n",
        "**The omnibus test statistic $Q_k$ may be factored into the product of  LRT's $R_j$ which test for homogeneity in the measured reflectance signal up to and including time $t_j$, assuming homogeneity up to time $t_{j-1}$:**\n",
        "\n",
        "$$\n",
        "Q_k = \\prod_{j=2}^k R_j, \\quad R_j = \\left[{j^j\\over (j-1)^{j-1}}{(s_1+\\dots +s_{j-1})^{j-1}s_j\\over (s_1+\\dots +s_j)^j}\\right]^m,\\quad j = 2\\dots k.  \\tag{3.8}\n",
        "$$\n",
        "\n",
        "Moreover the test statistics $R_j$ are stochastically independent under $H_0$.\n",
        "This can be shown analytically, see [Conradsen et al. (2016)](https://ieeexplore.ieee.org/document/7398022) or P. 405 in my [textbook](https://www.taylorfrancis.com/books/9780429464348), but we'll show it here empirically by sampling the test statistics $R_j$ in the region _aoi\\_sub_ and examining the correlation matrix."
      ]
    },
    {
      "cell_type": "code",
      "metadata": {
        "id": "0GSB1pSnNee6",
        "colab": {
          "base_uri": "https://localhost:8080/"
        },
        "outputId": "a7fe5092-9601-4476-cd63-cb2b164b0ee1"
      },
      "source": [
        "def sample_vv_imgs(j):\n",
        "    \"\"\"Samples the test statistics Rj in the region aoi_sub.\"\"\"\n",
        "    j = ee.Number(j)\n",
        "    # Get the factors in the expression for Rj.\n",
        "    sj = vv_list.get(j.subtract(1))\n",
        "    jfact = j.pow(j).divide(j.subtract(1).pow(j.subtract(1)))\n",
        "    sumj = ee.ImageCollection(vv_list.slice(0, j)).reduce(ee.Reducer.sum())\n",
        "    sumjm1 = ee.ImageCollection(vv_list.slice(0, j.subtract(1))).reduce(ee.Reducer.sum())\n",
        "    # Put them together.\n",
        "    Rj = sumjm1.pow(j.subtract(1)).multiply(sj).multiply(jfact).divide(sumj.pow(j)).pow(5)\n",
        "    # Sample Rj.\n",
        "    sample = (Rj.sample(region=aoi_sub, scale=10, numPixels=1000, seed=123)\n",
        "              .aggregate_array('VV_sum'))\n",
        "    return sample\n",
        "\n",
        "# Sample the first few list indices.\n",
        "samples = ee.List.sequence(2, 8).map(sample_vv_imgs)\n",
        "\n",
        "# Calculate and display the correlation matrix.\n",
        "np.set_printoptions(precision=2, suppress=True)\n",
        "print(np.corrcoef(samples.getInfo()))"
      ],
      "execution_count": 16,
      "outputs": [
        {
          "output_type": "stream",
          "name": "stdout",
          "text": [
            "[[ 1.    0.   -0.01 -0.04  0.03  0.06  0.02]\n",
            " [ 0.    1.    0.04 -0.01 -0.02  0.02  0.02]\n",
            " [-0.01  0.04  1.   -0.04  0.02 -0.02  0.04]\n",
            " [-0.04 -0.01 -0.04  1.   -0.04  0.01  0.03]\n",
            " [ 0.03 -0.02  0.02 -0.04  1.    0.08 -0.01]\n",
            " [ 0.06  0.02 -0.02  0.01  0.08  1.    0.  ]\n",
            " [ 0.02  0.02  0.04  0.03 -0.01  0.    1.  ]]\n"
          ]
        }
      ]
    },
    {
      "cell_type": "markdown",
      "metadata": {
        "id": "P1wKex1oFrqU"
      },
      "source": [
        "The off-diagonal elements are mostly small. The not-so-small values can be attributed to sampling error or to the presence of some change pixels in the samples."
      ]
    },
    {
      "cell_type": "markdown",
      "metadata": {
        "id": "CFzoRyIOU5Rx"
      },
      "source": [
        "#### Dual polarization and an algorithm\n",
        "\n",
        "With our substitution trick, we can now write down the sequential test for the dual polarization (bivariate) image time series. From Eq. (3.8) we get\n",
        "\n",
        "$$\n",
        "Q_k = \\prod_{j=2}^k R_j , \\quad R_j = \\left[{j^{2j}\\over (j-1)^{2(j-1)}}{|c_1+\\dots +c_{j-1}|^{j-1}|c_j|\\over |c_1+\\dots +c_j|^j}\\right]^m,\\quad j = 2\\dots k. \\tag{3.9}\n",
        "$$\n",
        "\n",
        "And of course we have again to use Wilks' Theorem to get the _P_ values, so we work with\n",
        "\n",
        "$$\n",
        "-2\\log{R_j} = -2m\\Big[2(j\\log{j}-(j-1)\\log(j-1)+(j-1)\\log\\Big|\\sum_{i=1}^{j-1}c_i \\Big|+\\log|c_j|-j\\log\\Big|\\sum_{i=1}^j c_i\\Big|\\ \\Big] \\tag{3.10a}\n",
        "$$\n",
        "\n",
        "and\n",
        "\n",
        "$$\n",
        "-2\\log Q_k = \\sum_{j=2}^k -2\\log R_j. \\tag{3.10b}\n",
        "$$\n",
        "\n",
        "The statistic $-2\\log R_j$ is approximately chi square distributed with two degrees of freedom. Similarly $-2\\log Q_k$ is approximately chi square distributed with $2(k-1)$ degrees of freedom. Readers should satisfy themselves that these numbers are indeed the correct, taking into account that each measurement $c_i$ has two free parameters $|S^a_{vv}|^2$ and $|S^b_{vh}|^2$, see [Eq. (2.13)](https://developers.google.com/earth-engine/tutorials/community/detecting-changes-in-sentinel-1-imagery-pt-2#bivariate_change_detection).\n",
        "\n",
        "Now for the algorithm:\n",
        "\n",
        "**The sequential omnibus change detection algorithm**\n",
        "\n",
        "With a time series of $k$ SAR images $(c_1,c_2,\\dots,c_k)$,\n",
        "\n",
        "1. Set $\\ell = k$.\n",
        "2. Set $s = (c_{k-\\ell+1}, \\dots c_k)$.\n",
        "3. Perform the omnibus test $Q_\\ell$ for any changes change over $s$.\n",
        "4. If no significant changes are found, stop.\n",
        "5. Successively test series $s$ with $R_2, R_3, \\dots$ until the first significant change is met for $R_j$.\n",
        "6. Set $\\ell = k-j+1$ and go to 2.\n",
        "\n",
        "|Table 3.1 |       |       |       |       |       |        |\n",
        "|----------|-------|-------|-------|-------|-------|--------|\n",
        "|  $\\ell$  | $c_1$ | $c_2$ | $c_3$ | $c_4$ | $c_5$ |        |\n",
        "| 5        |       | $R^5_2$ | $R^5_3$ | $R^5_4$ | $R^5_5$ | $Q_5$  |\n",
        "| 4        |       |       | $R^4_2$ | $R^4_3$ | $R^4_4$ | $Q_4$  |\n",
        "| 3        |       |       |       | $R^3_2$ | $R^3_3$ | $Q_3$  |\n",
        "| 2        |       |       |       |       | $R^2_2$ | $Q_2$  |\n",
        "\n",
        "\n",
        "Thus if a change is found, the series is truncated up to the point of change and the testing procedure is repeated for the rest of the series. Take for example a series of $k=5$ images. (See Table 3.1 where, to avoid ambiguity, we add superscript $\\ell$ to each $R_j$ test). Suppose there is one change in the second interval only. Then the test sequence is (the asterisk means $H_0$ is rejected)\n",
        "\n",
        "$$\n",
        "Q^*_5 \\to R^5_2 \\to R^{5*}_3 \\to Q_3.\n",
        "$$\n",
        "\n",
        "If there are changes in the second and last intervals,\n",
        "\n",
        "$$\n",
        "Q^*_5 \\to R^5_2 \\to R^{5*}_3 \\to Q^*_3 \\to R^3_2 \\to R^{3*}_3,\n",
        "$$\n",
        "\n",
        "and if there are significant changes in all four intervals,\n",
        "\n",
        "$$\n",
        "Q^*_5 \\to R^{5*}_2 \\to Q^*_4 \\to R^{4*}_2 \\to Q^*_3 \\to R^{3*}_2 \\to Q^*_2.\n",
        "$$\n",
        "\n",
        "The approach taken in the coding of this algorithm is to pre-calculate  _P_ values for all of the $Q_\\ell / R_j$ tests and then, in a second pass, to filter them to determine the points of change.\n",
        "\n"
      ]
    },
    {
      "cell_type": "markdown",
      "metadata": {
        "id": "D0fpZbEfthH3"
      },
      "source": [
        "#### Pre-calculating the _P_ value array\n",
        "\n",
        "The following code cell performs map operations on the indices $\\ell$ and $j$, returning an array of _P_ values for all possible LRT statistics. For example again for $k=5$, the code calculates the _P_ values for each $R_j$ entry in Table 3.1 as a list of lists. Before calculating each row, the time series $c_1, c_2,c_3,c_4, c_5$ is sliced from $k-\\ell+1$ to $k$. The last entry in each row is simply the product of the other entries,  $Q_\\ell =\\prod_{j=2}^\\ell R_j.$\n",
        "\n",
        "The program actually operates on the logarithms of the test statistics, Equations (3.10).\n"
      ]
    },
    {
      "cell_type": "code",
      "metadata": {
        "id": "4DDfm-FxtylT"
      },
      "source": [
        "def log_det_sum(im_list, j):\n",
        "    \"\"\"Returns log of determinant of the sum of the first j images in im_list.\"\"\"\n",
        "    im_ist = ee.List(im_list)\n",
        "    sumj = ee.ImageCollection(im_list.slice(0, j)).reduce(ee.Reducer.sum())\n",
        "    return ee.Image(det(sumj)).log()\n",
        "\n",
        "def log_det(im_list, j):\n",
        "    \"\"\"Returns log of the determinant of the jth image in im_list.\"\"\"\n",
        "    im = ee.Image(ee.List(im_list).get(j.subtract(1)))\n",
        "    return ee.Image(det(im)).log()\n",
        "\n",
        "def pval(im_list, j, m=4.4):\n",
        "    \"\"\"Calculates -2logRj for im_list and returns P value and -2logRj.\"\"\"\n",
        "    im_list = ee.List(im_list)\n",
        "    j = ee.Number(j)\n",
        "    m2logRj = (log_det_sum(im_list, j.subtract(1))\n",
        "               .multiply(j.subtract(1))\n",
        "               .add(log_det(im_list, j))\n",
        "               .add(ee.Number(2).multiply(j).multiply(j.log()))\n",
        "               .subtract(ee.Number(2).multiply(j.subtract(1))\n",
        "               .multiply(j.subtract(1).log()))\n",
        "               .subtract(log_det_sum(im_list,j).multiply(j))\n",
        "               .multiply(-2).multiply(m))\n",
        "    pv = ee.Image.constant(1).subtract(chi2cdf(m2logRj, 2))\n",
        "    return (pv, m2logRj)\n",
        "\n",
        "def p_values(im_list):\n",
        "    \"\"\"Pre-calculates the P-value array for a list of images.\"\"\"\n",
        "    im_list = ee.List(im_list)\n",
        "    k = im_list.length()\n",
        "\n",
        "    def ells_map(ell):\n",
        "        \"\"\"Arranges calculation of pval for combinations of k and j.\"\"\"\n",
        "        ell = ee.Number(ell)\n",
        "        # Slice the series from k-l+1 to k (image indices start from 0).\n",
        "        im_list_ell = im_list.slice(k.subtract(ell), k)\n",
        "\n",
        "        def js_map(j):\n",
        "            \"\"\"Applies pval calculation for combinations of k and j.\"\"\"\n",
        "            j = ee.Number(j)\n",
        "            pv1, m2logRj1 = pval(im_list_ell, j)\n",
        "            return ee.Feature(None, {'pv': pv1, 'm2logRj': m2logRj1})\n",
        "\n",
        "        # Map over j=2,3,...,l.\n",
        "        js = ee.List.sequence(2, ell)\n",
        "        pv_m2logRj = ee.FeatureCollection(js.map(js_map))\n",
        "\n",
        "        # Calculate m2logQl from collection of m2logRj images.\n",
        "        m2logQl = ee.ImageCollection(pv_m2logRj.aggregate_array('m2logRj')).sum()\n",
        "        pvQl = ee.Image.constant(1).subtract(chi2cdf(m2logQl, ell.subtract(1).multiply(2)))\n",
        "        pvs = ee.List(pv_m2logRj.aggregate_array('pv')).add(pvQl)\n",
        "        return pvs\n",
        "\n",
        "    # Map over l = k to 2.\n",
        "    ells = ee.List.sequence(k, 2, -1)\n",
        "    pv_arr = ells.map(ells_map)\n",
        "\n",
        "    # Return the P value array ell = k,...,2, j = 2,...,l.\n",
        "    return pv_arr"
      ],
      "execution_count": 17,
      "outputs": []
    },
    {
      "cell_type": "markdown",
      "metadata": {
        "id": "Mx3XiJAEIpu7"
      },
      "source": [
        "#### Filtering the _P_ values\n",
        "\n",
        "|Table 3.2 |       |       |       |       |       |        |\n",
        "|----------|-------|-------|-------|-------|-------|--------|\n",
        "|$i\\ $ / $j$|      |     1 |     2 |     3 |     4 |        |\n",
        "| 1        |       | $P_2$ | $P_3$ | $P_4$ | $P_5$ | $P_{Q5}$  |\n",
        "| 2        |       |       | $P_2$ | $P_3$ | $P_4$ | $P_{Q4}$  |\n",
        "| 3        |       |       |       | $P_2$ | $P_3$ | $P_{Q3}$  |\n",
        "| 4        |       |       |       |       | $P_2$ | $P_{Q2}$  |\n",
        "\n",
        "The pre-calculated _P_ values in _pv\\_arr_ (shown schematically in Table 3.2 for $k=5$) are then scanned in nested iterations over indices $i$ and $j$ to determine the following thematic change maps:\n",
        "\n",
        "- cmap: the interval of the most recent change, one band, byte values $\\in [0,k-1]$,\n",
        "- smap: the interval of the first change, one band, byte values $\\in [0,k-1]$,\n",
        "- fmap: the number of changes, one band, byte values $\\in [0,k-1]$,\n",
        "- bmap: the changes in each interval, $\\ k-1$ bands, byte values $\\in [0,1]$).\n",
        "\n",
        "A boolean variable _median_ is included in the code. Its purpose is to reduce the salt-and-pepper effect in no-change regions, which is at least partly a consequence of the uniform distribution of the _P_ values under $H_0$ (see the section [A note on P values](https://developers.google.com/earth-engine/tutorials/community/detecting-changes-in-sentinel-1-imagery-pt-2#a_note_on_p_values) in Part 2). If _median_ is _True_, the _P_ values for each $Q_\\ell$ statistic are passed through a $5\\times 5$ median filter before being compared with the significance threshold. This is not statistically kosher but probably justifiable if one is only interested in large homogeneous changes, for example flood inundations or deforestation.\n",
        "\n",
        "Here is the code:"
      ]
    },
    {
      "cell_type": "code",
      "metadata": {
        "id": "D1KBQwPWLYEI"
      },
      "source": [
        "def filter_j(current, prev):\n",
        "    \"\"\"Calculates change maps; iterates over j indices of pv_arr.\"\"\"\n",
        "    pv = ee.Image(current)\n",
        "    prev = ee.Dictionary(prev)\n",
        "    pvQ = ee.Image(prev.get('pvQ'))\n",
        "    i = ee.Number(prev.get('i'))\n",
        "    cmap = ee.Image(prev.get('cmap'))\n",
        "    smap = ee.Image(prev.get('smap'))\n",
        "    fmap = ee.Image(prev.get('fmap'))\n",
        "    bmap = ee.Image(prev.get('bmap'))\n",
        "    alpha = ee.Image(prev.get('alpha'))\n",
        "    j = ee.Number(prev.get('j'))\n",
        "    cmapj = cmap.multiply(0).add(i.add(j).subtract(1))\n",
        "    # Check      Rj?            Ql?                  Row i?\n",
        "    tst = pv.lt(alpha).And(pvQ.lt(alpha)).And(cmap.eq(i.subtract(1)))\n",
        "    # Then update cmap...\n",
        "    cmap = cmap.where(tst, cmapj)\n",
        "    # ...and fmap...\n",
        "    fmap = fmap.where(tst, fmap.add(1))\n",
        "    # ...and smap only if in first row.\n",
        "    smap = ee.Algorithms.If(i.eq(1), smap.where(tst, cmapj), smap)\n",
        "    # Create bmap band and add it to bmap image.\n",
        "    idx = i.add(j).subtract(2)\n",
        "    tmp = bmap.select(idx)\n",
        "    bname = bmap.bandNames().get(idx)\n",
        "    tmp = tmp.where(tst, 1)\n",
        "    tmp = tmp.rename([bname])\n",
        "    bmap = bmap.addBands(tmp, [bname], True)\n",
        "    return ee.Dictionary({'i': i, 'j': j.add(1), 'alpha': alpha, 'pvQ': pvQ,\n",
        "                          'cmap': cmap, 'smap': smap, 'fmap': fmap, 'bmap':bmap})\n",
        "\n",
        "def filter_i(current, prev):\n",
        "    \"\"\"Arranges calculation of change maps; iterates over row-indices of pv_arr.\"\"\"\n",
        "    current = ee.List(current)\n",
        "    pvs = current.slice(0, -1 )\n",
        "    pvQ = ee.Image(current.get(-1))\n",
        "    prev = ee.Dictionary(prev)\n",
        "    i = ee.Number(prev.get('i'))\n",
        "    alpha = ee.Image(prev.get('alpha'))\n",
        "    median = prev.get('median')\n",
        "    # Filter Ql p value if desired.\n",
        "    pvQ = ee.Algorithms.If(median, pvQ.focalMedian(2.5), pvQ)\n",
        "    cmap = prev.get('cmap')\n",
        "    smap = prev.get('smap')\n",
        "    fmap = prev.get('fmap')\n",
        "    bmap = prev.get('bmap')\n",
        "    first = ee.Dictionary({'i': i, 'j': 1, 'alpha': alpha ,'pvQ': pvQ,\n",
        "                           'cmap': cmap, 'smap': smap, 'fmap': fmap, 'bmap': bmap})\n",
        "    result = ee.Dictionary(ee.List(pvs).iterate(filter_j, first))\n",
        "    return ee.Dictionary({'i': i.add(1), 'alpha': alpha, 'median': median,\n",
        "                          'cmap': result.get('cmap'), 'smap': result.get('smap'),\n",
        "                          'fmap': result.get('fmap'), 'bmap': result.get('bmap')})"
      ],
      "execution_count": 18,
      "outputs": []
    },
    {
      "cell_type": "markdown",
      "metadata": {
        "id": "pjTNE7fC5YGl"
      },
      "source": [
        "The following function ties the two steps together:"
      ]
    },
    {
      "cell_type": "code",
      "metadata": {
        "id": "Iuzc7fZ-0s1P"
      },
      "source": [
        "def change_maps(im_list, median=False, alpha=0.01):\n",
        "    \"\"\"Calculates thematic change maps.\"\"\"\n",
        "    k = im_list.length()\n",
        "    # Pre-calculate the P value array.\n",
        "    pv_arr = ee.List(p_values(im_list))\n",
        "    # Filter P values for change maps.\n",
        "    cmap = ee.Image(im_list.get(0)).select(0).multiply(0)\n",
        "    bmap = ee.Image.constant(ee.List.repeat(0, k.subtract(1))).add(cmap)\n",
        "    alpha = ee.Image.constant(alpha)\n",
        "    first = ee.Dictionary({'i': 1, 'alpha': alpha, 'median': median,\n",
        "                           'cmap': cmap, 'smap': cmap, 'fmap': cmap, 'bmap': bmap})\n",
        "    return ee.Dictionary(pv_arr.iterate(filter_i, first))"
      ],
      "execution_count": 19,
      "outputs": []
    },
    {
      "cell_type": "markdown",
      "metadata": {
        "id": "xz2FqH45CVpe"
      },
      "source": [
        "And now we run the algorithm and display the color-coded change maps: _cmap_, _smap_ (blue early, red late) and _fmap_ (blue few, red many):"
      ]
    },
    {
      "cell_type": "code",
      "metadata": {
        "id": "T4dvtMlna_8R",
        "colab": {
          "base_uri": "https://localhost:8080/",
          "height": 808
        },
        "outputId": "65673cad-e6b2-4d5f-a1fb-66a72f2660dd"
      },
      "source": [
        "result = change_maps(im_list, median=True, alpha=0.05)\n",
        "\n",
        "# Extract the change maps and display.\n",
        "cmap = ee.Image(result.get('cmap'))\n",
        "smap = ee.Image(result.get('smap'))\n",
        "fmap = ee.Image(result.get('fmap'))\n",
        "location = aoi.centroid().coordinates().getInfo()[::-1]\n",
        "palette = ['black', 'blue', 'cyan', 'yellow', 'red']\n",
        "mp = folium.Map(location=location, zoom_start=11)\n",
        "mp.add_ee_layer(cmap, {'min': 0, 'max': 25, 'palette': palette}, 'cmap')\n",
        "mp.add_ee_layer(smap, {'min': 0, 'max': 25, 'palette': palette}, 'smap')\n",
        "mp.add_ee_layer(fmap, {'min': 0, 'max': 25, 'palette': palette}, 'fmap')\n",
        "mp.add_child(folium.LayerControl())"
      ],
      "execution_count": 20,
      "outputs": [
        {
          "output_type": "execute_result",
          "data": {
            "text/plain": [
              "<folium.folium.Map at 0x7f178f7ad7d0>"
            ],
            "text/html": [
              "<div style=\"width:100%;\"><div style=\"position:relative;width:100%;height:0;padding-bottom:60%;\"><span style=\"color:#565656\">Make this Notebook Trusted to load map: File -> Trust Notebook</span><iframe srcdoc=\"&lt;!DOCTYPE html&gt;\n",
              "&lt;head&gt;    \n",
              "    &lt;meta http-equiv=&quot;content-type&quot; content=&quot;text/html; charset=UTF-8&quot; /&gt;\n",
              "    &lt;script&gt;L_PREFER_CANVAS=false; L_NO_TOUCH=false; L_DISABLE_3D=false;&lt;/script&gt;\n",
              "    &lt;script src=&quot;https://cdn.jsdelivr.net/npm/leaflet@1.4.0/dist/leaflet.js&quot;&gt;&lt;/script&gt;\n",
              "    &lt;script src=&quot;https://code.jquery.com/jquery-1.12.4.min.js&quot;&gt;&lt;/script&gt;\n",
              "    &lt;script src=&quot;https://maxcdn.bootstrapcdn.com/bootstrap/3.2.0/js/bootstrap.min.js&quot;&gt;&lt;/script&gt;\n",
              "    &lt;script src=&quot;https://cdnjs.cloudflare.com/ajax/libs/Leaflet.awesome-markers/2.0.2/leaflet.awesome-markers.js&quot;&gt;&lt;/script&gt;\n",
              "    &lt;link rel=&quot;stylesheet&quot; href=&quot;https://cdn.jsdelivr.net/npm/leaflet@1.4.0/dist/leaflet.css&quot;/&gt;\n",
              "    &lt;link rel=&quot;stylesheet&quot; href=&quot;https://maxcdn.bootstrapcdn.com/bootstrap/3.2.0/css/bootstrap.min.css&quot;/&gt;\n",
              "    &lt;link rel=&quot;stylesheet&quot; href=&quot;https://maxcdn.bootstrapcdn.com/bootstrap/3.2.0/css/bootstrap-theme.min.css&quot;/&gt;\n",
              "    &lt;link rel=&quot;stylesheet&quot; href=&quot;https://maxcdn.bootstrapcdn.com/font-awesome/4.6.3/css/font-awesome.min.css&quot;/&gt;\n",
              "    &lt;link rel=&quot;stylesheet&quot; href=&quot;https://cdnjs.cloudflare.com/ajax/libs/Leaflet.awesome-markers/2.0.2/leaflet.awesome-markers.css&quot;/&gt;\n",
              "    &lt;link rel=&quot;stylesheet&quot; href=&quot;https://rawcdn.githack.com/python-visualization/folium/master/folium/templates/leaflet.awesome.rotate.css&quot;/&gt;\n",
              "    &lt;style&gt;html, body {width: 100%;height: 100%;margin: 0;padding: 0;}&lt;/style&gt;\n",
              "    &lt;style&gt;#map {position:absolute;top:0;bottom:0;right:0;left:0;}&lt;/style&gt;\n",
              "    \n",
              "    &lt;meta name=&quot;viewport&quot; content=&quot;width=device-width,\n",
              "        initial-scale=1.0, maximum-scale=1.0, user-scalable=no&quot; /&gt;\n",
              "    &lt;style&gt;#map_9790e50989e01035b2d560a748efebac {\n",
              "        position: relative;\n",
              "        width: 100.0%;\n",
              "        height: 100.0%;\n",
              "        left: 0.0%;\n",
              "        top: 0.0%;\n",
              "        }\n",
              "    &lt;/style&gt;\n",
              "&lt;/head&gt;\n",
              "&lt;body&gt;    \n",
              "    \n",
              "    &lt;div class=&quot;folium-map&quot; id=&quot;map_9790e50989e01035b2d560a748efebac&quot; &gt;&lt;/div&gt;\n",
              "&lt;/body&gt;\n",
              "&lt;script&gt;    \n",
              "    \n",
              "    \n",
              "        var bounds = null;\n",
              "    \n",
              "\n",
              "    var map_9790e50989e01035b2d560a748efebac = L.map(\n",
              "        &#x27;map_9790e50989e01035b2d560a748efebac&#x27;, {\n",
              "        center: [53.58821484420569, -1.0708236694338455],\n",
              "        zoom: 11,\n",
              "        maxBounds: bounds,\n",
              "        layers: [],\n",
              "        worldCopyJump: false,\n",
              "        crs: L.CRS.EPSG3857,\n",
              "        zoomControl: true,\n",
              "        });\n",
              "\n",
              "\n",
              "    \n",
              "    var tile_layer_36af6c71e1464583c4e6da00a565e89e = L.tileLayer(\n",
              "        &#x27;https://{s}.tile.openstreetmap.org/{z}/{x}/{y}.png&#x27;,\n",
              "        {\n",
              "        &quot;attribution&quot;: null,\n",
              "        &quot;detectRetina&quot;: false,\n",
              "        &quot;maxNativeZoom&quot;: 18,\n",
              "        &quot;maxZoom&quot;: 18,\n",
              "        &quot;minZoom&quot;: 0,\n",
              "        &quot;noWrap&quot;: false,\n",
              "        &quot;opacity&quot;: 1,\n",
              "        &quot;subdomains&quot;: &quot;abc&quot;,\n",
              "        &quot;tms&quot;: false\n",
              "}).addTo(map_9790e50989e01035b2d560a748efebac);\n",
              "    var tile_layer_c99f1ae741eeaf84c2cc7276c0c77e9d = L.tileLayer(\n",
              "        &#x27;https://earthengine.googleapis.com/v1alpha/projects/earthengine-legacy/maps/1023d51b880ae7baffbe09d54a2ce28e-56e155299f47bb6ee33c8bd428f34804/tiles/{z}/{x}/{y}&#x27;,\n",
              "        {\n",
              "        &quot;attribution&quot;: &quot;Map Data &amp;copy; &lt;a href=\\&quot;https://earthengine.google.com/\\&quot;&gt;Google Earth Engine&lt;/a&gt;&quot;,\n",
              "        &quot;detectRetina&quot;: false,\n",
              "        &quot;maxNativeZoom&quot;: 18,\n",
              "        &quot;maxZoom&quot;: 18,\n",
              "        &quot;minZoom&quot;: 0,\n",
              "        &quot;noWrap&quot;: false,\n",
              "        &quot;opacity&quot;: 1,\n",
              "        &quot;subdomains&quot;: &quot;abc&quot;,\n",
              "        &quot;tms&quot;: false\n",
              "}).addTo(map_9790e50989e01035b2d560a748efebac);\n",
              "    var tile_layer_16b18361f4ac42986556c42680c943a3 = L.tileLayer(\n",
              "        &#x27;https://earthengine.googleapis.com/v1alpha/projects/earthengine-legacy/maps/20aed57ff38c831e4a947f3f86221965-1fe27dd6249dcc0cdf67dddc04f74037/tiles/{z}/{x}/{y}&#x27;,\n",
              "        {\n",
              "        &quot;attribution&quot;: &quot;Map Data &amp;copy; &lt;a href=\\&quot;https://earthengine.google.com/\\&quot;&gt;Google Earth Engine&lt;/a&gt;&quot;,\n",
              "        &quot;detectRetina&quot;: false,\n",
              "        &quot;maxNativeZoom&quot;: 18,\n",
              "        &quot;maxZoom&quot;: 18,\n",
              "        &quot;minZoom&quot;: 0,\n",
              "        &quot;noWrap&quot;: false,\n",
              "        &quot;opacity&quot;: 1,\n",
              "        &quot;subdomains&quot;: &quot;abc&quot;,\n",
              "        &quot;tms&quot;: false\n",
              "}).addTo(map_9790e50989e01035b2d560a748efebac);\n",
              "    var tile_layer_002df274d92590f65d2480562e52d882 = L.tileLayer(\n",
              "        &#x27;https://earthengine.googleapis.com/v1alpha/projects/earthengine-legacy/maps/0d2e0148ce27125e08219af5fd595a39-c29c63acc13da2e39d9637227b82e7a3/tiles/{z}/{x}/{y}&#x27;,\n",
              "        {\n",
              "        &quot;attribution&quot;: &quot;Map Data &amp;copy; &lt;a href=\\&quot;https://earthengine.google.com/\\&quot;&gt;Google Earth Engine&lt;/a&gt;&quot;,\n",
              "        &quot;detectRetina&quot;: false,\n",
              "        &quot;maxNativeZoom&quot;: 18,\n",
              "        &quot;maxZoom&quot;: 18,\n",
              "        &quot;minZoom&quot;: 0,\n",
              "        &quot;noWrap&quot;: false,\n",
              "        &quot;opacity&quot;: 1,\n",
              "        &quot;subdomains&quot;: &quot;abc&quot;,\n",
              "        &quot;tms&quot;: false\n",
              "}).addTo(map_9790e50989e01035b2d560a748efebac);\n",
              "    \n",
              "            var layer_control_1339aa5d9279688758e92fc20cf8ba1a = {\n",
              "                base_layers : { &quot;openstreetmap&quot; : tile_layer_36af6c71e1464583c4e6da00a565e89e, },\n",
              "                overlays : { &quot;cmap&quot; : tile_layer_c99f1ae741eeaf84c2cc7276c0c77e9d,&quot;smap&quot; : tile_layer_16b18361f4ac42986556c42680c943a3,&quot;fmap&quot; : tile_layer_002df274d92590f65d2480562e52d882, }\n",
              "                };\n",
              "            L.control.layers(\n",
              "                layer_control_1339aa5d9279688758e92fc20cf8ba1a.base_layers,\n",
              "                layer_control_1339aa5d9279688758e92fc20cf8ba1a.overlays,\n",
              "                {position: &#x27;topright&#x27;,\n",
              "                 collapsed: true,\n",
              "                 autoZIndex: true\n",
              "                }).addTo(map_9790e50989e01035b2d560a748efebac);\n",
              "            \n",
              "        \n",
              "&lt;/script&gt;\" style=\"position:absolute;width:100%;height:100%;left:0;top:0;border:none !important;\" allowfullscreen webkitallowfullscreen mozallowfullscreen></iframe></div></div>"
            ]
          },
          "metadata": {},
          "execution_count": 20
        }
      ]
    },
    {
      "cell_type": "markdown",
      "metadata": {
        "id": "3Lq1VHnoI23L"
      },
      "source": [
        "#### Post-processing: The Loewner order\n",
        "\n",
        "The above change maps are still difficult to interpret. But what about _bmap_, the map of changes detected in each interval? Before we look at them it makes sense to include the direction of change, i.e., the [Loewner order](https://ieeexplore.ieee.org/document/8736751), see [Part 2](https://developers.google.com/earth-engine/tutorials/community/detecting-changes-in-sentinel-1-imagery-pt-2#change_direction_the_loewner_order). In the event of significant change at time $j$, we can simply determine the positive or negative definiteness (or indefiniteness) of the difference between consecutive covariance matrix pixels\n",
        "\n",
        "$$\n",
        "c_j-c_{j-1},\\quad j = 2,\\dots,k,\n",
        "$$\n",
        "\n",
        "to get the change direction. But we can do better. Instead of subtracting the value for the preceding image, $c_{j-1}$, we can subtract the average over all values up to and including time $j-1$ for which no change has been signalled. For example for $k=5$, suppose there are significant changes in the first and fourth (last) interval. Then to get their directions we examine the differences\n",
        "\n",
        "$$\n",
        "c_2-c_1\\quad{\\rm and}\\quad c_5 - (c_2+c_3+c_4)/3.\n",
        "$$\n",
        "\n",
        "The running averages can be conveniently determined with the so-called _provisional means algorithm_. The average $\\bar c_i$ of the first $i$ images is calculated recursively as\n",
        "\n",
        "$$\n",
        "\\begin{align*}\n",
        "\\bar c_i &= \\bar c_{i-1} + (c_i - \\bar c_{i-1})/i \\cr\n",
        "\\bar c_1 &= c_1.\n",
        "\\end{align*}\n",
        "$$\n",
        "\n",
        "The function _dmap\\_iter_ below is iterated over the bands of _bmap_, replacing the values for changed pixels with\n",
        "\n",
        "- 1 for positive definite differences,\n",
        "- 2 for negative definite differences,\n",
        "- 3 for indefinite differences."
      ]
    },
    {
      "cell_type": "code",
      "metadata": {
        "id": "aG9UoPHH29tk"
      },
      "source": [
        "def dmap_iter(current, prev):\n",
        "    \"\"\"Reclassifies values in directional change maps.\"\"\"\n",
        "    prev = ee.Dictionary(prev)\n",
        "    j = ee.Number(prev.get('j'))\n",
        "    image = ee.Image(current)\n",
        "    avimg = ee.Image(prev.get('avimg'))\n",
        "    diff = image.subtract(avimg)\n",
        "    # Get positive/negative definiteness.\n",
        "    posd = ee.Image(diff.select(0).gt(0).And(det(diff).gt(0)))\n",
        "    negd = ee.Image(diff.select(0).lt(0).And(det(diff).gt(0)))\n",
        "    bmap = ee.Image(prev.get('bmap'))\n",
        "    bmapj = bmap.select(j)\n",
        "    dmap = ee.Image.constant(ee.List.sequence(1, 3))\n",
        "    bmapj = bmapj.where(bmapj, dmap.select(2))\n",
        "    bmapj = bmapj.where(bmapj.And(posd), dmap.select(0))\n",
        "    bmapj = bmapj.where(bmapj.And(negd), dmap.select(1))\n",
        "    bmap = bmap.addBands(bmapj, overwrite=True)\n",
        "    # Update avimg with provisional means.\n",
        "    i = ee.Image(prev.get('i')).add(1)\n",
        "    avimg = avimg.add(image.subtract(avimg).divide(i))\n",
        "    # Reset avimg to current image and set i=1 if change occurred.\n",
        "    avimg = avimg.where(bmapj, image)\n",
        "    i = i.where(bmapj, 1)\n",
        "    return ee.Dictionary({'avimg': avimg, 'bmap': bmap, 'j': j.add(1), 'i': i})"
      ],
      "execution_count": 21,
      "outputs": []
    },
    {
      "cell_type": "markdown",
      "metadata": {
        "id": "s7h1GuQ79-jH"
      },
      "source": [
        "We only have to modify the _change\\_maps_ function to include the change direction in the _bmap_ image:"
      ]
    },
    {
      "cell_type": "code",
      "metadata": {
        "id": "CF3-_d6M5JGf"
      },
      "source": [
        "def change_maps(im_list, median=False, alpha=0.01):\n",
        "    \"\"\"Calculates thematic change maps.\"\"\"\n",
        "    k = im_list.length()\n",
        "    # Pre-calculate the P value array.\n",
        "    pv_arr = ee.List(p_values(im_list))\n",
        "    # Filter P values for change maps.\n",
        "    cmap = ee.Image(im_list.get(0)).select(0).multiply(0)\n",
        "    bmap = ee.Image.constant(ee.List.repeat(0,k.subtract(1))).add(cmap)\n",
        "    alpha = ee.Image.constant(alpha)\n",
        "    first = ee.Dictionary({'i': 1, 'alpha': alpha, 'median': median,\n",
        "                           'cmap': cmap, 'smap': cmap, 'fmap': cmap, 'bmap': bmap})\n",
        "    result = ee.Dictionary(pv_arr.iterate(filter_i, first))\n",
        "    # Post-process bmap for change direction.\n",
        "    bmap =  ee.Image(result.get('bmap'))\n",
        "    avimg = ee.Image(im_list.get(0))\n",
        "    j = ee.Number(0)\n",
        "    i = ee.Image.constant(1)\n",
        "    first = ee.Dictionary({'avimg': avimg, 'bmap': bmap, 'j': j, 'i': i})\n",
        "    dmap = ee.Dictionary(im_list.slice(1).iterate(dmap_iter, first)).get('bmap')\n",
        "    return ee.Dictionary(result.set('bmap', dmap))"
      ],
      "execution_count": 22,
      "outputs": []
    },
    {
      "cell_type": "markdown",
      "metadata": {
        "id": "ZL3TPfxXdFaQ"
      },
      "source": [
        "Because of the long delays when the zoom level is changed, it is a lot more convenient to export the change maps to GEE Assets and then examine them, either here in Colab or in the Code Editor. This also means the maps will be shown at the correct scale, irrespective of the zoom level. Here I export all of the change maps as a single image."
      ]
    },
    {
      "cell_type": "code",
      "metadata": {
        "id": "wsSpbk74RViE"
      },
      "source": [
        "# Run the algorithm with median filter and at 1% significance.\n",
        "result = ee.Dictionary(change_maps(im_list, median=True, alpha=0.01))\n",
        "# Extract the change maps and export to assets.\n",
        "cmap = ee.Image(result.get('cmap'))\n",
        "smap = ee.Image(result.get('smap'))\n",
        "fmap = ee.Image(result.get('fmap'))\n",
        "bmap = ee.Image(result.get('bmap'))\n",
        "cmaps = ee.Image.cat(cmap, smap, fmap, bmap).rename(['cmap', 'smap', 'fmap']+timestamplist[1:])\n",
        "\n",
        "# EDIT THE ASSET PATH TO POINT TO YOUR ACCOUNT.\n",
        "assetId = 'users/YOUR_USER_NAME/cmaps'\n",
        "\n",
        "assexport = ee.batch.Export.image.toAsset(cmaps,\n",
        "                                          description='assetExportTask',\n",
        "                                          assetId=assetId, scale=10, maxPixels=1e9)\n",
        "\n",
        "# UNCOMMENT THIS TO EXPORT THE MAP TO YOUR ACCOUNT.\n",
        "#assexport.start()"
      ],
      "execution_count": 23,
      "outputs": []
    },
    {
      "cell_type": "markdown",
      "metadata": {
        "id": "8eBeTB6sQMbd"
      },
      "source": [
        "The asset  _cmaps_ is shared so we can all access it:"
      ]
    },
    {
      "cell_type": "code",
      "metadata": {
        "id": "qseBmVOH7xPg",
        "colab": {
          "base_uri": "https://localhost:8080/",
          "height": 808
        },
        "outputId": "ee68d8ef-b46a-4c11-884d-81ab4175226b"
      },
      "source": [
        "cmaps = ee.Image('projects/earthengine-community/tutorials/detecting-changes-in-sentinel-1-imagery-pt-3/cmaps')\n",
        "cmaps = cmaps.updateMask(cmaps.gt(0))\n",
        "\n",
        "location = aoi.centroid().coordinates().getInfo()[::-1]\n",
        "palette = ['black', 'red', 'cyan', 'yellow']\n",
        "mp = folium.Map(location=location, zoom_start=13)\n",
        "\n",
        "mp.add_ee_layer(cmaps.select('T20191107'), {'min': 0,'max': 3, 'palette': palette}, 'T20191107')\n",
        "mp.add_ee_layer(cmaps.select('T20191113'), {'min': 0,'max': 3, 'palette': palette}, 'T20191113')\n",
        "mp.add_ee_layer(cmaps.select('T20191119'), {'min': 0,'max': 3, 'palette': palette}, 'T20191119')\n",
        "mp.add_ee_layer(cmaps.select('T20191125'), {'min': 0,'max': 3, 'palette': palette}, 'T20191125')\n",
        "mp.add_ee_layer(cmaps.select('T20191201'), {'min': 0,'max': 3, 'palette': palette}, 'T20191201')\n",
        "mp.add_ee_layer(cmaps.select('T20191207'), {'min': 0,'max': 3, 'palette': palette}, 'T20191207')\n",
        "\n",
        "mp.add_child(folium.LayerControl())"
      ],
      "execution_count": 24,
      "outputs": [
        {
          "output_type": "execute_result",
          "data": {
            "text/plain": [
              "<folium.folium.Map at 0x7f178f714550>"
            ],
            "text/html": [
              "<div style=\"width:100%;\"><div style=\"position:relative;width:100%;height:0;padding-bottom:60%;\"><span style=\"color:#565656\">Make this Notebook Trusted to load map: File -> Trust Notebook</span><iframe srcdoc=\"&lt;!DOCTYPE html&gt;\n",
              "&lt;head&gt;    \n",
              "    &lt;meta http-equiv=&quot;content-type&quot; content=&quot;text/html; charset=UTF-8&quot; /&gt;\n",
              "    &lt;script&gt;L_PREFER_CANVAS=false; L_NO_TOUCH=false; L_DISABLE_3D=false;&lt;/script&gt;\n",
              "    &lt;script src=&quot;https://cdn.jsdelivr.net/npm/leaflet@1.4.0/dist/leaflet.js&quot;&gt;&lt;/script&gt;\n",
              "    &lt;script src=&quot;https://code.jquery.com/jquery-1.12.4.min.js&quot;&gt;&lt;/script&gt;\n",
              "    &lt;script src=&quot;https://maxcdn.bootstrapcdn.com/bootstrap/3.2.0/js/bootstrap.min.js&quot;&gt;&lt;/script&gt;\n",
              "    &lt;script src=&quot;https://cdnjs.cloudflare.com/ajax/libs/Leaflet.awesome-markers/2.0.2/leaflet.awesome-markers.js&quot;&gt;&lt;/script&gt;\n",
              "    &lt;link rel=&quot;stylesheet&quot; href=&quot;https://cdn.jsdelivr.net/npm/leaflet@1.4.0/dist/leaflet.css&quot;/&gt;\n",
              "    &lt;link rel=&quot;stylesheet&quot; href=&quot;https://maxcdn.bootstrapcdn.com/bootstrap/3.2.0/css/bootstrap.min.css&quot;/&gt;\n",
              "    &lt;link rel=&quot;stylesheet&quot; href=&quot;https://maxcdn.bootstrapcdn.com/bootstrap/3.2.0/css/bootstrap-theme.min.css&quot;/&gt;\n",
              "    &lt;link rel=&quot;stylesheet&quot; href=&quot;https://maxcdn.bootstrapcdn.com/font-awesome/4.6.3/css/font-awesome.min.css&quot;/&gt;\n",
              "    &lt;link rel=&quot;stylesheet&quot; href=&quot;https://cdnjs.cloudflare.com/ajax/libs/Leaflet.awesome-markers/2.0.2/leaflet.awesome-markers.css&quot;/&gt;\n",
              "    &lt;link rel=&quot;stylesheet&quot; href=&quot;https://rawcdn.githack.com/python-visualization/folium/master/folium/templates/leaflet.awesome.rotate.css&quot;/&gt;\n",
              "    &lt;style&gt;html, body {width: 100%;height: 100%;margin: 0;padding: 0;}&lt;/style&gt;\n",
              "    &lt;style&gt;#map {position:absolute;top:0;bottom:0;right:0;left:0;}&lt;/style&gt;\n",
              "    \n",
              "    &lt;meta name=&quot;viewport&quot; content=&quot;width=device-width,\n",
              "        initial-scale=1.0, maximum-scale=1.0, user-scalable=no&quot; /&gt;\n",
              "    &lt;style&gt;#map_1123b8759fb2b10d5f8943ccdc0dbd34 {\n",
              "        position: relative;\n",
              "        width: 100.0%;\n",
              "        height: 100.0%;\n",
              "        left: 0.0%;\n",
              "        top: 0.0%;\n",
              "        }\n",
              "    &lt;/style&gt;\n",
              "&lt;/head&gt;\n",
              "&lt;body&gt;    \n",
              "    \n",
              "    &lt;div class=&quot;folium-map&quot; id=&quot;map_1123b8759fb2b10d5f8943ccdc0dbd34&quot; &gt;&lt;/div&gt;\n",
              "&lt;/body&gt;\n",
              "&lt;script&gt;    \n",
              "    \n",
              "    \n",
              "        var bounds = null;\n",
              "    \n",
              "\n",
              "    var map_1123b8759fb2b10d5f8943ccdc0dbd34 = L.map(\n",
              "        &#x27;map_1123b8759fb2b10d5f8943ccdc0dbd34&#x27;, {\n",
              "        center: [53.58821484420569, -1.0708236694338455],\n",
              "        zoom: 13,\n",
              "        maxBounds: bounds,\n",
              "        layers: [],\n",
              "        worldCopyJump: false,\n",
              "        crs: L.CRS.EPSG3857,\n",
              "        zoomControl: true,\n",
              "        });\n",
              "\n",
              "\n",
              "    \n",
              "    var tile_layer_88fdaf755d10b11a150647cf3e1b797d = L.tileLayer(\n",
              "        &#x27;https://{s}.tile.openstreetmap.org/{z}/{x}/{y}.png&#x27;,\n",
              "        {\n",
              "        &quot;attribution&quot;: null,\n",
              "        &quot;detectRetina&quot;: false,\n",
              "        &quot;maxNativeZoom&quot;: 18,\n",
              "        &quot;maxZoom&quot;: 18,\n",
              "        &quot;minZoom&quot;: 0,\n",
              "        &quot;noWrap&quot;: false,\n",
              "        &quot;opacity&quot;: 1,\n",
              "        &quot;subdomains&quot;: &quot;abc&quot;,\n",
              "        &quot;tms&quot;: false\n",
              "}).addTo(map_1123b8759fb2b10d5f8943ccdc0dbd34);\n",
              "    var tile_layer_da4594aa4c0ec6d4f9012201e2373b4e = L.tileLayer(\n",
              "        &#x27;https://earthengine.googleapis.com/v1alpha/projects/earthengine-legacy/maps/fd61d49c470f7f7c857fb3cf0f6be19d-5338149e98e0782f2fa45b255c510b3d/tiles/{z}/{x}/{y}&#x27;,\n",
              "        {\n",
              "        &quot;attribution&quot;: &quot;Map Data &amp;copy; &lt;a href=\\&quot;https://earthengine.google.com/\\&quot;&gt;Google Earth Engine&lt;/a&gt;&quot;,\n",
              "        &quot;detectRetina&quot;: false,\n",
              "        &quot;maxNativeZoom&quot;: 18,\n",
              "        &quot;maxZoom&quot;: 18,\n",
              "        &quot;minZoom&quot;: 0,\n",
              "        &quot;noWrap&quot;: false,\n",
              "        &quot;opacity&quot;: 1,\n",
              "        &quot;subdomains&quot;: &quot;abc&quot;,\n",
              "        &quot;tms&quot;: false\n",
              "}).addTo(map_1123b8759fb2b10d5f8943ccdc0dbd34);\n",
              "    var tile_layer_57c405c8f5f9dcdc1f919de433c0b154 = L.tileLayer(\n",
              "        &#x27;https://earthengine.googleapis.com/v1alpha/projects/earthengine-legacy/maps/fa241b84b388806abf9b4075546e85ff-b2e3f53e588b520af829f9bfad59a061/tiles/{z}/{x}/{y}&#x27;,\n",
              "        {\n",
              "        &quot;attribution&quot;: &quot;Map Data &amp;copy; &lt;a href=\\&quot;https://earthengine.google.com/\\&quot;&gt;Google Earth Engine&lt;/a&gt;&quot;,\n",
              "        &quot;detectRetina&quot;: false,\n",
              "        &quot;maxNativeZoom&quot;: 18,\n",
              "        &quot;maxZoom&quot;: 18,\n",
              "        &quot;minZoom&quot;: 0,\n",
              "        &quot;noWrap&quot;: false,\n",
              "        &quot;opacity&quot;: 1,\n",
              "        &quot;subdomains&quot;: &quot;abc&quot;,\n",
              "        &quot;tms&quot;: false\n",
              "}).addTo(map_1123b8759fb2b10d5f8943ccdc0dbd34);\n",
              "    var tile_layer_01a091621e1f5d004bf66c83ad1af27f = L.tileLayer(\n",
              "        &#x27;https://earthengine.googleapis.com/v1alpha/projects/earthengine-legacy/maps/685cf0bfad757452d740cbb467873b28-684f66d4f4d016a0f1ec735d5bb15378/tiles/{z}/{x}/{y}&#x27;,\n",
              "        {\n",
              "        &quot;attribution&quot;: &quot;Map Data &amp;copy; &lt;a href=\\&quot;https://earthengine.google.com/\\&quot;&gt;Google Earth Engine&lt;/a&gt;&quot;,\n",
              "        &quot;detectRetina&quot;: false,\n",
              "        &quot;maxNativeZoom&quot;: 18,\n",
              "        &quot;maxZoom&quot;: 18,\n",
              "        &quot;minZoom&quot;: 0,\n",
              "        &quot;noWrap&quot;: false,\n",
              "        &quot;opacity&quot;: 1,\n",
              "        &quot;subdomains&quot;: &quot;abc&quot;,\n",
              "        &quot;tms&quot;: false\n",
              "}).addTo(map_1123b8759fb2b10d5f8943ccdc0dbd34);\n",
              "    var tile_layer_412e79b22eee9c01f7d9e1e17548b667 = L.tileLayer(\n",
              "        &#x27;https://earthengine.googleapis.com/v1alpha/projects/earthengine-legacy/maps/945ba2cd10dd9f63e2ea4f43422ae0dc-50269e91062aee41002c445edf840715/tiles/{z}/{x}/{y}&#x27;,\n",
              "        {\n",
              "        &quot;attribution&quot;: &quot;Map Data &amp;copy; &lt;a href=\\&quot;https://earthengine.google.com/\\&quot;&gt;Google Earth Engine&lt;/a&gt;&quot;,\n",
              "        &quot;detectRetina&quot;: false,\n",
              "        &quot;maxNativeZoom&quot;: 18,\n",
              "        &quot;maxZoom&quot;: 18,\n",
              "        &quot;minZoom&quot;: 0,\n",
              "        &quot;noWrap&quot;: false,\n",
              "        &quot;opacity&quot;: 1,\n",
              "        &quot;subdomains&quot;: &quot;abc&quot;,\n",
              "        &quot;tms&quot;: false\n",
              "}).addTo(map_1123b8759fb2b10d5f8943ccdc0dbd34);\n",
              "    var tile_layer_c209b90f9c238251786ef9904e167577 = L.tileLayer(\n",
              "        &#x27;https://earthengine.googleapis.com/v1alpha/projects/earthengine-legacy/maps/5c8c5cd427a3fa3482e4019a7b71f373-32d8f4fc7228ece47ef9516830659822/tiles/{z}/{x}/{y}&#x27;,\n",
              "        {\n",
              "        &quot;attribution&quot;: &quot;Map Data &amp;copy; &lt;a href=\\&quot;https://earthengine.google.com/\\&quot;&gt;Google Earth Engine&lt;/a&gt;&quot;,\n",
              "        &quot;detectRetina&quot;: false,\n",
              "        &quot;maxNativeZoom&quot;: 18,\n",
              "        &quot;maxZoom&quot;: 18,\n",
              "        &quot;minZoom&quot;: 0,\n",
              "        &quot;noWrap&quot;: false,\n",
              "        &quot;opacity&quot;: 1,\n",
              "        &quot;subdomains&quot;: &quot;abc&quot;,\n",
              "        &quot;tms&quot;: false\n",
              "}).addTo(map_1123b8759fb2b10d5f8943ccdc0dbd34);\n",
              "    var tile_layer_a3b2835466de21feaebe17bfc31bba84 = L.tileLayer(\n",
              "        &#x27;https://earthengine.googleapis.com/v1alpha/projects/earthengine-legacy/maps/ab1b705bec14ef02cb0b0011ff0b1a9c-df0699dd289112bb301c666d863ee350/tiles/{z}/{x}/{y}&#x27;,\n",
              "        {\n",
              "        &quot;attribution&quot;: &quot;Map Data &amp;copy; &lt;a href=\\&quot;https://earthengine.google.com/\\&quot;&gt;Google Earth Engine&lt;/a&gt;&quot;,\n",
              "        &quot;detectRetina&quot;: false,\n",
              "        &quot;maxNativeZoom&quot;: 18,\n",
              "        &quot;maxZoom&quot;: 18,\n",
              "        &quot;minZoom&quot;: 0,\n",
              "        &quot;noWrap&quot;: false,\n",
              "        &quot;opacity&quot;: 1,\n",
              "        &quot;subdomains&quot;: &quot;abc&quot;,\n",
              "        &quot;tms&quot;: false\n",
              "}).addTo(map_1123b8759fb2b10d5f8943ccdc0dbd34);\n",
              "    \n",
              "            var layer_control_ac604fc49521e1140badaf64a157e8d0 = {\n",
              "                base_layers : { &quot;openstreetmap&quot; : tile_layer_88fdaf755d10b11a150647cf3e1b797d, },\n",
              "                overlays : { &quot;T20191107&quot; : tile_layer_da4594aa4c0ec6d4f9012201e2373b4e,&quot;T20191113&quot; : tile_layer_57c405c8f5f9dcdc1f919de433c0b154,&quot;T20191119&quot; : tile_layer_01a091621e1f5d004bf66c83ad1af27f,&quot;T20191125&quot; : tile_layer_412e79b22eee9c01f7d9e1e17548b667,&quot;T20191201&quot; : tile_layer_c209b90f9c238251786ef9904e167577,&quot;T20191207&quot; : tile_layer_a3b2835466de21feaebe17bfc31bba84, }\n",
              "                };\n",
              "            L.control.layers(\n",
              "                layer_control_ac604fc49521e1140badaf64a157e8d0.base_layers,\n",
              "                layer_control_ac604fc49521e1140badaf64a157e8d0.overlays,\n",
              "                {position: &#x27;topright&#x27;,\n",
              "                 collapsed: true,\n",
              "                 autoZIndex: true\n",
              "                }).addTo(map_1123b8759fb2b10d5f8943ccdc0dbd34);\n",
              "            \n",
              "        \n",
              "&lt;/script&gt;\" style=\"position:absolute;width:100%;height:100%;left:0;top:0;border:none !important;\" allowfullscreen webkitallowfullscreen mozallowfullscreen></iframe></div></div>"
            ]
          },
          "metadata": {},
          "execution_count": 24
        }
      ]
    },
    {
      "cell_type": "markdown",
      "metadata": {
        "id": "WFuLna6zQ_zt"
      },
      "source": [
        "Now interpretation is somewhat easier. The negative definite (cyan) changes which appear between Nov. 7 and Nov. 13 correspond to decreases in intensity of _VV_ and _VH_ reflectance and are due to wide-spread flooding. The positive definite changes (red), which gradually overlay the flooded areas in subsequent intervals, correspond to receding flood waters."
      ]
    }
  ]
}