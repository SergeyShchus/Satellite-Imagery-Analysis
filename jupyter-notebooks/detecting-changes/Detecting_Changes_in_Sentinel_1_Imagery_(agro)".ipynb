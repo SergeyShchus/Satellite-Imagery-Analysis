{
  "nbformat": 4,
  "nbformat_minor": 0,
  "metadata": {
    "colab": {
      "name": "Detecting Changes in Sentinel-1 Imagery (agro)\"",
      "provenance": [],
      "authorship_tag": "ABX9TyOBNJithvz8kyTR0I0kh104",
      "include_colab_link": true
    },
    "kernelspec": {
      "name": "python3",
      "display_name": "Python 3"
    },
    "language_info": {
      "name": "python"
    }
  },
  "cells": [
    {
      "cell_type": "markdown",
      "metadata": {
        "id": "view-in-github",
        "colab_type": "text"
      },
      "source": [
        "<a href=\"https://colab.research.google.com/github/SergeyShchus/Satellite-Imagery-Analysis-with-Python/blob/master/jupyter-notebooks/detecting-changes/Detecting_Changes_in_Sentinel_1_Imagery_(agro)%22.ipynb\" target=\"_parent\"><img src=\"https://colab.research.google.com/assets/colab-badge.svg\" alt=\"Open In Colab\"/></a>"
      ]
    },
    {
      "cell_type": "markdown",
      "source": [
        "# Detecting Changes in Sentinel-1 Imagery (agro)\n",
        "\n",
        "---\n",
        "\n"
      ],
      "metadata": {
        "id": "m1zG35gsUbJo"
      }
    },
    {
      "cell_type": "markdown",
      "source": [
        "### Run me first\n",
        "\n",
        "Run the following cell to initialize the API. The output will contain instructions on how to grant this notebook access to Earth Engine using your account."
      ],
      "metadata": {
        "id": "piCOoXiUVNpK"
      }
    },
    {
      "cell_type": "code",
      "source": [
        "import ee\n",
        "\n",
        "# Trigger the authentication flow.\n",
        "ee.Authenticate()\n",
        "\n",
        "# Initialize the library.\n",
        "ee.Initialize()"
      ],
      "metadata": {
        "colab": {
          "base_uri": "https://localhost:8080/"
        },
        "id": "mj0RpQ7hVPX1",
        "outputId": "4767292b-60f8-422c-af3b-7d796981b465"
      },
      "execution_count": 2,
      "outputs": [
        {
          "output_type": "stream",
          "name": "stdout",
          "text": [
            "To authorize access needed by Earth Engine, open the following URL in a web browser and follow the instructions. If the web browser does not start automatically, please manually browse the URL below.\n",
            "\n",
            "    https://code.earthengine.google.com/client-auth?scopes=https%3A//www.googleapis.com/auth/earthengine%20https%3A//www.googleapis.com/auth/devstorage.full_control&request_id=k3eE6fZ-oO0rm-VtRtLCTQmKtyzqY3SylLZW1tsX9DA&tc=OG_gGnNNnBgMhIeOXi-LRJ1a2APS0fEVFikSRT7yMrY&cc=sVr4jKKqQdLsp4jfpn07f-j-OWY8VUazbwbsKYO7IPU\n",
            "\n",
            "The authorization workflow will generate a code, which you should paste in the box below. \n",
            "Enter verification code: 4/1AdQt8qjTf52cnm5sTJm3yDe_kNaBAW2IDfrZsQDlb7noIxi-ei5z2fS8Yis\n",
            "\n",
            "Successfully saved authorization token.\n"
          ]
        }
      ]
    },
    {
      "cell_type": "markdown",
      "source": [
        "### Datasets and Python modules\n",
        "One [dataset](https://developers.google.com/earth-engine/datasets/catalog/COPERNICUS_S1_GRD) will be used in the tutorial:\n",
        "\n",
        "- COPERNICUS/S1_GRD_FLOAT\n",
        "    - Sentinel-1 ground range detected images\n",
        "\n",
        "The following cell imports some python modules which we will be using as we go along and enables inline graphics."
      ],
      "metadata": {
        "id": "eenpIPaPVeWe"
      }
    },
    {
      "cell_type": "code",
      "source": [
        "import matplotlib.pyplot as plt\n",
        "import numpy as np\n",
        "from scipy.stats import norm, gamma, f, chi2\n",
        "import IPython.display as disp\n",
        "%matplotlib inline"
      ],
      "metadata": {
        "id": "YuqvL_FuVkpm"
      },
      "execution_count": 3,
      "outputs": []
    },
    {
      "cell_type": "markdown",
      "source": [
        "And to make use of interactive graphics, we import the _folium_ package:"
      ],
      "metadata": {
        "id": "bNqaYutQVsx-"
      }
    },
    {
      "cell_type": "code",
      "source": [
        "# Import the Folium library.\n",
        "import folium\n",
        "\n",
        "# Define a method for displaying Earth Engine image tiles to folium map.\n",
        "def add_ee_layer(self, ee_image_object, vis_params, name):\n",
        "  map_id_dict = ee.Image(ee_image_object).getMapId(vis_params)\n",
        "  folium.raster_layers.TileLayer(\n",
        "    tiles = map_id_dict['tile_fetcher'].url_format,\n",
        "    attr = 'Map Data &copy; <a href=\"https://earthengine.google.com/\">Google Earth Engine</a>',\n",
        "    name = name,\n",
        "    overlay = True,\n",
        "    control = True\n",
        "  ).add_to(self)\n",
        "\n",
        "# Add EE drawing method to folium.\n",
        "folium.Map.add_ee_layer = add_ee_layer"
      ],
      "metadata": {
        "id": "AcBwkjUcVucs"
      },
      "execution_count": 5,
      "outputs": []
    },
    {
      "cell_type": "markdown",
      "source": [
        "\n",
        "### Bivariate change detection\n",
        "\n",
        "Rather than analyzing the VV and VH bands individually, it would make more sense to treat them together, and that is what we will now do. Again with the aim of keeping the notation simple, define\n",
        "\n",
        "$$\n",
        "\\pmatrix{ s_i & 0\\cr 0 & r_i} = \\pmatrix{\\langle|S_{vv}|^2\\rangle_i & 0 \\cr 0 & \\langle|S_{vh}|^2\\rangle_i}, \\quad {\\rm with\\ means}\\quad a_i = \\langle|S^{a_i}_{vv}|^2\\rangle, \\quad b_i = \\langle|S^{b_i}_{vh}|^2\\rangle \\tag{2.13}\n",
        "$$\n",
        "\n",
        "for the two acquisition times $t_i,\\ i=1,2$. \n",
        "\n",
        "Under $H_0$ we have $a_1=a_2=a$ and $b_1=b_2=b$. Assuming independence of $s_i$ and $r_i$, the likelihood function is the product of the four gamma distributions\n",
        "\n",
        "$$\n",
        "L_0(a,b) = p(s_1\\mid a)p(r_1\\mid b)p(s_2\\mid a)p(r_2\\mid b).\n",
        "$$\n",
        "\n",
        "Under $H_1$,\n",
        "\n",
        "$$\n",
        "L_1(a_1,b_1,a_2,b_2) = p(s_1\\mid a_1)p(r_1\\mid b_1)p(s_2\\mid a_2)p(r_2\\mid b_2).\n",
        "$$\n",
        "\n",
        "With maximum likelihood estimates under $H_0$ \n",
        "\n",
        "$$\n",
        "\\hat a = (s_1+s_2)/2\\quad {\\rm and}\\quad \\hat b = (r_1+r_2)/2\n",
        "$$ \n",
        "\n",
        "for the parameters and some simple algebra, we get \n",
        "\n",
        "$$\n",
        "L_0(\\hat a,\\hat b) = {(2m)^{4m}\\over (s_1+s_2)^{2m}(r_1+r_2)^{2m}\\Gamma(m)^4}s_1r_1s_2r_2e^{-4m}. \\tag{2.14}\n",
        "$$ \n",
        "\n",
        "Similarly with $\\hat a_1=s_1,\\ \\hat b_1=r_1,\\ \\hat a_2=s_2,\\ \\hat b_2=r_2$, we calculate\n",
        "\n",
        "$$\n",
        "L_1(\\hat a_1,\\hat b_1,\\hat a_2,\\hat b_2) = {m^{4m}\\over s_1r_1s_2r_2}e^{-4m}.\n",
        "$$\n",
        "\n",
        "The likelihood test statistic in then\n",
        "\n",
        "$$\n",
        "Q = {L_0(\\hat a,\\hat b)\\over L_1(\\hat a_1,\\hat b_1,\\hat a_2,\\hat b_2)}={2^4(s_1r_1s_2r_2)^m\\over (s_1+s_2)^{2m}(r_1+r_2)^{2m}}.\n",
        "$$\n",
        "\n",
        "Writing this in terms of the covariance matrix representation,\n",
        "\n",
        "$$\n",
        "c_i = \\pmatrix{s_i & 0\\cr 0 & r_i},\\quad i=1,2,\n",
        "$$\n",
        "\n",
        "we derive, finally, the likelihood ratio test\n",
        "\n",
        "$$\n",
        "Q = \\left[2^4\\pmatrix{|c_1| |c_2|\\over |c_1+c_2|^2 }\\right]^m \\le k, \\tag{2.15}\n",
        "$$\n",
        "\n",
        "where $|\\cdot|$ indicates the matrix determinant, $|c_i|=s_ir_i$. \n",
        "\n",
        "So far so good. But in order to determine _P_ values, we need the probability distribution of $Q$. This time we have no idea how to obtain it. Here again, statistical theory comes to our rescue."
      ],
      "metadata": {
        "id": "TTZLCURhUcTz"
      }
    },
    {
      "cell_type": "markdown",
      "source": [
        "Let $\\Theta$ be the parameter space for the LRT. In our example it is \n",
        "$$\n",
        "\\Theta = \\{ a_1,b_1,a_2,b_2\\}\n",
        "$$ \n",
        "and has $d=4$ dimensions. Under the null hypothesis the parameter space is restricted by the conditions $a=a_1=a_2$ and $b=b_1=b_2$ to \n",
        "$$\n",
        "\\Theta_0 = \\{ a,b\\}\n",
        "$$ \n",
        "with $d_0=2$ dimensions. According to [Wilks' Theorem](https://en.wikipedia.org/wiki/Wilks%27_theorem), as the number of measurements determining the LRT statistic $Q$ approaches $\\infty$, the test statistic $-2\\log Q$ approaches a chi square distribution with $d-d_0=2$ degrees of freedom. (Recall that, in order to determine the matrices $c_1$ and $c_2$, five individual measurements were averaged or multi-looked.) So rather than working with $Q$ directly, we use $-2\\log Q$ instead and hope that Wilk's theorem is a good enough approximation for our case.\n",
        "\n",
        "In order to check if this is so, we just have to program \n",
        "\n",
        "$$\n",
        "-2\\log Q = (\\log{|c_1|}+\\log{|c_2|}-2\\log{|c_1+c_2|}+4\\log{2})(-2m)\n",
        "$$ \n",
        "\n",
        "in GEE-ese:"
      ],
      "metadata": {
        "id": "qJyH_O2TU_X5"
      }
    },
    {
      "cell_type": "code",
      "source": [
        "geoJSON = {\n",
        "  \"type\": \"FeatureCollection\",\n",
        "  \"features\": [\n",
        "    {\n",
        "      \"type\": \"Feature\",\n",
        "      \"properties\": {},\n",
        "      \"geometry\": {\n",
        "        \"type\": \"Polygon\",\n",
        "        \"coordinates\": [\n",
        "          [\n",
        "            [\n",
        "              8.473892211914062,\n",
        "              49.98081240937428\n",
        "            ],\n",
        "            [\n",
        "              8.658599853515625,\n",
        "              49.98081240937428\n",
        "            ],\n",
        "            [\n",
        "              8.658599853515625,\n",
        "              50.06066538593667\n",
        "            ],\n",
        "            [\n",
        "              8.473892211914062,\n",
        "              50.06066538593667\n",
        "            ],\n",
        "            [\n",
        "              8.473892211914062,\n",
        "              49.98081240937428\n",
        "            ]\n",
        "          ]\n",
        "        ]\n",
        "      }\n",
        "    }\n",
        "  ]\n",
        "}\n",
        "coords = geoJSON['features'][0]['geometry']['coordinates']\n",
        "aoi = ee.Geometry.Polygon(coords)\n",
        "geoJSON = {\n",
        "  \"type\": \"FeatureCollection\",\n",
        "  \"features\": [\n",
        "    {\n",
        "      \"type\": \"Feature\",\n",
        "      \"properties\": {},\n",
        "      \"geometry\": {\n",
        "        \"type\": \"Polygon\",\n",
        "        \"coordinates\": [\n",
        "          [\n",
        "            [\n",
        "              8.534317016601562,\n",
        "              50.021637833966786\n",
        "            ],\n",
        "            [\n",
        "              8.530540466308594,\n",
        "              49.99780882512238\n",
        "            ],\n",
        "            [\n",
        "              8.564186096191406,\n",
        "              50.00663576154257\n",
        "            ],\n",
        "            [\n",
        "              8.578605651855469,\n",
        "              50.019431940583104\n",
        "            ],\n",
        "            [\n",
        "              8.534317016601562,\n",
        "              50.021637833966786\n",
        "            ]\n",
        "          ]\n",
        "        ]\n",
        "      }\n",
        "    }\n",
        "  ]\n",
        "}\n",
        "coords = geoJSON['features'][0]['geometry']['coordinates']\n",
        "aoi_sub = ee.Geometry.Polygon(coords)"
      ],
      "metadata": {
        "id": "Z4_t1JPKWWEa"
      },
      "execution_count": 10,
      "outputs": []
    },
    {
      "cell_type": "code",
      "source": [
        "im_coll = (ee.ImageCollection('COPERNICUS/S1_GRD_FLOAT')\n",
        "                .filterBounds(aoi)\n",
        "                .filterDate(ee.Date('2020-08-01'),ee.Date('2020-08-31'))\n",
        "                .filter(ee.Filter.eq('orbitProperties_pass', 'ASCENDING'))\n",
        "                .filter(ee.Filter.eq('relativeOrbitNumber_start', 15))\n",
        "                .sort('system:time_start'))"
      ],
      "metadata": {
        "id": "3cplUSjyWO4R"
      },
      "execution_count": 11,
      "outputs": []
    },
    {
      "cell_type": "code",
      "source": [
        "im_list = im_coll.toList(im_coll.size())\n",
        "im1 = ee.Image(im_list.get(0)).select('VV').clip(aoi_sub)\n",
        "im2 = ee.Image(im_list.get(1)).select('VV').clip(aoi_sub)"
      ],
      "metadata": {
        "id": "zYigzWqqWC_2"
      },
      "execution_count": 12,
      "outputs": []
    },
    {
      "cell_type": "code",
      "execution_count": 13,
      "metadata": {
        "id": "-XDuxoJdMxgG"
      },
      "outputs": [],
      "source": [
        "def det(im):\n",
        "  return im.expression('b(0) * b(1)')\n",
        "\n",
        "# Number of looks.\n",
        "m = 5\n",
        "\n",
        "im1 = ee.Image(im_list.get(0)).select('VV', 'VH').clip(aoi)\n",
        "im2 = ee.Image(im_list.get(1)).select('VV', 'VH').clip(aoi)\n",
        "\n",
        "m2logQ = det(im1).log().add(det(im2).log()).subtract(\n",
        "    det(im1.add(im2)).log().multiply(2)).add(4*np.log(2)).multiply(-2*m)"
      ]
    },
    {
      "cell_type": "markdown",
      "source": [
        "and then plot its histogram, comparing it with the chi square distribution scipy.stats.chi2.pdf() with two degrees of freedom:"
      ],
      "metadata": {
        "id": "IjgDcIsqWhVy"
      }
    },
    {
      "cell_type": "code",
      "source": [
        "hist = m2logQ.reduceRegion(\n",
        "    ee.Reducer.fixedHistogram(0, 20, 200), aoi).get('VV').getInfo()\n",
        "a = np.array(hist)\n",
        "x = a[:, 0]\n",
        "y = a[:, 1] / np.sum(a[:, 1])\n",
        "plt.plot(x, y, '.', label='data')\n",
        "plt.plot(x, chi2.pdf(x, 2)/10, '-r', label='chi square')\n",
        "plt.legend()\n",
        "plt.grid()\n",
        "plt.show()"
      ],
      "metadata": {
        "colab": {
          "base_uri": "https://localhost:8080/",
          "height": 265
        },
        "id": "yMyaGEvxVDog",
        "outputId": "60d01607-0f5d-4b74-fcff-be35c455ecd9"
      },
      "execution_count": 14,
      "outputs": [
        {
          "output_type": "display_data",
          "data": {
            "text/plain": [
              "<Figure size 432x288 with 1 Axes>"
            ],
            "image/png": "[encoded data removed]"
          },
          "metadata": {
            "needs_background": "light"
          }
        }
      ]
    },
    {
      "cell_type": "markdown",
      "source": [
        "Looks pretty good. Note now that a small value of the LRT $Q$ in Eq. (2.15) corresponds to a large value of $-2\\log{Q}$. Therefore the _P_ value for a measurement $q$ is now the probability of getting the value $-2\\log{q}$\n",
        "or higher,\n",
        "$$\n",
        "P = {\\rm Prob}(-2\\log{Q} \\ge -2\\log{q}) = 1 - {\\rm Prob}(-2\\log{Q} < -2\\log{q}).\n",
        "$$\n",
        "\n",
        "\n",
        "So let's try out our bivariate change detection procedure, this time on an agricultural scene where we expect to see larger regions of change."
      ],
      "metadata": {
        "id": "FLYoYU_MWprp"
      }
    },
    {
      "cell_type": "code",
      "source": [
        "geoJSON ={\n",
        "  \"type\": \"FeatureCollection\",\n",
        "  \"features\": [\n",
        "    {\n",
        "      \"type\": \"Feature\",\n",
        "      \"properties\": {},\n",
        "      \"geometry\": {\n",
        "        \"type\": \"Polygon\",\n",
        "        \"coordinates\": [\n",
        "          [\n",
        "            [\n",
        "              -98.2122802734375,\n",
        "              49.769291532628515\n",
        "            ],\n",
        "            [\n",
        "              -98.00559997558594,\n",
        "              49.769291532628515\n",
        "            ],\n",
        "            [\n",
        "              -98.00559997558594,\n",
        "              49.88578690918283\n",
        "            ],\n",
        "            [\n",
        "              -98.2122802734375,\n",
        "              49.88578690918283\n",
        "            ],\n",
        "            [\n",
        "              -98.2122802734375,\n",
        "              49.769291532628515\n",
        "            ]\n",
        "          ]\n",
        "        ]\n",
        "      }\n",
        "    }\n",
        "  ]\n",
        "}\n",
        "coords = geoJSON['features'][0]['geometry']['coordinates']\n",
        "aoi1 = ee.Geometry.Polygon(coords)"
      ],
      "metadata": {
        "id": "u_JulIEhWmB9"
      },
      "execution_count": 15,
      "outputs": []
    },
    {
      "cell_type": "markdown",
      "source": [
        "This is a mixed agricultural/forest area in southern Manitoba, Canada. We'll gather two images, one from the beginning of August and one from the beginning of September, 2018. A lot of harvesting takes place in this interval, so we expect some extensive changes."
      ],
      "metadata": {
        "id": "wqBhFZKQW0my"
      }
    },
    {
      "cell_type": "code",
      "source": [
        "im1 = ee.Image(ee.ImageCollection('COPERNICUS/S1_GRD_FLOAT')\n",
        "                .filterBounds(aoi1)\n",
        "                .filterDate(ee.Date('2018-08-01'), ee.Date('2018-08-31'))\n",
        "                .filter(ee.Filter.eq('orbitProperties_pass', 'ASCENDING'))\n",
        "                .filter(ee.Filter.eq('relativeOrbitNumber_start', 136))\n",
        "                .first()\n",
        "                .clip(aoi1))\n",
        "im2 = ee.Image(ee.ImageCollection('COPERNICUS/S1_GRD_FLOAT').filterBounds(aoi1)\n",
        "                .filterDate(ee.Date('2018-09-01'), ee.Date('2018-09-30'))\n",
        "                .filter(ee.Filter.eq('orbitProperties_pass', 'ASCENDING'))\n",
        "                .filter(ee.Filter.eq('relativeOrbitNumber_start', 136))\n",
        "                .first()\n",
        "                .clip(aoi1))"
      ],
      "metadata": {
        "id": "8btELHVyWxUZ"
      },
      "execution_count": 16,
      "outputs": []
    },
    {
      "cell_type": "markdown",
      "source": [
        "Here are the acquisition times:"
      ],
      "metadata": {
        "id": "IveUNN8CW5pJ"
      }
    },
    {
      "cell_type": "code",
      "source": [
        "import time\n",
        "acq_time = im1.get('system:time_start').getInfo()\n",
        "print( time.strftime('%x', time.gmtime(acq_time/1000)) )\n",
        "acq_time = im2.get('system:time_start').getInfo()\n",
        "print( time.strftime('%x', time.gmtime(acq_time/1000)) )"
      ],
      "metadata": {
        "colab": {
          "base_uri": "https://localhost:8080/"
        },
        "id": "nF-cPJH0W3Ut",
        "outputId": "d0f60027-8b1a-4d4a-94b3-ba56b69a849c"
      },
      "execution_count": 18,
      "outputs": [
        {
          "output_type": "stream",
          "name": "stdout",
          "text": [
            "08/01/18\n",
            "09/06/18\n"
          ]
        }
      ]
    },
    {
      "cell_type": "markdown",
      "source": [
        "acq_time = im1.get('system:time_start').getInfo()\n",
        "print( time.strftime('%x', time.gmtime(acq_time/1000)) )\n",
        "acq_time = im2.get('system:time_start').getInfo()\n",
        "print( time.strftime('%x', time.gmtime(acq_time/1000)) )"
      ],
      "metadata": {
        "id": "QAE5-PwRXFqu"
      }
    },
    {
      "cell_type": "code",
      "source": [
        "def chi2cdf(chi2, df):\n",
        "  ''' Chi square cumulative distribution function for df degrees of freedom\n",
        "      using the built-in incomplete gamma function gammainc() '''\n",
        "  return ee.Image(chi2.divide(2)).gammainc(ee.Number(df).divide(2))\n",
        "\n",
        "# The observed test statistic image -2logq.\n",
        "m2logq = det(im1).log().add(det(im2).log()).subtract(\n",
        "    det(im1.add(im2)).log().multiply(2)).add(4*np.log(2)).multiply(-2*m)\n",
        "\n",
        "# The P value image prob(m2logQ > m2logq) = 1 - prob(m2logQ < m2logq).\n",
        "p_value = ee.Image.constant(1).subtract(chi2cdf(m2logq, 2))\n",
        "\n",
        "# Project onto map.\n",
        "location = aoi1.centroid().coordinates().getInfo()[::-1]\n",
        "mp = folium.Map(location=location, zoom_start=12)\n",
        "mp.add_ee_layer(p_value,\n",
        "                {'min': 0,'max': 1, 'palette': ['black', 'white']}, 'P-value')\n",
        "mp.add_child(folium.LayerControl())"
      ],
      "metadata": {
        "colab": {
          "base_uri": "https://localhost:8080/",
          "height": 808
        },
        "id": "_Nj1EVH0W8FY",
        "outputId": "d7ab3b94-5bc6-4bfa-d7ff-93988f52aa17"
      },
      "execution_count": 19,
      "outputs": [
        {
          "output_type": "execute_result",
          "data": {
            "text/plain": [
              "<folium.folium.Map at 0x7f6da6dfaa10>"
            ],
            "text/html": [
              "<div style=\"width:100%;\"><div style=\"position:relative;width:100%;height:0;padding-bottom:60%;\"><span style=\"color:#565656\">Make this Notebook Trusted to load map: File -> Trust Notebook</span><iframe srcdoc=\"&lt;!DOCTYPE html&gt;\n",
              "&lt;head&gt;    \n",
              "    &lt;meta http-equiv=&quot;content-type&quot; content=&quot;text/html; charset=UTF-8&quot; /&gt;\n",
              "    &lt;script&gt;L_PREFER_CANVAS=false; L_NO_TOUCH=false; L_DISABLE_3D=false;&lt;/script&gt;\n",
              "    &lt;script src=&quot;https://cdn.jsdelivr.net/npm/leaflet@1.4.0/dist/leaflet.js&quot;&gt;&lt;/script&gt;\n",
              "    &lt;script src=&quot;https://code.jquery.com/jquery-1.12.4.min.js&quot;&gt;&lt;/script&gt;\n",
              "    &lt;script src=&quot;https://maxcdn.bootstrapcdn.com/bootstrap/3.2.0/js/bootstrap.min.js&quot;&gt;&lt;/script&gt;\n",
              "    &lt;script src=&quot;https://cdnjs.cloudflare.com/ajax/libs/Leaflet.awesome-markers/2.0.2/leaflet.awesome-markers.js&quot;&gt;&lt;/script&gt;\n",
              "    &lt;link rel=&quot;stylesheet&quot; href=&quot;https://cdn.jsdelivr.net/npm/leaflet@1.4.0/dist/leaflet.css&quot;/&gt;\n",
              "    &lt;link rel=&quot;stylesheet&quot; href=&quot;https://maxcdn.bootstrapcdn.com/bootstrap/3.2.0/css/bootstrap.min.css&quot;/&gt;\n",
              "    &lt;link rel=&quot;stylesheet&quot; href=&quot;https://maxcdn.bootstrapcdn.com/bootstrap/3.2.0/css/bootstrap-theme.min.css&quot;/&gt;\n",
              "    &lt;link rel=&quot;stylesheet&quot; href=&quot;https://maxcdn.bootstrapcdn.com/font-awesome/4.6.3/css/font-awesome.min.css&quot;/&gt;\n",
              "    &lt;link rel=&quot;stylesheet&quot; href=&quot;https://cdnjs.cloudflare.com/ajax/libs/Leaflet.awesome-markers/2.0.2/leaflet.awesome-markers.css&quot;/&gt;\n",
              "    &lt;link rel=&quot;stylesheet&quot; href=&quot;https://rawcdn.githack.com/python-visualization/folium/master/folium/templates/leaflet.awesome.rotate.css&quot;/&gt;\n",
              "    &lt;style&gt;html, body {width: 100%;height: 100%;margin: 0;padding: 0;}&lt;/style&gt;\n",
              "    &lt;style&gt;#map {position:absolute;top:0;bottom:0;right:0;left:0;}&lt;/style&gt;\n",
              "    \n",
              "    &lt;meta name=&quot;viewport&quot; content=&quot;width=device-width,\n",
              "        initial-scale=1.0, maximum-scale=1.0, user-scalable=no&quot; /&gt;\n",
              "    &lt;style&gt;#map_46affa696ed6713d7dd442ba797e38c8 {\n",
              "        position: relative;\n",
              "        width: 100.0%;\n",
              "        height: 100.0%;\n",
              "        left: 0.0%;\n",
              "        top: 0.0%;\n",
              "        }\n",
              "    &lt;/style&gt;\n",
              "&lt;/head&gt;\n",
              "&lt;body&gt;    \n",
              "    \n",
              "    &lt;div class=&quot;folium-map&quot; id=&quot;map_46affa696ed6713d7dd442ba797e38c8&quot; &gt;&lt;/div&gt;\n",
              "&lt;/body&gt;\n",
              "&lt;script&gt;    \n",
              "    \n",
              "    \n",
              "        var bounds = null;\n",
              "    \n",
              "\n",
              "    var map_46affa696ed6713d7dd442ba797e38c8 = L.map(\n",
              "        &#x27;map_46affa696ed6713d7dd442ba797e38c8&#x27;, {\n",
              "        center: [49.82756177743855, -98.10894012451173],\n",
              "        zoom: 12,\n",
              "        maxBounds: bounds,\n",
              "        layers: [],\n",
              "        worldCopyJump: false,\n",
              "        crs: L.CRS.EPSG3857,\n",
              "        zoomControl: true,\n",
              "        });\n",
              "\n",
              "\n",
              "    \n",
              "    var tile_layer_57ebb20517844ec598b720c6614ab0b1 = L.tileLayer(\n",
              "        &#x27;https://{s}.tile.openstreetmap.org/{z}/{x}/{y}.png&#x27;,\n",
              "        {\n",
              "        &quot;attribution&quot;: null,\n",
              "        &quot;detectRetina&quot;: false,\n",
              "        &quot;maxNativeZoom&quot;: 18,\n",
              "        &quot;maxZoom&quot;: 18,\n",
              "        &quot;minZoom&quot;: 0,\n",
              "        &quot;noWrap&quot;: false,\n",
              "        &quot;opacity&quot;: 1,\n",
              "        &quot;subdomains&quot;: &quot;abc&quot;,\n",
              "        &quot;tms&quot;: false\n",
              "}).addTo(map_46affa696ed6713d7dd442ba797e38c8);\n",
              "    var tile_layer_dbb1d9efa0ce69785d7778203a05e5fb = L.tileLayer(\n",
              "        &#x27;https://earthengine.googleapis.com/v1alpha/projects/earthengine-legacy/maps/e175e64de22f31ebde39a6cf8d69c81a-c1933e442cf01360e1b49fdfd535141f/tiles/{z}/{x}/{y}&#x27;,\n",
              "        {\n",
              "        &quot;attribution&quot;: &quot;Map Data &amp;copy; &lt;a href=\\&quot;https://earthengine.google.com/\\&quot;&gt;Google Earth Engine&lt;/a&gt;&quot;,\n",
              "        &quot;detectRetina&quot;: false,\n",
              "        &quot;maxNativeZoom&quot;: 18,\n",
              "        &quot;maxZoom&quot;: 18,\n",
              "        &quot;minZoom&quot;: 0,\n",
              "        &quot;noWrap&quot;: false,\n",
              "        &quot;opacity&quot;: 1,\n",
              "        &quot;subdomains&quot;: &quot;abc&quot;,\n",
              "        &quot;tms&quot;: false\n",
              "}).addTo(map_46affa696ed6713d7dd442ba797e38c8);\n",
              "    \n",
              "            var layer_control_6df1d171387fa380bb0e90b6a63361e2 = {\n",
              "                base_layers : { &quot;openstreetmap&quot; : tile_layer_57ebb20517844ec598b720c6614ab0b1, },\n",
              "                overlays : { &quot;P-value&quot; : tile_layer_dbb1d9efa0ce69785d7778203a05e5fb, }\n",
              "                };\n",
              "            L.control.layers(\n",
              "                layer_control_6df1d171387fa380bb0e90b6a63361e2.base_layers,\n",
              "                layer_control_6df1d171387fa380bb0e90b6a63361e2.overlays,\n",
              "                {position: &#x27;topright&#x27;,\n",
              "                 collapsed: true,\n",
              "                 autoZIndex: true\n",
              "                }).addTo(map_46affa696ed6713d7dd442ba797e38c8);\n",
              "            \n",
              "        \n",
              "&lt;/script&gt;\" style=\"position:absolute;width:100%;height:100%;left:0;top:0;border:none !important;\" allowfullscreen webkitallowfullscreen mozallowfullscreen></iframe></div></div>"
            ]
          },
          "metadata": {},
          "execution_count": 19
        }
      ]
    },
    {
      "cell_type": "markdown",
      "source": [
        "The uniformly dark areas correspond to small or vanishing _P_ values and signify change. The bright areas correspond to no change. Why they are not uniformly bright will be explained below. Now we set a significance threshold of $\\alpha=0.01$ and display the significant changes, whereby 1% of them will be false positives. For reference we also show the 2018 [Canada AAFC Annual Crop Inventory](https://developers.google.com/earth-engine/datasets/catalog/AAFC_ACI) map, which is available as a GEE collection:"
      ],
      "metadata": {
        "id": "gwCZOK_CXqrp"
      }
    },
    {
      "cell_type": "code",
      "source": [
        "c_map = p_value.multiply(0).where(p_value.lt(0.01), 1)\n",
        "\n",
        "crop2018 = (ee.ImageCollection('AAFC/ACI')\n",
        "             .filter(ee.Filter.date('2018-01-01', '2018-12-01'))\n",
        "             .first()\n",
        "             .clip(aoi1))\n",
        "\n",
        "mp = folium.Map(location=location, zoom_start=12)\n",
        "mp.add_ee_layer(crop2018, {min: 0, max: 255}, 'crop2018')\n",
        "mp.add_ee_layer(c_map.updateMask(\n",
        "    c_map.gt(0)), {'min': 0, 'max': 1, 'palette': ['black', 'red']}, 'c_map')\n",
        "mp.add_child(folium.LayerControl())"
      ],
      "metadata": {
        "colab": {
          "base_uri": "https://localhost:8080/",
          "height": 808
        },
        "id": "WL0DbqO4XJ0h",
        "outputId": "bec5e1d7-adf3-43a4-f0b9-6a644781be36"
      },
      "execution_count": 20,
      "outputs": [
        {
          "output_type": "execute_result",
          "data": {
            "text/plain": [
              "<folium.folium.Map at 0x7f6da6e3bb90>"
            ],
            "text/html": [
              "<div style=\"width:100%;\"><div style=\"position:relative;width:100%;height:0;padding-bottom:60%;\"><span style=\"color:#565656\">Make this Notebook Trusted to load map: File -> Trust Notebook</span><iframe srcdoc=\"&lt;!DOCTYPE html&gt;\n",
              "&lt;head&gt;    \n",
              "    &lt;meta http-equiv=&quot;content-type&quot; content=&quot;text/html; charset=UTF-8&quot; /&gt;\n",
              "    &lt;script&gt;L_PREFER_CANVAS=false; L_NO_TOUCH=false; L_DISABLE_3D=false;&lt;/script&gt;\n",
              "    &lt;script src=&quot;https://cdn.jsdelivr.net/npm/leaflet@1.4.0/dist/leaflet.js&quot;&gt;&lt;/script&gt;\n",
              "    &lt;script src=&quot;https://code.jquery.com/jquery-1.12.4.min.js&quot;&gt;&lt;/script&gt;\n",
              "    &lt;script src=&quot;https://maxcdn.bootstrapcdn.com/bootstrap/3.2.0/js/bootstrap.min.js&quot;&gt;&lt;/script&gt;\n",
              "    &lt;script src=&quot;https://cdnjs.cloudflare.com/ajax/libs/Leaflet.awesome-markers/2.0.2/leaflet.awesome-markers.js&quot;&gt;&lt;/script&gt;\n",
              "    &lt;link rel=&quot;stylesheet&quot; href=&quot;https://cdn.jsdelivr.net/npm/leaflet@1.4.0/dist/leaflet.css&quot;/&gt;\n",
              "    &lt;link rel=&quot;stylesheet&quot; href=&quot;https://maxcdn.bootstrapcdn.com/bootstrap/3.2.0/css/bootstrap.min.css&quot;/&gt;\n",
              "    &lt;link rel=&quot;stylesheet&quot; href=&quot;https://maxcdn.bootstrapcdn.com/bootstrap/3.2.0/css/bootstrap-theme.min.css&quot;/&gt;\n",
              "    &lt;link rel=&quot;stylesheet&quot; href=&quot;https://maxcdn.bootstrapcdn.com/font-awesome/4.6.3/css/font-awesome.min.css&quot;/&gt;\n",
              "    &lt;link rel=&quot;stylesheet&quot; href=&quot;https://cdnjs.cloudflare.com/ajax/libs/Leaflet.awesome-markers/2.0.2/leaflet.awesome-markers.css&quot;/&gt;\n",
              "    &lt;link rel=&quot;stylesheet&quot; href=&quot;https://rawcdn.githack.com/python-visualization/folium/master/folium/templates/leaflet.awesome.rotate.css&quot;/&gt;\n",
              "    &lt;style&gt;html, body {width: 100%;height: 100%;margin: 0;padding: 0;}&lt;/style&gt;\n",
              "    &lt;style&gt;#map {position:absolute;top:0;bottom:0;right:0;left:0;}&lt;/style&gt;\n",
              "    \n",
              "    &lt;meta name=&quot;viewport&quot; content=&quot;width=device-width,\n",
              "        initial-scale=1.0, maximum-scale=1.0, user-scalable=no&quot; /&gt;\n",
              "    &lt;style&gt;#map_b3f20f843fd6e1577a11aa13c98a4461 {\n",
              "        position: relative;\n",
              "        width: 100.0%;\n",
              "        height: 100.0%;\n",
              "        left: 0.0%;\n",
              "        top: 0.0%;\n",
              "        }\n",
              "    &lt;/style&gt;\n",
              "&lt;/head&gt;\n",
              "&lt;body&gt;    \n",
              "    \n",
              "    &lt;div class=&quot;folium-map&quot; id=&quot;map_b3f20f843fd6e1577a11aa13c98a4461&quot; &gt;&lt;/div&gt;\n",
              "&lt;/body&gt;\n",
              "&lt;script&gt;    \n",
              "    \n",
              "    \n",
              "        var bounds = null;\n",
              "    \n",
              "\n",
              "    var map_b3f20f843fd6e1577a11aa13c98a4461 = L.map(\n",
              "        &#x27;map_b3f20f843fd6e1577a11aa13c98a4461&#x27;, {\n",
              "        center: [49.82756177743855, -98.10894012451173],\n",
              "        zoom: 12,\n",
              "        maxBounds: bounds,\n",
              "        layers: [],\n",
              "        worldCopyJump: false,\n",
              "        crs: L.CRS.EPSG3857,\n",
              "        zoomControl: true,\n",
              "        });\n",
              "\n",
              "\n",
              "    \n",
              "    var tile_layer_c935922aeaee32c64e269a3922188cfd = L.tileLayer(\n",
              "        &#x27;https://{s}.tile.openstreetmap.org/{z}/{x}/{y}.png&#x27;,\n",
              "        {\n",
              "        &quot;attribution&quot;: null,\n",
              "        &quot;detectRetina&quot;: false,\n",
              "        &quot;maxNativeZoom&quot;: 18,\n",
              "        &quot;maxZoom&quot;: 18,\n",
              "        &quot;minZoom&quot;: 0,\n",
              "        &quot;noWrap&quot;: false,\n",
              "        &quot;opacity&quot;: 1,\n",
              "        &quot;subdomains&quot;: &quot;abc&quot;,\n",
              "        &quot;tms&quot;: false\n",
              "}).addTo(map_b3f20f843fd6e1577a11aa13c98a4461);\n",
              "    var tile_layer_cc863341cf59f2634af3f6606c71b827 = L.tileLayer(\n",
              "        &#x27;https://earthengine.googleapis.com/v1alpha/projects/earthengine-legacy/maps/ec1f211bb625aad007b45a011b961245-6326ef2a3d0f253f8fd894c91a94da23/tiles/{z}/{x}/{y}&#x27;,\n",
              "        {\n",
              "        &quot;attribution&quot;: &quot;Map Data &amp;copy; &lt;a href=\\&quot;https://earthengine.google.com/\\&quot;&gt;Google Earth Engine&lt;/a&gt;&quot;,\n",
              "        &quot;detectRetina&quot;: false,\n",
              "        &quot;maxNativeZoom&quot;: 18,\n",
              "        &quot;maxZoom&quot;: 18,\n",
              "        &quot;minZoom&quot;: 0,\n",
              "        &quot;noWrap&quot;: false,\n",
              "        &quot;opacity&quot;: 1,\n",
              "        &quot;subdomains&quot;: &quot;abc&quot;,\n",
              "        &quot;tms&quot;: false\n",
              "}).addTo(map_b3f20f843fd6e1577a11aa13c98a4461);\n",
              "    var tile_layer_b05c51fdcce354cfeb101c81fa152461 = L.tileLayer(\n",
              "        &#x27;https://earthengine.googleapis.com/v1alpha/projects/earthengine-legacy/maps/10cc71bfc3b6c822413025e136a9ddee-d453a5d739838b2f149f4742287f37e8/tiles/{z}/{x}/{y}&#x27;,\n",
              "        {\n",
              "        &quot;attribution&quot;: &quot;Map Data &amp;copy; &lt;a href=\\&quot;https://earthengine.google.com/\\&quot;&gt;Google Earth Engine&lt;/a&gt;&quot;,\n",
              "        &quot;detectRetina&quot;: false,\n",
              "        &quot;maxNativeZoom&quot;: 18,\n",
              "        &quot;maxZoom&quot;: 18,\n",
              "        &quot;minZoom&quot;: 0,\n",
              "        &quot;noWrap&quot;: false,\n",
              "        &quot;opacity&quot;: 1,\n",
              "        &quot;subdomains&quot;: &quot;abc&quot;,\n",
              "        &quot;tms&quot;: false\n",
              "}).addTo(map_b3f20f843fd6e1577a11aa13c98a4461);\n",
              "    \n",
              "            var layer_control_c78d3a28bfd4d10f78641e3bbced3187 = {\n",
              "                base_layers : { &quot;openstreetmap&quot; : tile_layer_c935922aeaee32c64e269a3922188cfd, },\n",
              "                overlays : { &quot;crop2018&quot; : tile_layer_cc863341cf59f2634af3f6606c71b827,&quot;c_map&quot; : tile_layer_b05c51fdcce354cfeb101c81fa152461, }\n",
              "                };\n",
              "            L.control.layers(\n",
              "                layer_control_c78d3a28bfd4d10f78641e3bbced3187.base_layers,\n",
              "                layer_control_c78d3a28bfd4d10f78641e3bbced3187.overlays,\n",
              "                {position: &#x27;topright&#x27;,\n",
              "                 collapsed: true,\n",
              "                 autoZIndex: true\n",
              "                }).addTo(map_b3f20f843fd6e1577a11aa13c98a4461);\n",
              "            \n",
              "        \n",
              "&lt;/script&gt;\" style=\"position:absolute;width:100%;height:100%;left:0;top:0;border:none !important;\" allowfullscreen webkitallowfullscreen mozallowfullscreen></iframe></div></div>"
            ]
          },
          "metadata": {},
          "execution_count": 20
        }
      ]
    },
    {
      "cell_type": "markdown",
      "source": [
        " The major crops in the scene are soybeans (dark brown), oats (light brown), canola (light green), corn (light yellow) and winter wheat (dark gray). The wooded areas exhibit little change, while canola has evidently been extensively harvested in the interval.\n",
        "\n",
        " #### A note on _P_ values\n",
        "Because small _P_ values are indicative of change, it is tempting to say that, the larger the _P_ value, the higher the probability of no change. Or more explicitly, the _P_ value is itself the no change probability. Let's see why this is false. Below we choose a wooded area of the agricultural scene where few significant changes are to be expected and use it to subset the _P_ value image. Then we plot the histogram of the subset:"
      ],
      "metadata": {
        "id": "bzlAg0VMXylH"
      }
    },
    {
      "cell_type": "code",
      "source": [
        "geoJSON ={\n",
        "  \"type\": \"FeatureCollection\",\n",
        "  \"features\": [\n",
        "    {\n",
        "      \"type\": \"Feature\",\n",
        "      \"properties\": {},\n",
        "      \"geometry\": {\n",
        "        \"type\": \"Polygon\",\n",
        "        \"coordinates\": [\n",
        "          [\n",
        "            [\n",
        "              -98.18550109863281,\n",
        "              49.769735012247885\n",
        "            ],\n",
        "            [\n",
        "              -98.13949584960938,\n",
        "              49.769735012247885\n",
        "            ],\n",
        "            [\n",
        "              -98.13949584960938,\n",
        "              49.798109268622\n",
        "            ],\n",
        "            [\n",
        "              -98.18550109863281,\n",
        "              49.798109268622\n",
        "            ],\n",
        "            [\n",
        "              -98.18550109863281,\n",
        "              49.769735012247885\n",
        "            ]\n",
        "          ]\n",
        "        ]\n",
        "      }\n",
        "    }\n",
        "  ]\n",
        "}\n",
        "coords = geoJSON['features'][0]['geometry']['coordinates']\n",
        "aoi1_sub = ee.Geometry.Polygon(coords)\n",
        "hist = p_value.reduceRegion(ee.Reducer.fixedHistogram(0, 1, 100), aoi1_sub).get('constant').getInfo()\n",
        "a = np.array(hist)\n",
        "x = a[:,0]\n",
        "y = a[:,1]/np.sum(a[:,1])\n",
        "plt.plot(x, y, '.b', label='p-value')\n",
        "plt.ylim(0, 0.05)\n",
        "plt.grid()\n",
        "plt.legend()\n",
        "plt.show()"
      ],
      "metadata": {
        "colab": {
          "base_uri": "https://localhost:8080/",
          "height": 269
        },
        "id": "N16R_57oXt9S",
        "outputId": "e62f51e3-af7c-480e-e78b-d30033a6e912"
      },
      "execution_count": 21,
      "outputs": [
        {
          "output_type": "display_data",
          "data": {
            "text/plain": [
              "<Figure size 432x288 with 1 Axes>"
            ],
            "image/png": "[encoded data removed]"
          },
          "metadata": {
            "needs_background": "light"
          }
        }
      ]
    },
    {
      "cell_type": "markdown",
      "source": [
        "So the P values of no-change measurements are uniformly distributed over  [0,1]  (the excess of small P values at the left can be ascribed to genuine changes within the polygon). A large P value is no more indicative of no change than a small one. Of course it has to be this way. When, for example, we set a significance level of 5%, then the fraction of false positives, i.e., the fraction of P values smaller than 0.05 given  𝐻0 , must also be 5%. This accounts for the noisy appearance of the P value image in the no-change regions.\n",
        "\n",
        "#### Change direction: the Loewner order\n",
        "What about the direction of change in the bivariate case? This is less clear, as we can have the situation where the VV intensity gets larger and the VH smaller from time $t_1$ to $t_2$, or vice versa. When we are dealing with the C2 covariance matrix representation of SAR imagery, see Eq. (2.13), a characterization of change can be made as follows [(Nielsen et al. (2019))](https://ieeexplore.ieee.org/document/8736751): For each significantly changed pixel, we determine the difference $C2_{t_2}-C2_{t_1}$ and examine its so-called _definiteness_, also known as the _Loewner order_ of the change. A matrix is said to be _positive definite_ if all of its eigenvalues are positive, _negative definite_ if they are all negative, otherwise _indefinite_. In the case of the $2\\times 2$ diagonal matrices that we are concerned with the eigenvalues are just the two diagonal elements themselves, so determining the Loewner order is trivial. For full $2\\times 2$ dual pol or $3\\times 3$ quad pol SAR imagery, devising an efficient way to determine the Loewner order is more difficult, see [Nielsen (2019)](https://ieeexplore.ieee.org/document/8913617).\n",
        "\n",
        "So let's include the Loewner order in our change map:"
      ],
      "metadata": {
        "id": "Gr0_D2rsYJua"
      }
    },
    {
      "cell_type": "code",
      "source": [
        "c_map = p_value.multiply(0).where(p_value.lt(0.01), 1)\n",
        "diff = im2.subtract(im1)\n",
        "d_map = c_map.multiply(0)                    # Initialize the direction map to zero.\n",
        "d_map = d_map.where(det(diff).gt(0), 2)      # All pos or neg def diffs are now labeled 2.\n",
        "d_map = d_map.where(diff.select(0).gt(0), 3) # Re-label pos def (and label some indef) to 3.\n",
        "d_map = d_map.where(det(diff).lt(0), 1)      # Label all indef to 1.\n",
        "c_map = c_map.multiply(d_map)                # Re-label the c_map, 0*X = 0, 1*1 = 1, 1*2= 2, 1*3 = 3."
      ],
      "metadata": {
        "id": "1whXB7JPX52n"
      },
      "execution_count": 22,
      "outputs": []
    },
    {
      "cell_type": "markdown",
      "source": [
        "Now we display the changes, with positive definite red, negative definite blue, and indefinite yellow:"
      ],
      "metadata": {
        "id": "SWHRROxwYTvD"
      }
    },
    {
      "cell_type": "code",
      "source": [
        "mp = folium.Map(location=location, zoom_start=12)\n",
        "mp.add_ee_layer(crop2018, {min: 0, max: 255}, 'crop2018')\n",
        "mp.add_ee_layer(\n",
        "    c_map.updateMask(c_map.gt(0)), {\n",
        "        'min': 0,\n",
        "        'max': 3,\n",
        "        'palette': ['black', 'yellow', 'blue', 'red']\n",
        "    }, 'c_map')\n",
        "mp.add_child(folium.LayerControl())"
      ],
      "metadata": {
        "colab": {
          "base_uri": "https://localhost:8080/",
          "height": 808
        },
        "id": "BVp4CcbVYQ1R",
        "outputId": "939dd504-5a2d-4a00-a388-38b664d3a5a5"
      },
      "execution_count": 23,
      "outputs": [
        {
          "output_type": "execute_result",
          "data": {
            "text/plain": [
              "<folium.folium.Map at 0x7f6da6d7a8d0>"
            ],
            "text/html": [
              "<div style=\"width:100%;\"><div style=\"position:relative;width:100%;height:0;padding-bottom:60%;\"><span style=\"color:#565656\">Make this Notebook Trusted to load map: File -> Trust Notebook</span><iframe srcdoc=\"&lt;!DOCTYPE html&gt;\n",
              "&lt;head&gt;    \n",
              "    &lt;meta http-equiv=&quot;content-type&quot; content=&quot;text/html; charset=UTF-8&quot; /&gt;\n",
              "    &lt;script&gt;L_PREFER_CANVAS=false; L_NO_TOUCH=false; L_DISABLE_3D=false;&lt;/script&gt;\n",
              "    &lt;script src=&quot;https://cdn.jsdelivr.net/npm/leaflet@1.4.0/dist/leaflet.js&quot;&gt;&lt;/script&gt;\n",
              "    &lt;script src=&quot;https://code.jquery.com/jquery-1.12.4.min.js&quot;&gt;&lt;/script&gt;\n",
              "    &lt;script src=&quot;https://maxcdn.bootstrapcdn.com/bootstrap/3.2.0/js/bootstrap.min.js&quot;&gt;&lt;/script&gt;\n",
              "    &lt;script src=&quot;https://cdnjs.cloudflare.com/ajax/libs/Leaflet.awesome-markers/2.0.2/leaflet.awesome-markers.js&quot;&gt;&lt;/script&gt;\n",
              "    &lt;link rel=&quot;stylesheet&quot; href=&quot;https://cdn.jsdelivr.net/npm/leaflet@1.4.0/dist/leaflet.css&quot;/&gt;\n",
              "    &lt;link rel=&quot;stylesheet&quot; href=&quot;https://maxcdn.bootstrapcdn.com/bootstrap/3.2.0/css/bootstrap.min.css&quot;/&gt;\n",
              "    &lt;link rel=&quot;stylesheet&quot; href=&quot;https://maxcdn.bootstrapcdn.com/bootstrap/3.2.0/css/bootstrap-theme.min.css&quot;/&gt;\n",
              "    &lt;link rel=&quot;stylesheet&quot; href=&quot;https://maxcdn.bootstrapcdn.com/font-awesome/4.6.3/css/font-awesome.min.css&quot;/&gt;\n",
              "    &lt;link rel=&quot;stylesheet&quot; href=&quot;https://cdnjs.cloudflare.com/ajax/libs/Leaflet.awesome-markers/2.0.2/leaflet.awesome-markers.css&quot;/&gt;\n",
              "    &lt;link rel=&quot;stylesheet&quot; href=&quot;https://rawcdn.githack.com/python-visualization/folium/master/folium/templates/leaflet.awesome.rotate.css&quot;/&gt;\n",
              "    &lt;style&gt;html, body {width: 100%;height: 100%;margin: 0;padding: 0;}&lt;/style&gt;\n",
              "    &lt;style&gt;#map {position:absolute;top:0;bottom:0;right:0;left:0;}&lt;/style&gt;\n",
              "    \n",
              "    &lt;meta name=&quot;viewport&quot; content=&quot;width=device-width,\n",
              "        initial-scale=1.0, maximum-scale=1.0, user-scalable=no&quot; /&gt;\n",
              "    &lt;style&gt;#map_ad7db730ac68c6e3bb1a45189ba56f3d {\n",
              "        position: relative;\n",
              "        width: 100.0%;\n",
              "        height: 100.0%;\n",
              "        left: 0.0%;\n",
              "        top: 0.0%;\n",
              "        }\n",
              "    &lt;/style&gt;\n",
              "&lt;/head&gt;\n",
              "&lt;body&gt;    \n",
              "    \n",
              "    &lt;div class=&quot;folium-map&quot; id=&quot;map_ad7db730ac68c6e3bb1a45189ba56f3d&quot; &gt;&lt;/div&gt;\n",
              "&lt;/body&gt;\n",
              "&lt;script&gt;    \n",
              "    \n",
              "    \n",
              "        var bounds = null;\n",
              "    \n",
              "\n",
              "    var map_ad7db730ac68c6e3bb1a45189ba56f3d = L.map(\n",
              "        &#x27;map_ad7db730ac68c6e3bb1a45189ba56f3d&#x27;, {\n",
              "        center: [49.82756177743855, -98.10894012451173],\n",
              "        zoom: 12,\n",
              "        maxBounds: bounds,\n",
              "        layers: [],\n",
              "        worldCopyJump: false,\n",
              "        crs: L.CRS.EPSG3857,\n",
              "        zoomControl: true,\n",
              "        });\n",
              "\n",
              "\n",
              "    \n",
              "    var tile_layer_712aa52d99b2e8a9fcb28729ebe810cd = L.tileLayer(\n",
              "        &#x27;https://{s}.tile.openstreetmap.org/{z}/{x}/{y}.png&#x27;,\n",
              "        {\n",
              "        &quot;attribution&quot;: null,\n",
              "        &quot;detectRetina&quot;: false,\n",
              "        &quot;maxNativeZoom&quot;: 18,\n",
              "        &quot;maxZoom&quot;: 18,\n",
              "        &quot;minZoom&quot;: 0,\n",
              "        &quot;noWrap&quot;: false,\n",
              "        &quot;opacity&quot;: 1,\n",
              "        &quot;subdomains&quot;: &quot;abc&quot;,\n",
              "        &quot;tms&quot;: false\n",
              "}).addTo(map_ad7db730ac68c6e3bb1a45189ba56f3d);\n",
              "    var tile_layer_0e1051e54be2c12f5b6b5e842a125352 = L.tileLayer(\n",
              "        &#x27;https://earthengine.googleapis.com/v1alpha/projects/earthengine-legacy/maps/ec1f211bb625aad007b45a011b961245-8dc072da02d1dedf2ca199fc3339f86f/tiles/{z}/{x}/{y}&#x27;,\n",
              "        {\n",
              "        &quot;attribution&quot;: &quot;Map Data &amp;copy; &lt;a href=\\&quot;https://earthengine.google.com/\\&quot;&gt;Google Earth Engine&lt;/a&gt;&quot;,\n",
              "        &quot;detectRetina&quot;: false,\n",
              "        &quot;maxNativeZoom&quot;: 18,\n",
              "        &quot;maxZoom&quot;: 18,\n",
              "        &quot;minZoom&quot;: 0,\n",
              "        &quot;noWrap&quot;: false,\n",
              "        &quot;opacity&quot;: 1,\n",
              "        &quot;subdomains&quot;: &quot;abc&quot;,\n",
              "        &quot;tms&quot;: false\n",
              "}).addTo(map_ad7db730ac68c6e3bb1a45189ba56f3d);\n",
              "    var tile_layer_716bb3fe2b729182e6a7a260a365569d = L.tileLayer(\n",
              "        &#x27;https://earthengine.googleapis.com/v1alpha/projects/earthengine-legacy/maps/d88adf65c3d4d0a43823da7a2839d95c-35c7949777c4409ffbdbd26b1f0f9188/tiles/{z}/{x}/{y}&#x27;,\n",
              "        {\n",
              "        &quot;attribution&quot;: &quot;Map Data &amp;copy; &lt;a href=\\&quot;https://earthengine.google.com/\\&quot;&gt;Google Earth Engine&lt;/a&gt;&quot;,\n",
              "        &quot;detectRetina&quot;: false,\n",
              "        &quot;maxNativeZoom&quot;: 18,\n",
              "        &quot;maxZoom&quot;: 18,\n",
              "        &quot;minZoom&quot;: 0,\n",
              "        &quot;noWrap&quot;: false,\n",
              "        &quot;opacity&quot;: 1,\n",
              "        &quot;subdomains&quot;: &quot;abc&quot;,\n",
              "        &quot;tms&quot;: false\n",
              "}).addTo(map_ad7db730ac68c6e3bb1a45189ba56f3d);\n",
              "    \n",
              "            var layer_control_57f92db8ffe0997c04b24e78b173b17e = {\n",
              "                base_layers : { &quot;openstreetmap&quot; : tile_layer_712aa52d99b2e8a9fcb28729ebe810cd, },\n",
              "                overlays : { &quot;crop2018&quot; : tile_layer_0e1051e54be2c12f5b6b5e842a125352,&quot;c_map&quot; : tile_layer_716bb3fe2b729182e6a7a260a365569d, }\n",
              "                };\n",
              "            L.control.layers(\n",
              "                layer_control_57f92db8ffe0997c04b24e78b173b17e.base_layers,\n",
              "                layer_control_57f92db8ffe0997c04b24e78b173b17e.overlays,\n",
              "                {position: &#x27;topright&#x27;,\n",
              "                 collapsed: true,\n",
              "                 autoZIndex: true\n",
              "                }).addTo(map_ad7db730ac68c6e3bb1a45189ba56f3d);\n",
              "            \n",
              "        \n",
              "&lt;/script&gt;\" style=\"position:absolute;width:100%;height:100%;left:0;top:0;border:none !important;\" allowfullscreen webkitallowfullscreen mozallowfullscreen></iframe></div></div>"
            ]
          },
          "metadata": {},
          "execution_count": 23
        }
      ]
    },
    {
      "cell_type": "markdown",
      "source": [
        "The more or less compact blue changes indicate a decrease in reflectivity in both VV and VH bands, and correspond to crop harvesting (especially canola)."
      ],
      "metadata": {
        "id": "KNoY_M4aYc_N"
      }
    },
    {
      "cell_type": "code",
      "source": [
        ""
      ],
      "metadata": {
        "id": "MOYM07zTYXKD"
      },
      "execution_count": null,
      "outputs": []
    }
  ]
}